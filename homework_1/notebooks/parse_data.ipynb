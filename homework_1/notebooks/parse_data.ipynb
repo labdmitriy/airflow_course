{
 "cells": [
  {
   "cell_type": "code",
   "execution_count": 1,
   "metadata": {},
   "outputs": [],
   "source": [
    "from pathlib import Path\n",
    "from operator import itemgetter, add\n",
    "from itertools import product, chain, cycle, zip_longest\n",
    "from functools import reduce\n",
    "\n",
    "import requests\n",
    "\n",
    "import pandas as pd\n",
    "\n",
    "import matplotlib.pyplot as plt\n",
    "%matplotlib inline"
   ]
  },
  {
   "cell_type": "code",
   "execution_count": null,
   "metadata": {},
   "outputs": [],
   "source": [
    "get_cases = itemgetter('cases')\n",
    "get_cured = itemgetter('cured')\n",
    "get_deaths = itemgetter('deaths')\n",
    "get_value = itemgetter('v')\n",
    "\n",
    "def concat_cols(data):\n",
    "    return (data[0],) + data[1]\n",
    "\n",
    "def parse_region_data(data):\n",
    "    region = data['info']['name']\n",
    "\n",
    "    if isinstance(get_cases(data)[0], dict):\n",
    "        counts = zip_longest(map(get_value, get_cases(data)),\n",
    "                             map(get_value, get_cured(data)),\n",
    "                             map(get_value, get_deaths(data)), fillvalue=0)\n",
    "    else:\n",
    "        counts = zip_longest(get_cases(data),\n",
    "                             get_cured(data),\n",
    "                             get_deaths(data), fillvalue=0)\n",
    "        \n",
    "    parsed_data = product([region], counts)\n",
    "    parsed_data = map(concat_cols, parsed_data)\n",
    "    parsed_data = parsed_data\n",
    "    \n",
    "    return parsed_data\n",
    "\n",
    "def parse_russian_data(data):\n",
    "    russian_data = data['russia_stat_struct']\n",
    "    \n",
    "    dates = russian_data['dates']\n",
    "    region_data = russian_data['data'].values()\n",
    "    \n",
    "    data_size = len(region_data)\n",
    "    all_dates = cycle(dates)\n",
    "    \n",
    "    parsed_data = map(parse_region_data, region_data)\n",
    "    parsed_data = chain.from_iterable(parsed_data)\n",
    "    \n",
    "    parsed_data = zip(all_dates, parsed_data)\n",
    "    parsed_data = map(concat_cols, parsed_data)\n",
    "    \n",
    "    return parsed_data\n",
    "\n",
    "def combine_results(acc, nxt):\n",
    "    key = nxt[0]\n",
    "    values = nxt[1]\n",
    "    \n",
    "    result = product([key], values)\n",
    "    result = map(concat_cols, result)\n",
    "    \n",
    "    return acc | set(result)\n",
    "\n",
    "def download_file(url):\n",
    "    r = requests.get(url)\n",
    "    r.raise_for_status()\n",
    "\n",
    "    data = r.json()\n",
    "    \n",
    "    return data\n",
    "\n",
    "def combine_data(results):\n",
    "    full_results = reduce(combine_results, results.items(), set())\n",
    "    full_results = sorted(full_results, key=itemgetter(0, 1, 2))\n",
    "    \n",
    "    return full_results\n",
    "\n",
    "def calculate_stats(data):\n",
    "    columns=['file_num', 'date', 'region', 'infected', 'recovered', 'dead']\n",
    "    \n",
    "    stats_df = pd.DataFrame.from_records(data, columns=columns, index='file_num')\n",
    "    stats_df = stats_df[stats_df['region'] != 'Россия']\n",
    "    stats_df = stats_df.groupby(['date', 'region'], as_index=False).last()\n",
    "    \n",
    "    return stats_df \n",
    "\n",
    "def save_data(df, file_path):\n",
    "    df.to_csv(file_path, index=False)\n",
    "\n",
    "def gather_russian_stats(file_path, history_type='standard'):\n",
    "    history_types = {\n",
    "        'standard':'https://yastat.net/s3/milab/2020/covid19-stat/data/data_struct_{num}.json?v=timestamp',\n",
    "        'deep': 'https://yastat.net/s3/milab/2020/covid19-stat/data/deep_history_struct_{num}.json?v=1591117446'\n",
    "    }\n",
    "    \n",
    "    url_template = history_types[history_type]\n",
    "\n",
    "    i = 1\n",
    "    results = {}\n",
    "\n",
    "    while True:\n",
    "        print(str(i))\n",
    "\n",
    "        url = url_template.format(num=i)\n",
    "        try:\n",
    "            data = download_file(url)\n",
    "        except requests.exceptions.HTTPError as err:\n",
    "            print(err)\n",
    "            break\n",
    "\n",
    "        try:\n",
    "            results[i] = tuple(parse_russian_data(data))\n",
    "        except KeyError as err:\n",
    "            print('Russian data is not found', err)\n",
    "\n",
    "        i += 1\n",
    "    \n",
    "    full_results = combine_data(results)\n",
    "    stats_df = calculate_stats(full_results)\n",
    "    save_data(stats_df, file_path)\n",
    "    \n",
    "    return stats_df"
   ]
  },
  {
   "cell_type": "code",
   "execution_count": null,
   "metadata": {},
   "outputs": [],
   "source": [
    "file_path = Path('../data/russian_stats.csv')\n",
    "stats_df = gather_russian_stats(file_path, history_type='deep')"
   ]
  },
  {
   "cell_type": "code",
   "execution_count": 5,
   "metadata": {},
   "outputs": [
    {
     "data": {
      "text/plain": [
       "[]"
      ]
     },
     "execution_count": 5,
     "metadata": {},
     "output_type": "execute_result"
    },
    {
     "data": {
      "image/png": "[encoded data removed]",
      "text/plain": [
       "<Figure size 720x360 with 1 Axes>"
      ]
     },
     "metadata": {
      "needs_background": "light"
     },
     "output_type": "display_data"
    }
   ],
   "source": [
    "fig, axes = plt.subplots(figsize=(10, 5))\n",
    "stats_df.set_index('date').groupby('region')['infected'].plot(ax=axes)\n",
    "plt.plot()"
   ]
  },
  {
   "cell_type": "code",
   "execution_count": null,
   "metadata": {},
   "outputs": [],
   "source": []
  }
 ],
 "metadata": {
  "kernelspec": {
   "display_name": "py37",
   "language": "python",
   "name": "py37"
  },
  "language_info": {
   "codemirror_mode": {
    "name": "ipython",
    "version": 3
   },
   "file_extension": ".py",
   "mimetype": "text/x-python",
   "name": "python",
   "nbconvert_exporter": "python",
   "pygments_lexer": "ipython3",
   "version": "3.7.7"
  }
 },
 "nbformat": 4,
 "nbformat_minor": 4
}
