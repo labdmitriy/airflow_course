{
 "cells": [
  {
   "cell_type": "code",
   "execution_count": 8,
   "metadata": {},
   "outputs": [],
   "source": [
    "from operator import itemgetter, add\n",
    "from itertools import product, chain, cycle, zip_longest\n",
    "from functools import reduce\n",
    "\n",
    "import requests\n",
    "\n",
    "import pandas as pd"
   ]
  },
  {
   "cell_type": "code",
   "execution_count": 695,
   "metadata": {},
   "outputs": [
    {
     "data": {
      "text/plain": [
       "dict_keys(['russia_stat_struct', 'world_stat_struct', 'isolation_stat_struct', 'top_cases_struct', 'all_russia_bars_struct', 'all_world_bars_struct', 'country_comp_struct_v2'])"
      ]
     },
     "execution_count": 695,
     "metadata": {},
     "output_type": "execute_result"
    }
   ],
   "source": [
    "URL_TEST = 'https://yastat.net/s3/milab/2020/covid19-stat/data/data_struct_1.json?v=timestamp'\n",
    "\n",
    "r = requests.get(URL_TEST)\n",
    "r.raise_for_status()\n",
    "\n",
    "resp = r.json()\n",
    "resp.keys()"
   ]
  },
  {
   "cell_type": "code",
   "execution_count": 696,
   "metadata": {},
   "outputs": [
    {
     "data": {
      "text/plain": [
       "(31, 86)"
      ]
     },
     "execution_count": 696,
     "metadata": {},
     "output_type": "execute_result"
    }
   ],
   "source": [
    "len(resp['russia_stat_struct']['dates']), len(resp['russia_stat_struct']['data'])"
   ]
  },
  {
   "cell_type": "raw",
   "metadata": {},
   "source": [
    "resp['russia_stat_struct']"
   ]
  },
  {
   "cell_type": "code",
   "execution_count": null,
   "metadata": {},
   "outputs": [],
   "source": []
  },
  {
   "cell_type": "code",
   "execution_count": 588,
   "metadata": {},
   "outputs": [],
   "source": [
    "URL_TEMPLATE = 'https://yastat.net/s3/milab/2020/covid19-stat/data/data_struct_{num}.json?v=timestamp'"
   ]
  },
  {
   "cell_type": "code",
   "execution_count": 458,
   "metadata": {},
   "outputs": [
    {
     "name": "stdout",
     "output_type": "stream",
     "text": [
      "https://yastat.net/s3/milab/2020/covid19-stat/data/data_struct_1.json?v=timestamp 1\n",
      "https://yastat.net/s3/milab/2020/covid19-stat/data/data_struct_2.json?v=timestamp 2\n",
      "https://yastat.net/s3/milab/2020/covid19-stat/data/data_struct_3.json?v=timestamp 3\n",
      "https://yastat.net/s3/milab/2020/covid19-stat/data/data_struct_4.json?v=timestamp 4\n",
      "https://yastat.net/s3/milab/2020/covid19-stat/data/data_struct_5.json?v=timestamp 5\n",
      "https://yastat.net/s3/milab/2020/covid19-stat/data/data_struct_6.json?v=timestamp 6\n",
      "https://yastat.net/s3/milab/2020/covid19-stat/data/data_struct_7.json?v=timestamp 7\n",
      "https://yastat.net/s3/milab/2020/covid19-stat/data/data_struct_8.json?v=timestamp 8\n",
      "https://yastat.net/s3/milab/2020/covid19-stat/data/data_struct_9.json?v=timestamp 9\n",
      "https://yastat.net/s3/milab/2020/covid19-stat/data/data_struct_10.json?v=timestamp 10\n",
      "https://yastat.net/s3/milab/2020/covid19-stat/data/data_struct_11.json?v=timestamp 11\n",
      "https://yastat.net/s3/milab/2020/covid19-stat/data/data_struct_12.json?v=timestamp 12\n",
      "https://yastat.net/s3/milab/2020/covid19-stat/data/data_struct_13.json?v=timestamp 13\n",
      "https://yastat.net/s3/milab/2020/covid19-stat/data/data_struct_14.json?v=timestamp 14\n"
     ]
    }
   ],
   "source": [
    "i = 1\n",
    "\n",
    "while i <= 14:\n",
    "    url = URL_TEMPLATE.format(num=i)\n",
    "    print(url, i)\n",
    "    i += 1"
   ]
  },
  {
   "cell_type": "code",
   "execution_count": 459,
   "metadata": {},
   "outputs": [
    {
     "name": "stdout",
     "output_type": "stream",
     "text": [
      "14 404 Client Error: Not Found for url: https://yastat.net/s3/milab/2020/covid19-stat/data/data_struct_14.json?v=timestamp\n"
     ]
    }
   ],
   "source": [
    "i = 12\n",
    "results = {}\n",
    "\n",
    "while True:\n",
    "    url = URL_TEMPLATE.format(num=i)\n",
    "    r = requests.get(url)\n",
    "    \n",
    "    try:\n",
    "        r.raise_for_status()\n",
    "    except requests.exceptions.HTTPError as err:\n",
    "        print(i, err)\n",
    "        break\n",
    "        \n",
    "    results[i] = r.json()\n",
    "    i += 1"
   ]
  },
  {
   "cell_type": "code",
   "execution_count": 460,
   "metadata": {},
   "outputs": [
    {
     "name": "stdout",
     "output_type": "stream",
     "text": [
      "12 dict_keys(['dates', 'data'])\n",
      "Russia is not found 13 'russia_stat_struct'\n"
     ]
    }
   ],
   "source": [
    "for key, data in results.items():\n",
    "    try:\n",
    "        print(key, data['russia_stat_struct'].keys())\n",
    "    except KeyError as err:\n",
    "        print('Russia is not found', key, err)"
   ]
  },
  {
   "cell_type": "raw",
   "metadata": {},
   "source": [
    "for data in results[12]['russia_stat_struct']['data'].values():\n",
    "    print(data['info'])"
   ]
  },
  {
   "cell_type": "raw",
   "metadata": {},
   "source": [
    "test_dates = results[]['russia_stat_struct']['dates']\n",
    "test_result = results[12]['russia_stat_struct']['data']['1']\n",
    "test_result"
   ]
  },
  {
   "cell_type": "raw",
   "metadata": {},
   "source": []
  },
  {
   "cell_type": "code",
   "execution_count": 705,
   "metadata": {},
   "outputs": [],
   "source": [
    "from itertools import zip_longest"
   ]
  },
  {
   "cell_type": "code",
   "execution_count": 9,
   "metadata": {},
   "outputs": [],
   "source": [
    "get_cases = itemgetter('cases')\n",
    "get_cured = itemgetter('cured')\n",
    "get_deaths = itemgetter('deaths')\n",
    "get_value = itemgetter('v')\n",
    "\n",
    "def concat_cols(data):\n",
    "    return (data[0],) + data[1]\n",
    "\n",
    "def parse_region_data(data):\n",
    "    region = data['info']['name']\n",
    "#     print(data)\n",
    "#     print(get_cases(data))\n",
    "    \n",
    "    if isinstance(get_cases(data)[0], dict):\n",
    "#         print('New Format')\n",
    "        counts = zip_longest(map(get_value, get_cases(data)),\n",
    "                             map(get_value, get_cured(data)),\n",
    "                             map(get_value, get_deaths(data)), fillvalue=0)\n",
    "    else:\n",
    "#         print('Old Format')\n",
    "        counts = zip_longest(get_cases(data),\n",
    "                             get_cured(data),\n",
    "                             get_deaths(data), fillvalue=0)\n",
    "#     print(list(counts))\n",
    "        \n",
    "    parsed_data = product([region], counts)\n",
    "    parsed_data = map(concat_cols, parsed_data)\n",
    "    parsed_data = parsed_data\n",
    "    \n",
    "    return parsed_data\n",
    "\n",
    "def parse_russian_data(data):\n",
    "    russian_data = data['russia_stat_struct']\n",
    "    \n",
    "    dates = russian_data['dates']\n",
    "    region_data = russian_data['data'].values()\n",
    "    \n",
    "    data_size = len(region_data)\n",
    "    all_dates = cycle(dates)\n",
    "    \n",
    "    parsed_data = map(parse_region_data, region_data)\n",
    "    parsed_data = chain.from_iterable(parsed_data)\n",
    "    \n",
    "    parsed_data = zip(all_dates, parsed_data)\n",
    "    parsed_data = map(concat_cols, parsed_data)\n",
    "    \n",
    "    return parsed_data\n",
    "\n",
    "# def combine_results(acc, nxt):\n",
    "#     return acc | set(nxt)\n",
    "\n",
    "def combine_results(acc, nxt):\n",
    "    key = nxt[0]\n",
    "    values = nxt[1]\n",
    "    \n",
    "    result = product([key], values)\n",
    "    result = map(concat_cols, result)\n",
    "    \n",
    "    return acc | set(result)"
   ]
  },
  {
   "cell_type": "raw",
   "metadata": {},
   "source": [
    "URL_TEST = 'https://yastat.net/s3/milab/2020/covid19-stat/data/data_struct_2.json?v=timestamp'\n",
    "\n",
    "r = requests.get(URL_TEST)\n",
    "r.raise_for_status()\n",
    "\n",
    "resp = r.json()\n",
    "\n",
    "test_data = list(resp['russia_stat_struct']['data'].values())[6]\n",
    "# test_data"
   ]
  },
  {
   "cell_type": "raw",
   "metadata": {},
   "source": [
    "list(parse_region_data(test_data))"
   ]
  },
  {
   "cell_type": "code",
   "execution_count": 12,
   "metadata": {},
   "outputs": [],
   "source": [
    "URL_TEMPLATE = 'https://yastat.net/s3/milab/2020/covid19-stat/data/data_struct_{num}.json?v=timestamp'\n",
    "URL_TEMPLATE_2 = 'https://yastat.net/s3/milab/2020/covid19-stat/data/deep_history_struct_{num}.json'"
   ]
  },
  {
   "cell_type": "code",
   "execution_count": 13,
   "metadata": {},
   "outputs": [
    {
     "name": "stdout",
     "output_type": "stream",
     "text": [
      "1\n",
      "2\n",
      "3\n",
      "404 Client Error: Not Found for url: https://yastat.net/s3/milab/2020/covid19-stat/data/deep_history_struct_3.json\n"
     ]
    }
   ],
   "source": [
    "i = 1\n",
    "results = {}\n",
    "\n",
    "while True:\n",
    "    print(str(i))\n",
    "    \n",
    "    url = URL_TEMPLATE_2.format(num=i)\n",
    "    r = requests.get(url)\n",
    "    \n",
    "    try:\n",
    "        r.raise_for_status()\n",
    "    except requests.exceptions.HTTPError as err:\n",
    "        print(err)\n",
    "        break\n",
    "    \n",
    "    data = r.json()\n",
    "        \n",
    "    try:\n",
    "        results[i] = tuple(parse_russian_data(data))\n",
    "    except KeyError as err:\n",
    "        print('Russian data is not found', err)\n",
    "    \n",
    "    i += 1\n",
    "    \n",
    "#results"
   ]
  },
  {
   "cell_type": "code",
   "execution_count": 16,
   "metadata": {},
   "outputs": [
    {
     "data": {
      "text/plain": [
       "15996"
      ]
     },
     "execution_count": 16,
     "metadata": {},
     "output_type": "execute_result"
    }
   ],
   "source": [
    "full_results = reduce(combine_results, results.items(), set())\n",
    "full_results = sorted(full_results, key=itemgetter(0, 1, 2))\n",
    "len(full_results)"
   ]
  },
  {
   "cell_type": "raw",
   "metadata": {},
   "source": [
    "len(full_results) / 86"
   ]
  },
  {
   "cell_type": "raw",
   "metadata": {},
   "source": [
    "period_range = set(map(itemgetter(0), full_results))\n",
    "min_date = min(period_range)\n",
    "max_date = max(period_range)\n",
    "min_date, max_date, len(period_range)"
   ]
  },
  {
   "cell_type": "raw",
   "metadata": {},
   "source": [
    "from datetime import datetime"
   ]
  },
  {
   "cell_type": "raw",
   "metadata": {},
   "source": [
    "datetime.strptime(max_date, '%Y-%m-%d') - datetime.strptime(min_date, '%Y-%m-%d')"
   ]
  },
  {
   "cell_type": "code",
   "execution_count": null,
   "metadata": {},
   "outputs": [],
   "source": []
  },
  {
   "cell_type": "code",
   "execution_count": 19,
   "metadata": {},
   "outputs": [
    {
     "data": {
      "text/html": [
       "<div>\n",
       "<style scoped>\n",
       "    .dataframe tbody tr th:only-of-type {\n",
       "        vertical-align: middle;\n",
       "    }\n",
       "\n",
       "    .dataframe tbody tr th {\n",
       "        vertical-align: top;\n",
       "    }\n",
       "\n",
       "    .dataframe thead th {\n",
       "        text-align: right;\n",
       "    }\n",
       "</style>\n",
       "<table border=\"1\" class=\"dataframe\">\n",
       "  <thead>\n",
       "    <tr style=\"text-align: right;\">\n",
       "      <th></th>\n",
       "      <th>date</th>\n",
       "      <th>region</th>\n",
       "      <th>infected</th>\n",
       "      <th>recovered</th>\n",
       "      <th>dead</th>\n",
       "    </tr>\n",
       "    <tr>\n",
       "      <th>file_num</th>\n",
       "      <th></th>\n",
       "      <th></th>\n",
       "      <th></th>\n",
       "      <th></th>\n",
       "      <th></th>\n",
       "    </tr>\n",
       "  </thead>\n",
       "  <tbody>\n",
       "    <tr>\n",
       "      <th>2</th>\n",
       "      <td>2020-06-01</td>\n",
       "      <td>Тверская область</td>\n",
       "      <td>1650</td>\n",
       "      <td>1087</td>\n",
       "      <td>22</td>\n",
       "    </tr>\n",
       "    <tr>\n",
       "      <th>2</th>\n",
       "      <td>2020-06-01</td>\n",
       "      <td>Томская область</td>\n",
       "      <td>716</td>\n",
       "      <td>326</td>\n",
       "      <td>11</td>\n",
       "    </tr>\n",
       "    <tr>\n",
       "      <th>2</th>\n",
       "      <td>2020-06-01</td>\n",
       "      <td>Тульская область</td>\n",
       "      <td>3968</td>\n",
       "      <td>1815</td>\n",
       "      <td>36</td>\n",
       "    </tr>\n",
       "    <tr>\n",
       "      <th>2</th>\n",
       "      <td>2020-06-01</td>\n",
       "      <td>Тюменская область</td>\n",
       "      <td>1661</td>\n",
       "      <td>818</td>\n",
       "      <td>8</td>\n",
       "    </tr>\n",
       "    <tr>\n",
       "      <th>2</th>\n",
       "      <td>2020-06-01</td>\n",
       "      <td>Удмуртская Республика</td>\n",
       "      <td>682</td>\n",
       "      <td>412</td>\n",
       "      <td>12</td>\n",
       "    </tr>\n",
       "    <tr>\n",
       "      <th>...</th>\n",
       "      <td>...</td>\n",
       "      <td>...</td>\n",
       "      <td>...</td>\n",
       "      <td>...</td>\n",
       "      <td>...</td>\n",
       "    </tr>\n",
       "    <tr>\n",
       "      <th>2</th>\n",
       "      <td>2020-06-02</td>\n",
       "      <td>Чеченская Республика</td>\n",
       "      <td>1264</td>\n",
       "      <td>847</td>\n",
       "      <td>13</td>\n",
       "    </tr>\n",
       "    <tr>\n",
       "      <th>2</th>\n",
       "      <td>2020-06-02</td>\n",
       "      <td>Чувашская Республика</td>\n",
       "      <td>3061</td>\n",
       "      <td>1319</td>\n",
       "      <td>14</td>\n",
       "    </tr>\n",
       "    <tr>\n",
       "      <th>2</th>\n",
       "      <td>2020-06-02</td>\n",
       "      <td>Чукотский автономный округ</td>\n",
       "      <td>81</td>\n",
       "      <td>56</td>\n",
       "      <td>1</td>\n",
       "    </tr>\n",
       "    <tr>\n",
       "      <th>2</th>\n",
       "      <td>2020-06-02</td>\n",
       "      <td>Ямало-Ненецкий автономный округ</td>\n",
       "      <td>2466</td>\n",
       "      <td>1163</td>\n",
       "      <td>10</td>\n",
       "    </tr>\n",
       "    <tr>\n",
       "      <th>2</th>\n",
       "      <td>2020-06-02</td>\n",
       "      <td>Ярославская область</td>\n",
       "      <td>3284</td>\n",
       "      <td>826</td>\n",
       "      <td>14</td>\n",
       "    </tr>\n",
       "  </tbody>\n",
       "</table>\n",
       "<p>100 rows × 5 columns</p>\n",
       "</div>"
      ],
      "text/plain": [
       "                date                           region  infected  recovered  \\\n",
       "file_num                                                                     \n",
       "2         2020-06-01                 Тверская область      1650       1087   \n",
       "2         2020-06-01                  Томская область       716        326   \n",
       "2         2020-06-01                 Тульская область      3968       1815   \n",
       "2         2020-06-01                Тюменская область      1661        818   \n",
       "2         2020-06-01            Удмуртская Республика       682        412   \n",
       "...              ...                              ...       ...        ...   \n",
       "2         2020-06-02             Чеченская Республика      1264        847   \n",
       "2         2020-06-02             Чувашская Республика      3061       1319   \n",
       "2         2020-06-02       Чукотский автономный округ        81         56   \n",
       "2         2020-06-02  Ямало-Ненецкий автономный округ      2466       1163   \n",
       "2         2020-06-02              Ярославская область      3284        826   \n",
       "\n",
       "          dead  \n",
       "file_num        \n",
       "2           22  \n",
       "2           11  \n",
       "2           36  \n",
       "2            8  \n",
       "2           12  \n",
       "...        ...  \n",
       "2           13  \n",
       "2           14  \n",
       "2            1  \n",
       "2           10  \n",
       "2           14  \n",
       "\n",
       "[100 rows x 5 columns]"
      ]
     },
     "execution_count": 19,
     "metadata": {},
     "output_type": "execute_result"
    }
   ],
   "source": [
    "df = pd.DataFrame.from_records(full_results, columns=['file_num', 'date', 'region', 'infected', 'recovered', 'dead'], index='file_num')\n",
    "df[-100:]"
   ]
  },
  {
   "cell_type": "code",
   "execution_count": 20,
   "metadata": {},
   "outputs": [
    {
     "data": {
      "text/html": [
       "<div>\n",
       "<style scoped>\n",
       "    .dataframe tbody tr th:only-of-type {\n",
       "        vertical-align: middle;\n",
       "    }\n",
       "\n",
       "    .dataframe tbody tr th {\n",
       "        vertical-align: top;\n",
       "    }\n",
       "\n",
       "    .dataframe thead th {\n",
       "        text-align: right;\n",
       "    }\n",
       "</style>\n",
       "<table border=\"1\" class=\"dataframe\">\n",
       "  <thead>\n",
       "    <tr style=\"text-align: right;\">\n",
       "      <th></th>\n",
       "      <th>date</th>\n",
       "      <th>region</th>\n",
       "      <th>infected</th>\n",
       "      <th>recovered</th>\n",
       "      <th>dead</th>\n",
       "    </tr>\n",
       "  </thead>\n",
       "  <tbody>\n",
       "    <tr>\n",
       "      <th>0</th>\n",
       "      <td>2020-03-02</td>\n",
       "      <td>Алтайский край</td>\n",
       "      <td>0</td>\n",
       "      <td>0</td>\n",
       "      <td>0</td>\n",
       "    </tr>\n",
       "    <tr>\n",
       "      <th>1</th>\n",
       "      <td>2020-03-02</td>\n",
       "      <td>Амурская область</td>\n",
       "      <td>0</td>\n",
       "      <td>0</td>\n",
       "      <td>0</td>\n",
       "    </tr>\n",
       "    <tr>\n",
       "      <th>2</th>\n",
       "      <td>2020-03-02</td>\n",
       "      <td>Архангельская область</td>\n",
       "      <td>0</td>\n",
       "      <td>0</td>\n",
       "      <td>0</td>\n",
       "    </tr>\n",
       "    <tr>\n",
       "      <th>3</th>\n",
       "      <td>2020-03-02</td>\n",
       "      <td>Астраханская область</td>\n",
       "      <td>0</td>\n",
       "      <td>0</td>\n",
       "      <td>0</td>\n",
       "    </tr>\n",
       "    <tr>\n",
       "      <th>4</th>\n",
       "      <td>2020-03-02</td>\n",
       "      <td>Белгородская область</td>\n",
       "      <td>0</td>\n",
       "      <td>0</td>\n",
       "      <td>0</td>\n",
       "    </tr>\n",
       "    <tr>\n",
       "      <th>...</th>\n",
       "      <td>...</td>\n",
       "      <td>...</td>\n",
       "      <td>...</td>\n",
       "      <td>...</td>\n",
       "      <td>...</td>\n",
       "    </tr>\n",
       "    <tr>\n",
       "      <th>7993</th>\n",
       "      <td>2020-06-02</td>\n",
       "      <td>Чеченская Республика</td>\n",
       "      <td>1264</td>\n",
       "      <td>847</td>\n",
       "      <td>13</td>\n",
       "    </tr>\n",
       "    <tr>\n",
       "      <th>7994</th>\n",
       "      <td>2020-06-02</td>\n",
       "      <td>Чувашская Республика</td>\n",
       "      <td>3061</td>\n",
       "      <td>1319</td>\n",
       "      <td>14</td>\n",
       "    </tr>\n",
       "    <tr>\n",
       "      <th>7995</th>\n",
       "      <td>2020-06-02</td>\n",
       "      <td>Чукотский автономный округ</td>\n",
       "      <td>81</td>\n",
       "      <td>56</td>\n",
       "      <td>1</td>\n",
       "    </tr>\n",
       "    <tr>\n",
       "      <th>7996</th>\n",
       "      <td>2020-06-02</td>\n",
       "      <td>Ямало-Ненецкий автономный округ</td>\n",
       "      <td>2466</td>\n",
       "      <td>1163</td>\n",
       "      <td>10</td>\n",
       "    </tr>\n",
       "    <tr>\n",
       "      <th>7997</th>\n",
       "      <td>2020-06-02</td>\n",
       "      <td>Ярославская область</td>\n",
       "      <td>3284</td>\n",
       "      <td>826</td>\n",
       "      <td>14</td>\n",
       "    </tr>\n",
       "  </tbody>\n",
       "</table>\n",
       "<p>7998 rows × 5 columns</p>\n",
       "</div>"
      ],
      "text/plain": [
       "            date                           region  infected  recovered  dead\n",
       "0     2020-03-02                   Алтайский край         0          0     0\n",
       "1     2020-03-02                 Амурская область         0          0     0\n",
       "2     2020-03-02            Архангельская область         0          0     0\n",
       "3     2020-03-02             Астраханская область         0          0     0\n",
       "4     2020-03-02             Белгородская область         0          0     0\n",
       "...          ...                              ...       ...        ...   ...\n",
       "7993  2020-06-02             Чеченская Республика      1264        847    13\n",
       "7994  2020-06-02             Чувашская Республика      3061       1319    14\n",
       "7995  2020-06-02       Чукотский автономный округ        81         56     1\n",
       "7996  2020-06-02  Ямало-Ненецкий автономный округ      2466       1163    10\n",
       "7997  2020-06-02              Ярославская область      3284        826    14\n",
       "\n",
       "[7998 rows x 5 columns]"
      ]
     },
     "execution_count": 20,
     "metadata": {},
     "output_type": "execute_result"
    }
   ],
   "source": [
    "df.groupby(['date', 'region'], as_index=False).last()"
   ]
  },
  {
   "cell_type": "code",
   "execution_count": 21,
   "metadata": {},
   "outputs": [
    {
     "data": {
      "text/plain": [
       "93.0"
      ]
     },
     "execution_count": 21,
     "metadata": {},
     "output_type": "execute_result"
    }
   ],
   "source": [
    "7998 / 86"
   ]
  },
  {
   "cell_type": "code",
   "execution_count": null,
   "metadata": {},
   "outputs": [],
   "source": [
    "pd.Series.is_monotonic_increasing"
   ]
  },
  {
   "cell_type": "code",
   "execution_count": 845,
   "metadata": {},
   "outputs": [],
   "source": [
    "df.to_csv('../data/russia_stats.csv')"
   ]
  },
  {
   "cell_type": "code",
   "execution_count": null,
   "metadata": {},
   "outputs": [],
   "source": [
    "!head"
   ]
  }
 ],
 "metadata": {
  "kernelspec": {
   "display_name": "py37",
   "language": "python",
   "name": "py37"
  },
  "language_info": {
   "codemirror_mode": {
    "name": "ipython",
    "version": 3
   },
   "file_extension": ".py",
   "mimetype": "text/x-python",
   "name": "python",
   "nbconvert_exporter": "python",
   "pygments_lexer": "ipython3",
   "version": "3.7.7"
  }
 },
 "nbformat": 4,
 "nbformat_minor": 4
}
