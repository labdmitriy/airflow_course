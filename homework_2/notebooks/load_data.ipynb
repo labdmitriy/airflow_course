{
 "cells": [
  {
   "cell_type": "code",
   "execution_count": 1,
   "metadata": {},
   "outputs": [],
   "source": [
    "from pathlib import Path\n",
    "from datetime import date, datetime, timedelta\n",
    "import csv\n",
    "import json\n",
    "import configparser\n",
    "\n",
    "import requests\n",
    "import psycopg2\n",
    "from psycopg2 import sql\n",
    "\n",
    "import numpy as np\n",
    "import pandas as pd"
   ]
  },
  {
   "cell_type": "code",
   "execution_count": 2,
   "metadata": {},
   "outputs": [],
   "source": [
    "DATA_PATH = Path('../data')\n",
    "CONFIG_PATH = Path('../config')"
   ]
  },
  {
   "cell_type": "code",
   "execution_count": 3,
   "metadata": {},
   "outputs": [
    {
     "data": {
      "text/plain": [
       "['../config/test_sources.ini']"
      ]
     },
     "execution_count": 3,
     "metadata": {},
     "output_type": "execute_result"
    }
   ],
   "source": [
    "config = configparser.ConfigParser()\n",
    "config.read(CONFIG_PATH/'test_sources.ini')"
   ]
  },
  {
   "cell_type": "code",
   "execution_count": 4,
   "metadata": {},
   "outputs": [],
   "source": [
    "CSV_URL = config['DEFAULT']['CSV_URL']\n",
    "JSON_URL = config['DEFAULT']['JSON_URL']\n",
    "SHARED_DB_CON = config['DEFAULT']['SHARED_DB_CON']\n",
    "PRIVATE_DB_CON = config['DEFAULT']['PRIVATE_DB_CON']\n",
    "SHARED_DSN = config['DEFAULT']['SHARED_DSN']\n",
    "PRIVATE_DSN = config['DEFAULT']['PRIVATE_DSN']"
   ]
  },
  {
   "cell_type": "markdown",
   "metadata": {},
   "source": [
    "**csv**"
   ]
  },
  {
   "cell_type": "code",
   "execution_count": 5,
   "metadata": {},
   "outputs": [
    {
     "data": {
      "text/plain": [
       "PosixPath('../data/orders.csv')"
      ]
     },
     "execution_count": 5,
     "metadata": {},
     "output_type": "execute_result"
    }
   ],
   "source": [
    "def download_file(url, dir_path):\n",
    "    file_name = url.split('/')[-1]\n",
    "    file_path = dir_path/file_name\n",
    "\n",
    "    with requests.get(url) as r:\n",
    "        r.raise_for_status()\n",
    "        \n",
    "        with open(file_path, 'w') as f:\n",
    "            f.write(r.content.decode('utf-8'))\n",
    "            \n",
    "    return file_path\n",
    "\n",
    "orders_file_path = download_file(CSV_URL, DATA_PATH)\n",
    "orders_file_path"
   ]
  },
  {
   "cell_type": "code",
   "execution_count": 6,
   "metadata": {},
   "outputs": [
    {
     "name": "stdout",
     "output_type": "stream",
     "text": [
      "id заказа,uuid заказа,название товара,дата заказа,количество,ФИО,email\n",
      "76921,7d9a28f7-418b-4e8a-9ab3-68bf5deba724,Банк триста плод сынок неудобно поезд неожиданный.,2020-05-15 8:31:05,3,Елизавета Семеновна Юдина,belovaanna@mail.ru\n"
     ]
    }
   ],
   "source": [
    "!head -2 {orders_file_path}"
   ]
  },
  {
   "cell_type": "code",
   "execution_count": 79,
   "metadata": {},
   "outputs": [],
   "source": [
    "def clean_field(field):\n",
    "    return field.strip()"
   ]
  },
  {
   "cell_type": "code",
   "execution_count": 88,
   "metadata": {},
   "outputs": [
    {
     "name": "stdout",
     "output_type": "stream",
     "text": [
      "\n"
     ]
    },
    {
     "data": {
      "text/plain": [
       "PosixPath('../data/orders_clean.csv')"
      ]
     },
     "execution_count": 88,
     "metadata": {},
     "output_type": "execute_result"
    }
   ],
   "source": [
    "def clean_orders_data(file_path):\n",
    "    clean_file_path = file_path.parent/f'{file_path.stem}_clean.csv'\n",
    "    field_names = ('order_id', 'order_uuid', 'good_title', \n",
    "                   'date', 'amount', 'name', 'email')\n",
    "    selected_field_names = ('order_uuid', 'good_title', 'date', \n",
    "                            'amount', 'name', 'email')\n",
    "\n",
    "    with open(file_path) as f:\n",
    "        next(f)\n",
    "        reader = csv.DictReader(f, fieldnames=field_names)\n",
    "\n",
    "        with open(clean_file_path, 'w') as f_clean:\n",
    "            writer = csv.DictWriter(f_clean, \n",
    "                                    fieldnames=selected_field_names, \n",
    "                                    extrasaction='ignore')\n",
    "            writer.writeheader()\n",
    "            \n",
    "            for line in reader:\n",
    "                line = {key: clean_field(line[key]) for key in line}\n",
    "#                 print(line)\n",
    "                writer.writerow(line)\n",
    "                \n",
    "    return clean_file_path\n",
    "\n",
    "clean_orders_file_path = clean_orders_data(orders_file_path)\n",
    "clean_orders_file_path"
   ]
  },
  {
   "cell_type": "code",
   "execution_count": null,
   "metadata": {},
   "outputs": [],
   "source": []
  },
  {
   "cell_type": "code",
   "execution_count": 83,
   "metadata": {},
   "outputs": [
    {
     "name": "stdout",
     "output_type": "stream",
     "text": [
      "order_uuid,good_title,date,amount,name,email\n",
      "7d9a28f7-418b-4e8a-9ab3-68bf5deba724,Банк триста плод сынок неудобно поезд неожиданный.,2020-05-15 8:31:05,3,Елизавета Семеновна Юдина,belovaanna@mail.ru\n",
      "f70a0b8c-f6cd-4876-b21b-33ee76d2d993,Пропадать беспомощный равнодушный.,2020-06-01 3:08:10,5,Ершов Милий Григорьевич,doroninleon@rao.com\n",
      "5507582b-992f-4eb0-97e6-6d4b5d66b06c,Что мягкий роса научить необычный домашний командование настать.,2020-05-12 21:50:55,4,Маслов Твердислав Фадеевич,doroninatatjana@rambler.ru\n",
      "c48a1e2e-06cf-4cb5-b697-0c695227b450,Товар назначить медицина секунда увеличиваться.,2020-05-29 7:17:52,3,Анисим Харитонович Лазарев,komarovepifan@yahoo.com\n"
     ]
    }
   ],
   "source": [
    "!head -5 {clean_orders_file_path}"
   ]
  },
  {
   "cell_type": "code",
   "execution_count": null,
   "metadata": {},
   "outputs": [],
   "source": []
  },
  {
   "cell_type": "code",
   "execution_count": null,
   "metadata": {},
   "outputs": [],
   "source": []
  },
  {
   "cell_type": "markdown",
   "metadata": {},
   "source": [
    "**json**"
   ]
  },
  {
   "cell_type": "code",
   "execution_count": 9,
   "metadata": {},
   "outputs": [
    {
     "data": {
      "text/plain": [
       "PosixPath('../data/5ed7391379382f568bd22822')"
      ]
     },
     "execution_count": 9,
     "metadata": {},
     "output_type": "execute_result"
    }
   ],
   "source": [
    "status_file_path = download_file(JSON_URL, DATA_PATH)\n",
    "status_file_path"
   ]
  },
  {
   "cell_type": "code",
   "execution_count": 10,
   "metadata": {},
   "outputs": [
    {
     "data": {
      "text/plain": [
       "PosixPath('../data/5ed7391379382f568bd22822_clean.csv')"
      ]
     },
     "execution_count": 10,
     "metadata": {},
     "output_type": "execute_result"
    }
   ],
   "source": [
    "def clean_status_data(file_path):\n",
    "    with open(file_path) as f:\n",
    "        status_data = json.loads(f.read())\n",
    "\n",
    "    clean_file_path = file_path.parent/f'{file_path.stem}_clean.csv'\n",
    "    selected_field_names = ('order_uuid', 'payment_status')\n",
    "\n",
    "    with open(clean_file_path, 'w') as clean_f:\n",
    "        writer = csv.DictWriter(clean_f, fieldnames=selected_field_names)\n",
    "\n",
    "        writer.writeheader() \n",
    "\n",
    "        for order_uuid, status in status_data.items():\n",
    "            payment_status = 'success' if status['success'] is True else 'failure'\n",
    "\n",
    "            status_row = {\n",
    "                'order_uuid': order_uuid,\n",
    "                'payment_status': payment_status\n",
    "            }\n",
    "\n",
    "            writer.writerow(status_row)\n",
    "            \n",
    "    return clean_file_path\n",
    "            \n",
    "clean_status_file_path = clean_status_data(status_file_path)\n",
    "clean_status_file_path"
   ]
  },
  {
   "cell_type": "code",
   "execution_count": 11,
   "metadata": {},
   "outputs": [
    {
     "name": "stdout",
     "output_type": "stream",
     "text": [
      "head: cannot open '{status_clean_file_path}' for reading: No such file or directory\n"
     ]
    }
   ],
   "source": [
    "!head -2 {status_clean_file_path}"
   ]
  },
  {
   "cell_type": "markdown",
   "metadata": {},
   "source": [
    "**Shared DB**"
   ]
  },
  {
   "cell_type": "code",
   "execution_count": 12,
   "metadata": {},
   "outputs": [],
   "source": [
    "def get_table_data(dsn, table_name, data_path):\n",
    "    file_path = data_path/f'{table_name}.csv'\n",
    "    \n",
    "    conn = psycopg2.connect(dsn)\n",
    "    cur = conn.cursor()\n",
    "    \n",
    "    table_id = sql.Identifier(table_name)\n",
    "    sql_query = sql.SQL(\"COPY (SELECT * FROM {}) TO STDOUT WITH CSV HEADER\").format(table_id)\n",
    "\n",
    "    with open(file_path, 'w') as f:\n",
    "        cur.copy_expert(sql_query, f)\n",
    "        \n",
    "    cur.close()\n",
    "    conn.close()\n",
    "    \n",
    "    return file_path"
   ]
  },
  {
   "cell_type": "code",
   "execution_count": 13,
   "metadata": {},
   "outputs": [
    {
     "data": {
      "text/plain": [
       "PosixPath('../data/customers.csv')"
      ]
     },
     "execution_count": 13,
     "metadata": {},
     "output_type": "execute_result"
    }
   ],
   "source": [
    "customers_file_path = get_table_data(SHARED_DSN, 'customers', DATA_PATH)\n",
    "customers_file_path"
   ]
  },
  {
   "cell_type": "code",
   "execution_count": 14,
   "metadata": {},
   "outputs": [
    {
     "name": "stdout",
     "output_type": "stream",
     "text": [
      "id,name,birth_date,gender,email\n",
      "97766,Нинель Васильевна Носова ,1975-07-19,F,belovaanna@mail.ru\n"
     ]
    }
   ],
   "source": [
    "!head -2 {customers_file_path}"
   ]
  },
  {
   "cell_type": "code",
   "execution_count": 15,
   "metadata": {},
   "outputs": [
    {
     "data": {
      "text/plain": [
       "0"
      ]
     },
     "execution_count": 15,
     "metadata": {},
     "output_type": "execute_result"
    }
   ],
   "source": [
    "def calculate_age(birth_date, datetime_format):\n",
    "    DAYS_IN_YEAR = 365.25\n",
    "    age = (datetime.now() - datetime.strptime(birth_date, datetime_format)) // timedelta(days=DAYS_IN_YEAR)\n",
    "    return age\n",
    "\n",
    "datetime_format = '%Y-%m-%d %H:%M:%S'\n",
    "calculate_age('2020-06-01 3:08:10', datetime_format)"
   ]
  },
  {
   "cell_type": "code",
   "execution_count": 16,
   "metadata": {},
   "outputs": [
    {
     "data": {
      "text/plain": [
       "PosixPath('../data/customers_clean.csv')"
      ]
     },
     "execution_count": 16,
     "metadata": {},
     "output_type": "execute_result"
    }
   ],
   "source": [
    "def clean_customers_data(file_path):\n",
    "    clean_file_path = file_path.parent/f'{file_path.stem}_clean.csv'\n",
    "    field_names = ('id', 'name', 'birth_date', 'gender', 'email')\n",
    "    selected_field_names = ('email', 'age')\n",
    "    datetime_format = '%Y-%m-%d'\n",
    "\n",
    "    with open(file_path) as f:\n",
    "        next(f)\n",
    "        reader = csv.DictReader(f, fieldnames=field_names)\n",
    "\n",
    "        with open(clean_file_path, 'w') as f_clean:\n",
    "            writer = csv.DictWriter(f_clean, \n",
    "                                    fieldnames=selected_field_names, \n",
    "                                    extrasaction='ignore')\n",
    "            writer.writeheader()\n",
    "            \n",
    "            for line in reader:\n",
    "                line['age'] = calculate_age(line['birth_date'], datetime_format)\n",
    "                writer.writerow(line)\n",
    "                \n",
    "    return clean_file_path\n",
    "\n",
    "clean_customers_file_path = clean_customers_data(customers_file_path)\n",
    "clean_customers_file_path"
   ]
  },
  {
   "cell_type": "code",
   "execution_count": 17,
   "metadata": {},
   "outputs": [
    {
     "name": "stdout",
     "output_type": "stream",
     "text": [
      "email,age\n",
      "belovaanna@mail.ru,44\n"
     ]
    }
   ],
   "source": [
    "!head -2 {clean_customers_file_path}"
   ]
  },
  {
   "cell_type": "code",
   "execution_count": 18,
   "metadata": {},
   "outputs": [
    {
     "data": {
      "text/plain": [
       "PosixPath('../data/goods.csv')"
      ]
     },
     "execution_count": 18,
     "metadata": {},
     "output_type": "execute_result"
    }
   ],
   "source": [
    "goods_file_path = get_table_data(SHARED_DSN, 'goods', DATA_PATH)\n",
    "goods_file_path"
   ]
  },
  {
   "cell_type": "code",
   "execution_count": 19,
   "metadata": {},
   "outputs": [
    {
     "name": "stdout",
     "output_type": "stream",
     "text": [
      "id,name,price\n",
      "25389,Банк триста плод сынок неудобно поезд неожиданный.,1835.98\n"
     ]
    }
   ],
   "source": [
    "!head -2 {goods_file_path}"
   ]
  },
  {
   "cell_type": "code",
   "execution_count": 20,
   "metadata": {},
   "outputs": [
    {
     "data": {
      "text/plain": [
       "PosixPath('../data/goods_clean.csv')"
      ]
     },
     "execution_count": 20,
     "metadata": {},
     "output_type": "execute_result"
    }
   ],
   "source": [
    "def clean_goods_data(file_path):\n",
    "    clean_file_path = file_path.parent/f'{file_path.stem}_clean.csv'\n",
    "    field_names = ('id', 'good_title', 'price')\n",
    "    selected_field_names = ('good_title', 'price')\n",
    "    datetime_format = '%Y-%m-%d'\n",
    "\n",
    "    with open(file_path) as f:\n",
    "        next(f)\n",
    "        reader = csv.DictReader(f, fieldnames=field_names)\n",
    "\n",
    "        with open(clean_file_path, 'w') as f_clean:\n",
    "            writer = csv.DictWriter(f_clean, \n",
    "                                    fieldnames=selected_field_names, \n",
    "                                    extrasaction='ignore')\n",
    "            writer.writeheader()\n",
    "            \n",
    "            for line in reader:\n",
    "                writer.writerow(line)\n",
    "                \n",
    "    return clean_file_path\n",
    "\n",
    "clean_goods_file_path = clean_goods_data(goods_file_path)\n",
    "clean_goods_file_path"
   ]
  },
  {
   "cell_type": "code",
   "execution_count": 21,
   "metadata": {},
   "outputs": [
    {
     "name": "stdout",
     "output_type": "stream",
     "text": [
      "good_title,price\n",
      "Банк триста плод сынок неудобно поезд неожиданный.,1835.98\n"
     ]
    }
   ],
   "source": [
    "!head -2 {clean_goods_file_path}"
   ]
  },
  {
   "cell_type": "markdown",
   "metadata": {},
   "source": [
    "**Save to temp tables in Private DB**"
   ]
  },
  {
   "cell_type": "code",
   "execution_count": 22,
   "metadata": {},
   "outputs": [],
   "source": [
    "def save_table_data(dsn, table_name, file_path):\n",
    "    conn = psycopg2.connect(dsn)\n",
    "    cur = conn.cursor()\n",
    "    \n",
    "    with open(file_path, 'r') as f:\n",
    "        columns = next(f).split(',')\n",
    "        cur.copy_from(f, table_name, sep=',', columns=columns)\n",
    "\n",
    "    conn.commit()\n",
    "        \n",
    "    cur.close()\n",
    "    conn.close()\n",
    "        \n",
    "    return"
   ]
  },
  {
   "cell_type": "code",
   "execution_count": 23,
   "metadata": {},
   "outputs": [],
   "source": [
    "save_table_data(PRIVATE_DSN, 'orders_tmp', clean_orders_file_path)\n",
    "save_table_data(PRIVATE_DSN, 'status_tmp', clean_status_file_path)\n",
    "save_table_data(PRIVATE_DSN, 'customers_tmp', clean_customers_file_path)\n",
    "save_table_data(PRIVATE_DSN, 'goods_tmp', clean_goods_file_path)"
   ]
  },
  {
   "cell_type": "code",
   "execution_count": null,
   "metadata": {},
   "outputs": [],
   "source": []
  }
 ],
 "metadata": {
  "kernelspec": {
   "display_name": "py37",
   "language": "python",
   "name": "py37"
  },
  "language_info": {
   "codemirror_mode": {
    "name": "ipython",
    "version": 3
   },
   "file_extension": ".py",
   "mimetype": "text/x-python",
   "name": "python",
   "nbconvert_exporter": "python",
   "pygments_lexer": "ipython3",
   "version": "3.7.7"
  }
 },
 "nbformat": 4,
 "nbformat_minor": 4
}
