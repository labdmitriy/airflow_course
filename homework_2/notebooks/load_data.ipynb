{
 "cells": [
  {
   "cell_type": "code",
   "execution_count": 33,
   "metadata": {},
   "outputs": [],
   "source": [
    "from pathlib import Path\n",
    "from datetime import date, datetime, timedelta\n",
    "import csv\n",
    "import json\n",
    "import configparser\n",
    "\n",
    "import requests\n",
    "import psycopg2\n",
    "from psycopg2 import sql\n",
    "\n",
    "import numpy as np\n",
    "import pandas as pd"
   ]
  },
  {
   "cell_type": "code",
   "execution_count": 2,
   "metadata": {},
   "outputs": [],
   "source": [
    "DATA_PATH = Path('../data')\n",
    "CONFIG_PATH = Path('../config')"
   ]
  },
  {
   "cell_type": "code",
   "execution_count": 3,
   "metadata": {},
   "outputs": [
    {
     "data": {
      "text/plain": [
       "['../config/test_sources.ini']"
      ]
     },
     "execution_count": 3,
     "metadata": {},
     "output_type": "execute_result"
    }
   ],
   "source": [
    "config = configparser.ConfigParser()\n",
    "config.read(CONFIG_PATH/'test_sources.ini')"
   ]
  },
  {
   "cell_type": "code",
   "execution_count": 15,
   "metadata": {},
   "outputs": [],
   "source": [
    "CSV_URL = config['DEFAULT']['CSV_URL']\n",
    "JSON_URL = config['DEFAULT']['JSON_URL']\n",
    "SHARED_DB_CON = config['DEFAULT']['SHARED_DB_CON']\n",
    "PRIVATE_DB_CON = config['DEFAULT']['PRIVATE_DB_CON']"
   ]
  },
  {
   "cell_type": "markdown",
   "metadata": {},
   "source": [
    "**csv**"
   ]
  },
  {
   "cell_type": "code",
   "execution_count": 16,
   "metadata": {},
   "outputs": [
    {
     "data": {
      "text/plain": [
       "PosixPath('../data/orders.csv')"
      ]
     },
     "execution_count": 16,
     "metadata": {},
     "output_type": "execute_result"
    }
   ],
   "source": [
    "def download_file(url, dir_path):\n",
    "    file_name = url.split('/')[-1]\n",
    "    file_path = dir_path/file_name\n",
    "\n",
    "    with requests.get(url) as r:\n",
    "        r.raise_for_status()\n",
    "        \n",
    "        with open(file_path, 'w') as f:\n",
    "            f.write(r.content.decode('utf-8'))\n",
    "            \n",
    "    return file_path\n",
    "\n",
    "file_path = download_file(CSV_URL, DATA_PATH)\n",
    "file_path"
   ]
  },
  {
   "cell_type": "code",
   "execution_count": 17,
   "metadata": {},
   "outputs": [
    {
     "name": "stdout",
     "output_type": "stream",
     "text": [
      "id заказа,uuid заказа,название товара,дата заказа,количество,ФИО,email\n",
      "76921,7d9a28f7-418b-4e8a-9ab3-68bf5deba724,Банк триста плод сынок неудобно поезд неожиданный.,2020-05-15 8:31:05,3,Елизавета Семеновна Юдина,belovaanna@mail.ru\n"
     ]
    }
   ],
   "source": [
    "!head -2 {file_path}"
   ]
  },
  {
   "cell_type": "code",
   "execution_count": 22,
   "metadata": {},
   "outputs": [
    {
     "data": {
      "text/plain": [
       "PosixPath('../data/5ed7391379382f568bd22822_clean.csv')"
      ]
     },
     "execution_count": 22,
     "metadata": {},
     "output_type": "execute_result"
    }
   ],
   "source": [
    "def clean_orders_data(file_path):\n",
    "    clean_file_path = file_path.parent/f'{file_path.stem}_clean.csv'\n",
    "    field_names = ('order_id', 'order_uuid', 'good_title', \n",
    "                   'date', 'amount', 'name', 'email')\n",
    "    selected_field_names = ('order_uuid', 'good_title', 'date', \n",
    "                            'amount', 'name', 'email')\n",
    "\n",
    "    with open(file_path) as f:\n",
    "        next(f)\n",
    "        reader = csv.DictReader(f, fieldnames=field_names)\n",
    "\n",
    "        with open(clean_file_path, 'w') as f_clean:\n",
    "            writer = csv.DictWriter(f_clean, \n",
    "                                    fieldnames=selected_field_names, \n",
    "                                    extrasaction='ignore')\n",
    "            writer.writeheader()\n",
    "            \n",
    "            for line in reader:\n",
    "                writer.writerow(line)\n",
    "                \n",
    "    return clean_file_path\n",
    "\n",
    "clean_file_path = clean_orders_data(file_path)\n",
    "clean_file_path"
   ]
  },
  {
   "cell_type": "code",
   "execution_count": 19,
   "metadata": {},
   "outputs": [
    {
     "name": "stdout",
     "output_type": "stream",
     "text": [
      "order_uuid,good_title,date,amount,name,email\n",
      "7d9a28f7-418b-4e8a-9ab3-68bf5deba724,Банк триста плод сынок неудобно поезд неожиданный.,2020-05-15 8:31:05,3,Елизавета Семеновна Юдина,belovaanna@mail.ru\n"
     ]
    }
   ],
   "source": [
    "!head -2 {clean_file_path}"
   ]
  },
  {
   "cell_type": "markdown",
   "metadata": {},
   "source": [
    "**json**"
   ]
  },
  {
   "cell_type": "code",
   "execution_count": 24,
   "metadata": {},
   "outputs": [
    {
     "data": {
      "text/plain": [
       "PosixPath('../data/5ed7391379382f568bd22822')"
      ]
     },
     "execution_count": 24,
     "metadata": {},
     "output_type": "execute_result"
    }
   ],
   "source": [
    "file_path = download_file(JSON_URL, DATA_PATH)\n",
    "file_path"
   ]
  },
  {
   "cell_type": "code",
   "execution_count": 25,
   "metadata": {},
   "outputs": [
    {
     "data": {
      "text/plain": [
       "PosixPath('../data/5ed7391379382f568bd22822_clean.csv')"
      ]
     },
     "execution_count": 25,
     "metadata": {},
     "output_type": "execute_result"
    }
   ],
   "source": [
    "def clean_status_data(file_path):\n",
    "    with open(file_path) as f:\n",
    "        status_data = json.loads(f.read())\n",
    "\n",
    "    clean_file_path = file_path.parent/f'{file_path.stem}_clean.csv'\n",
    "    selected_field_names = ('order_uuid', 'payment_status')\n",
    "\n",
    "    with open(clean_file_path, 'w') as clean_f:\n",
    "        writer = csv.DictWriter(clean_f, fieldnames=selected_field_names)\n",
    "\n",
    "        writer.writeheader() \n",
    "\n",
    "        for order_uuid, status in status_data.items():\n",
    "            payment_status = 'success' if status['success'] is True else 'failure'\n",
    "\n",
    "            status_row = {\n",
    "                'order_uuid': order_uuid,\n",
    "                'payment_status': status['success']\n",
    "            }\n",
    "\n",
    "            writer.writerow(status_row)\n",
    "            \n",
    "    return clean_file_path\n",
    "            \n",
    "clean_file_path = clean_status_data(file_path)\n",
    "clean_file_path"
   ]
  },
  {
   "cell_type": "code",
   "execution_count": 26,
   "metadata": {},
   "outputs": [
    {
     "name": "stdout",
     "output_type": "stream",
     "text": [
      "order_uuid,payment_status\n",
      "7d9a28f7-418b-4e8a-9ab3-68bf5deba724,True\n"
     ]
    }
   ],
   "source": [
    "!head -2 {clean_file_path}"
   ]
  },
  {
   "cell_type": "markdown",
   "metadata": {},
   "source": [
    "**Shared DB**"
   ]
  },
  {
   "cell_type": "code",
   "execution_count": 28,
   "metadata": {},
   "outputs": [
    {
     "name": "stdout",
     "output_type": "stream",
     "text": [
      "[(97766, 'Нинель Васильевна Носова ', datetime.date(1975, 7, 19), 'F', 'belovaanna@mail.ru'), (96374, 'Валерия Борисовна Фомина\\t', datetime.date(1962, 1, 12), 'F', 'doroninleon@rao.com'), (38920, 'Ладислав Аверьянович Щукин', datetime.date(1933, 5, 16), 'M', 'doroninatatjana@rambler.ru'), (62940, 'Анна Кирилловна Беспалова', datetime.date(2005, 8, 30), 'F', 'komarovepifan@yahoo.com'), (44359, 'Ирина Сергеевна Кулагина', datetime.date(1913, 3, 25), 'F', 'kirill2008@zao.com')]\n",
      "[(25389, 'Банк триста плод сынок неудобно поезд неожиданный.', Decimal('1835.98')), (54759, 'Пропадать беспомощный равнодушный.', Decimal('375.75')), (56751, 'Что мягкий роса научить необычный домашний командование настать.', Decimal('3354.86')), (78120, 'Товар назначить медицина секунда увеличиваться.', Decimal('5270.2')), (85971, 'Скрытый наступать предоставить невозможно посвятить хозяйка.', Decimal('1765.52'))]\n"
     ]
    }
   ],
   "source": [
    "dsn = 'dbname=postgres user=shop password=1ec4fae2cb7a90b6b25736d0fa5ff9590e11406 host=109.234.36.184 port=5432'\n",
    "conn = psycopg2.connect(dsn)\n",
    "cur = conn.cursor()\n",
    "\n",
    "table_name = sql.Identifier('customers')\n",
    "sql_query = sql.SQL('SELECT * FROM {}').format(table_name)\n",
    "cur.execute(sql_query)\n",
    "customers = cur.fetchall()\n",
    "\n",
    "table_name = sql.Identifier('goods')\n",
    "sql_query = sql.SQL('SELECT * FROM {}').format(table_name)\n",
    "cur.execute(sql_query)\n",
    "goods = cur.fetchall()\n",
    "\n",
    "print(customers[:5])\n",
    "print(goods[:5])\n",
    "\n",
    "cur.close()\n",
    "conn.close()"
   ]
  },
  {
   "cell_type": "code",
   "execution_count": 34,
   "metadata": {},
   "outputs": [],
   "source": [
    "def get_table_data(dsn, table_name, data_path):\n",
    "    file_path = data_path/f'{table_name}.csv'\n",
    "    \n",
    "    conn = psycopg2.connect(dsn)\n",
    "    cur = conn.cursor()\n",
    "    \n",
    "    table_id = sql.Identifier(table_name)\n",
    "    sql_query = sql.SQL(\"COPY (SELECT * FROM {}) TO STDOUT WITH CSV HEADER\").format(table_id)\n",
    "\n",
    "    with open(file_path, 'w') as f:\n",
    "        cur.copy_expert(sql_query, f)\n",
    "        \n",
    "    cur.close()\n",
    "    conn.close()\n",
    "    \n",
    "    return file_path"
   ]
  },
  {
   "cell_type": "code",
   "execution_count": 35,
   "metadata": {},
   "outputs": [
    {
     "data": {
      "text/plain": [
       "PosixPath('../data/customers.csv')"
      ]
     },
     "execution_count": 35,
     "metadata": {},
     "output_type": "execute_result"
    }
   ],
   "source": [
    "file_path = get_table_data(dsn, 'customers', DATA_PATH)\n",
    "file_path"
   ]
  },
  {
   "cell_type": "code",
   "execution_count": 36,
   "metadata": {},
   "outputs": [
    {
     "data": {
      "text/plain": [
       "0"
      ]
     },
     "execution_count": 36,
     "metadata": {},
     "output_type": "execute_result"
    }
   ],
   "source": [
    "def calculate_age(birth_date, datetime_format):\n",
    "    DAYS_IN_YEAR = 365.25\n",
    "    age = (datetime.now() - datetime.strptime(birth_date, datetime_format)) // timedelta(days=DAYS_IN_YEAR)\n",
    "    return age\n",
    "\n",
    "datetime_format = '%Y-%m-%d %H:%M:%S'\n",
    "calculate_age('2020-06-01 3:08:10', datetime_format)"
   ]
  },
  {
   "cell_type": "code",
   "execution_count": 37,
   "metadata": {},
   "outputs": [
    {
     "data": {
      "text/plain": [
       "PosixPath('../data/customers_clean.csv')"
      ]
     },
     "execution_count": 37,
     "metadata": {},
     "output_type": "execute_result"
    }
   ],
   "source": [
    "def clean_customers_data(file_path):\n",
    "    clean_file_path = file_path.parent/f'{file_path.stem}_clean.csv'\n",
    "    field_names = ('id', 'name', 'birth_date', 'gender', 'email')\n",
    "    selected_field_names = ('email', 'age')\n",
    "    datetime_format = '%Y-%m-%d'\n",
    "\n",
    "    with open(file_path) as f:\n",
    "        next(f)\n",
    "        reader = csv.DictReader(f, fieldnames=field_names)\n",
    "\n",
    "        with open(clean_file_path, 'w') as f_clean:\n",
    "            writer = csv.DictWriter(f_clean, \n",
    "                                    fieldnames=selected_field_names, \n",
    "                                    extrasaction='ignore')\n",
    "            writer.writeheader()\n",
    "            \n",
    "            for line in reader:\n",
    "                line['age'] = calculate_age(line['birth_date'], datetime_format)\n",
    "                writer.writerow(line)\n",
    "                \n",
    "    return clean_file_path\n",
    "\n",
    "clean_customers_data(file_path)"
   ]
  },
  {
   "cell_type": "code",
   "execution_count": 38,
   "metadata": {},
   "outputs": [
    {
     "data": {
      "text/plain": [
       "PosixPath('../data/goods.csv')"
      ]
     },
     "execution_count": 38,
     "metadata": {},
     "output_type": "execute_result"
    }
   ],
   "source": [
    "file_path = get_table_data(dsn, 'goods', DATA_PATH)\n",
    "file_path"
   ]
  },
  {
   "cell_type": "code",
   "execution_count": 39,
   "metadata": {},
   "outputs": [
    {
     "data": {
      "text/plain": [
       "PosixPath('../data/goods_clean.csv')"
      ]
     },
     "execution_count": 39,
     "metadata": {},
     "output_type": "execute_result"
    }
   ],
   "source": [
    "def clean_goods_data(file_path):\n",
    "    clean_file_path = file_path.parent/f'{file_path.stem}_clean.csv'\n",
    "    field_names = ('id', 'good_title', 'price')\n",
    "    selected_field_names = ('good_title', 'price')\n",
    "    datetime_format = '%Y-%m-%d'\n",
    "\n",
    "    with open(file_path) as f:\n",
    "        next(f)\n",
    "        reader = csv.DictReader(f, fieldnames=field_names)\n",
    "\n",
    "        with open(clean_file_path, 'w') as f_clean:\n",
    "            writer = csv.DictWriter(f_clean, \n",
    "                                    fieldnames=selected_field_names, \n",
    "                                    extrasaction='ignore')\n",
    "            writer.writeheader()\n",
    "            \n",
    "            for line in reader:\n",
    "                writer.writerow(line)\n",
    "                \n",
    "    return clean_file_path\n",
    "\n",
    "clean_goods_data(file_path)"
   ]
  },
  {
   "cell_type": "code",
   "execution_count": null,
   "metadata": {},
   "outputs": [],
   "source": []
  },
  {
   "cell_type": "code",
   "execution_count": null,
   "metadata": {},
   "outputs": [],
   "source": []
  },
  {
   "cell_type": "code",
   "execution_count": null,
   "metadata": {},
   "outputs": [],
   "source": []
  },
  {
   "cell_type": "code",
   "execution_count": null,
   "metadata": {},
   "outputs": [],
   "source": []
  },
  {
   "cell_type": "code",
   "execution_count": null,
   "metadata": {},
   "outputs": [],
   "source": []
  },
  {
   "cell_type": "code",
   "execution_count": null,
   "metadata": {},
   "outputs": [],
   "source": []
  },
  {
   "cell_type": "markdown",
   "metadata": {},
   "source": [
    "**Shared DB**"
   ]
  },
  {
   "cell_type": "code",
   "execution_count": 261,
   "metadata": {},
   "outputs": [],
   "source": [
    "shared_con = create_engine(SHARED_DB_CONN_URL)"
   ]
  },
  {
   "cell_type": "code",
   "execution_count": 262,
   "metadata": {},
   "outputs": [
    {
     "data": {
      "text/html": [
       "<div>\n",
       "<style scoped>\n",
       "    .dataframe tbody tr th:only-of-type {\n",
       "        vertical-align: middle;\n",
       "    }\n",
       "\n",
       "    .dataframe tbody tr th {\n",
       "        vertical-align: top;\n",
       "    }\n",
       "\n",
       "    .dataframe thead th {\n",
       "        text-align: right;\n",
       "    }\n",
       "</style>\n",
       "<table border=\"1\" class=\"dataframe\">\n",
       "  <thead>\n",
       "    <tr style=\"text-align: right;\">\n",
       "      <th></th>\n",
       "      <th>id</th>\n",
       "      <th>name</th>\n",
       "      <th>birth_date</th>\n",
       "      <th>gender</th>\n",
       "      <th>email</th>\n",
       "    </tr>\n",
       "  </thead>\n",
       "  <tbody>\n",
       "    <tr>\n",
       "      <th>0</th>\n",
       "      <td>97766</td>\n",
       "      <td>Нинель Васильевна Носова</td>\n",
       "      <td>1975-07-19</td>\n",
       "      <td>F</td>\n",
       "      <td>belovaanna@mail.ru</td>\n",
       "    </tr>\n",
       "    <tr>\n",
       "      <th>1</th>\n",
       "      <td>96374</td>\n",
       "      <td>Валерия Борисовна Фомина\\t</td>\n",
       "      <td>1962-01-12</td>\n",
       "      <td>F</td>\n",
       "      <td>doroninleon@rao.com</td>\n",
       "    </tr>\n",
       "    <tr>\n",
       "      <th>2</th>\n",
       "      <td>38920</td>\n",
       "      <td>Ладислав Аверьянович Щукин</td>\n",
       "      <td>1933-05-16</td>\n",
       "      <td>M</td>\n",
       "      <td>doroninatatjana@rambler.ru</td>\n",
       "    </tr>\n",
       "    <tr>\n",
       "      <th>3</th>\n",
       "      <td>62940</td>\n",
       "      <td>Анна Кирилловна Беспалова</td>\n",
       "      <td>2005-08-30</td>\n",
       "      <td>F</td>\n",
       "      <td>komarovepifan@yahoo.com</td>\n",
       "    </tr>\n",
       "    <tr>\n",
       "      <th>4</th>\n",
       "      <td>44359</td>\n",
       "      <td>Ирина Сергеевна Кулагина</td>\n",
       "      <td>1913-03-25</td>\n",
       "      <td>F</td>\n",
       "      <td>kirill2008@zao.com</td>\n",
       "    </tr>\n",
       "  </tbody>\n",
       "</table>\n",
       "</div>"
      ],
      "text/plain": [
       "      id                        name birth_date gender  \\\n",
       "0  97766   Нинель Васильевна Носова  1975-07-19      F   \n",
       "1  96374  Валерия Борисовна Фомина\\t 1962-01-12      F   \n",
       "2  38920  Ладислав Аверьянович Щукин 1933-05-16      M   \n",
       "3  62940   Анна Кирилловна Беспалова 2005-08-30      F   \n",
       "4  44359    Ирина Сергеевна Кулагина 1913-03-25      F   \n",
       "\n",
       "                        email  \n",
       "0          belovaanna@mail.ru  \n",
       "1         doroninleon@rao.com  \n",
       "2  doroninatatjana@rambler.ru  \n",
       "3     komarovepifan@yahoo.com  \n",
       "4          kirill2008@zao.com  "
      ]
     },
     "execution_count": 262,
     "metadata": {},
     "output_type": "execute_result"
    }
   ],
   "source": [
    "customers_df = pd.read_sql_table('customers', shared_con)\n",
    "customers_df['id'] = customers_df['id'].astype('str')\n",
    "customers_df.head()"
   ]
  },
  {
   "cell_type": "code",
   "execution_count": 263,
   "metadata": {},
   "outputs": [
    {
     "name": "stdout",
     "output_type": "stream",
     "text": [
      "<class 'pandas.core.frame.DataFrame'>\n",
      "RangeIndex: 889 entries, 0 to 888\n",
      "Data columns (total 5 columns):\n",
      "id            889 non-null object\n",
      "name          889 non-null object\n",
      "birth_date    889 non-null datetime64[ns]\n",
      "gender        889 non-null object\n",
      "email         889 non-null object\n",
      "dtypes: datetime64[ns](1), object(4)\n",
      "memory usage: 34.9+ KB\n"
     ]
    }
   ],
   "source": [
    "customers_df.info()"
   ]
  },
  {
   "cell_type": "code",
   "execution_count": 264,
   "metadata": {},
   "outputs": [
    {
     "data": {
      "text/html": [
       "<div>\n",
       "<style scoped>\n",
       "    .dataframe tbody tr th:only-of-type {\n",
       "        vertical-align: middle;\n",
       "    }\n",
       "\n",
       "    .dataframe tbody tr th {\n",
       "        vertical-align: top;\n",
       "    }\n",
       "\n",
       "    .dataframe thead th {\n",
       "        text-align: right;\n",
       "    }\n",
       "</style>\n",
       "<table border=\"1\" class=\"dataframe\">\n",
       "  <thead>\n",
       "    <tr style=\"text-align: right;\">\n",
       "      <th></th>\n",
       "      <th>id</th>\n",
       "      <th>name</th>\n",
       "      <th>birth_date</th>\n",
       "      <th>gender</th>\n",
       "      <th>email</th>\n",
       "    </tr>\n",
       "  </thead>\n",
       "  <tbody>\n",
       "    <tr>\n",
       "      <th>count</th>\n",
       "      <td>889</td>\n",
       "      <td>889</td>\n",
       "      <td>889</td>\n",
       "      <td>889</td>\n",
       "      <td>889</td>\n",
       "    </tr>\n",
       "    <tr>\n",
       "      <th>unique</th>\n",
       "      <td>889</td>\n",
       "      <td>889</td>\n",
       "      <td>879</td>\n",
       "      <td>2</td>\n",
       "      <td>889</td>\n",
       "    </tr>\n",
       "    <tr>\n",
       "      <th>top</th>\n",
       "      <td>70246</td>\n",
       "      <td>Милен Богданович Горбунов</td>\n",
       "      <td>1950-03-29 00:00:00</td>\n",
       "      <td>M</td>\n",
       "      <td>mark_53@zao.org</td>\n",
       "    </tr>\n",
       "    <tr>\n",
       "      <th>freq</th>\n",
       "      <td>1</td>\n",
       "      <td>1</td>\n",
       "      <td>2</td>\n",
       "      <td>445</td>\n",
       "      <td>1</td>\n",
       "    </tr>\n",
       "    <tr>\n",
       "      <th>first</th>\n",
       "      <td>NaN</td>\n",
       "      <td>NaN</td>\n",
       "      <td>1904-06-19 00:00:00</td>\n",
       "      <td>NaN</td>\n",
       "      <td>NaN</td>\n",
       "    </tr>\n",
       "    <tr>\n",
       "      <th>last</th>\n",
       "      <td>NaN</td>\n",
       "      <td>NaN</td>\n",
       "      <td>2020-06-03 00:00:00</td>\n",
       "      <td>NaN</td>\n",
       "      <td>NaN</td>\n",
       "    </tr>\n",
       "  </tbody>\n",
       "</table>\n",
       "</div>"
      ],
      "text/plain": [
       "           id                       name           birth_date gender  \\\n",
       "count     889                        889                  889    889   \n",
       "unique    889                        889                  879      2   \n",
       "top     70246  Милен Богданович Горбунов  1950-03-29 00:00:00      M   \n",
       "freq        1                          1                    2    445   \n",
       "first     NaN                        NaN  1904-06-19 00:00:00    NaN   \n",
       "last      NaN                        NaN  2020-06-03 00:00:00    NaN   \n",
       "\n",
       "                  email  \n",
       "count               889  \n",
       "unique              889  \n",
       "top     mark_53@zao.org  \n",
       "freq                  1  \n",
       "first               NaN  \n",
       "last                NaN  "
      ]
     },
     "execution_count": 264,
     "metadata": {},
     "output_type": "execute_result"
    }
   ],
   "source": [
    "customers_df.describe(include='all')"
   ]
  },
  {
   "cell_type": "code",
   "execution_count": 265,
   "metadata": {},
   "outputs": [
    {
     "data": {
      "text/html": [
       "<div>\n",
       "<style scoped>\n",
       "    .dataframe tbody tr th:only-of-type {\n",
       "        vertical-align: middle;\n",
       "    }\n",
       "\n",
       "    .dataframe tbody tr th {\n",
       "        vertical-align: top;\n",
       "    }\n",
       "\n",
       "    .dataframe thead th {\n",
       "        text-align: right;\n",
       "    }\n",
       "</style>\n",
       "<table border=\"1\" class=\"dataframe\">\n",
       "  <thead>\n",
       "    <tr style=\"text-align: right;\">\n",
       "      <th></th>\n",
       "      <th>id</th>\n",
       "      <th>good_title</th>\n",
       "      <th>price</th>\n",
       "    </tr>\n",
       "  </thead>\n",
       "  <tbody>\n",
       "    <tr>\n",
       "      <th>0</th>\n",
       "      <td>25389</td>\n",
       "      <td>Банк триста плод сынок неудобно поезд неожидан...</td>\n",
       "      <td>1835.98</td>\n",
       "    </tr>\n",
       "    <tr>\n",
       "      <th>1</th>\n",
       "      <td>54759</td>\n",
       "      <td>Пропадать беспомощный равнодушный.</td>\n",
       "      <td>375.75</td>\n",
       "    </tr>\n",
       "    <tr>\n",
       "      <th>2</th>\n",
       "      <td>56751</td>\n",
       "      <td>Что мягкий роса научить необычный домашний ком...</td>\n",
       "      <td>3354.86</td>\n",
       "    </tr>\n",
       "    <tr>\n",
       "      <th>3</th>\n",
       "      <td>78120</td>\n",
       "      <td>Товар назначить медицина секунда увеличиваться.</td>\n",
       "      <td>5270.20</td>\n",
       "    </tr>\n",
       "    <tr>\n",
       "      <th>4</th>\n",
       "      <td>85971</td>\n",
       "      <td>Скрытый наступать предоставить невозможно посв...</td>\n",
       "      <td>1765.52</td>\n",
       "    </tr>\n",
       "  </tbody>\n",
       "</table>\n",
       "</div>"
      ],
      "text/plain": [
       "      id                                         good_title    price\n",
       "0  25389  Банк триста плод сынок неудобно поезд неожидан...  1835.98\n",
       "1  54759                 Пропадать беспомощный равнодушный.   375.75\n",
       "2  56751  Что мягкий роса научить необычный домашний ком...  3354.86\n",
       "3  78120    Товар назначить медицина секунда увеличиваться.  5270.20\n",
       "4  85971  Скрытый наступать предоставить невозможно посв...  1765.52"
      ]
     },
     "execution_count": 265,
     "metadata": {},
     "output_type": "execute_result"
    }
   ],
   "source": [
    "items_df = pd.read_sql_table('goods', shared_con)\n",
    "items_df.columns = ['id', 'good_title', 'price']\n",
    "items_df['id'] = items_df['id'].astype('str')\n",
    "items_df.head()"
   ]
  },
  {
   "cell_type": "code",
   "execution_count": 266,
   "metadata": {},
   "outputs": [
    {
     "name": "stdout",
     "output_type": "stream",
     "text": [
      "<class 'pandas.core.frame.DataFrame'>\n",
      "RangeIndex: 895 entries, 0 to 894\n",
      "Data columns (total 3 columns):\n",
      "id            895 non-null object\n",
      "good_title    895 non-null object\n",
      "price         895 non-null float64\n",
      "dtypes: float64(1), object(2)\n",
      "memory usage: 21.1+ KB\n"
     ]
    }
   ],
   "source": [
    "items_df.info()"
   ]
  },
  {
   "cell_type": "code",
   "execution_count": 267,
   "metadata": {},
   "outputs": [
    {
     "data": {
      "text/html": [
       "<div>\n",
       "<style scoped>\n",
       "    .dataframe tbody tr th:only-of-type {\n",
       "        vertical-align: middle;\n",
       "    }\n",
       "\n",
       "    .dataframe tbody tr th {\n",
       "        vertical-align: top;\n",
       "    }\n",
       "\n",
       "    .dataframe thead th {\n",
       "        text-align: right;\n",
       "    }\n",
       "</style>\n",
       "<table border=\"1\" class=\"dataframe\">\n",
       "  <thead>\n",
       "    <tr style=\"text-align: right;\">\n",
       "      <th></th>\n",
       "      <th>id</th>\n",
       "      <th>good_title</th>\n",
       "      <th>price</th>\n",
       "    </tr>\n",
       "  </thead>\n",
       "  <tbody>\n",
       "    <tr>\n",
       "      <th>count</th>\n",
       "      <td>895</td>\n",
       "      <td>895</td>\n",
       "      <td>895.000000</td>\n",
       "    </tr>\n",
       "    <tr>\n",
       "      <th>unique</th>\n",
       "      <td>893</td>\n",
       "      <td>895</td>\n",
       "      <td>NaN</td>\n",
       "    </tr>\n",
       "    <tr>\n",
       "      <th>top</th>\n",
       "      <td>37258</td>\n",
       "      <td>Поговорить потрясти мотоцикл.</td>\n",
       "      <td>NaN</td>\n",
       "    </tr>\n",
       "    <tr>\n",
       "      <th>freq</th>\n",
       "      <td>2</td>\n",
       "      <td>1</td>\n",
       "      <td>NaN</td>\n",
       "    </tr>\n",
       "    <tr>\n",
       "      <th>mean</th>\n",
       "      <td>NaN</td>\n",
       "      <td>NaN</td>\n",
       "      <td>4978.378212</td>\n",
       "    </tr>\n",
       "    <tr>\n",
       "      <th>std</th>\n",
       "      <td>NaN</td>\n",
       "      <td>NaN</td>\n",
       "      <td>2891.481750</td>\n",
       "    </tr>\n",
       "    <tr>\n",
       "      <th>min</th>\n",
       "      <td>NaN</td>\n",
       "      <td>NaN</td>\n",
       "      <td>17.820000</td>\n",
       "    </tr>\n",
       "    <tr>\n",
       "      <th>25%</th>\n",
       "      <td>NaN</td>\n",
       "      <td>NaN</td>\n",
       "      <td>2502.935000</td>\n",
       "    </tr>\n",
       "    <tr>\n",
       "      <th>50%</th>\n",
       "      <td>NaN</td>\n",
       "      <td>NaN</td>\n",
       "      <td>4889.170000</td>\n",
       "    </tr>\n",
       "    <tr>\n",
       "      <th>75%</th>\n",
       "      <td>NaN</td>\n",
       "      <td>NaN</td>\n",
       "      <td>7475.395000</td>\n",
       "    </tr>\n",
       "    <tr>\n",
       "      <th>max</th>\n",
       "      <td>NaN</td>\n",
       "      <td>NaN</td>\n",
       "      <td>9984.960000</td>\n",
       "    </tr>\n",
       "  </tbody>\n",
       "</table>\n",
       "</div>"
      ],
      "text/plain": [
       "           id                     good_title        price\n",
       "count     895                            895   895.000000\n",
       "unique    893                            895          NaN\n",
       "top     37258  Поговорить потрясти мотоцикл.          NaN\n",
       "freq        2                              1          NaN\n",
       "mean      NaN                            NaN  4978.378212\n",
       "std       NaN                            NaN  2891.481750\n",
       "min       NaN                            NaN    17.820000\n",
       "25%       NaN                            NaN  2502.935000\n",
       "50%       NaN                            NaN  4889.170000\n",
       "75%       NaN                            NaN  7475.395000\n",
       "max       NaN                            NaN  9984.960000"
      ]
     },
     "execution_count": 267,
     "metadata": {},
     "output_type": "execute_result"
    }
   ],
   "source": [
    "items_df.describe(include='all')"
   ]
  },
  {
   "cell_type": "markdown",
   "metadata": {},
   "source": [
    "**Prepare_data**"
   ]
  },
  {
   "cell_type": "code",
   "execution_count": 268,
   "metadata": {},
   "outputs": [
    {
     "name": "stderr",
     "output_type": "stream",
     "text": [
      "/home/jupyter/jupyter/lib/python3.7/site-packages/ipykernel_launcher.py:1: FutureWarning: M and Y units are deprecated and will be removed in a future version.\n",
      "  \"\"\"Entry point for launching an IPython kernel.\n"
     ]
    },
    {
     "data": {
      "text/plain": [
       "count    889.000000\n",
       "mean      56.901012\n",
       "std       34.184471\n",
       "min        0.000000\n",
       "25%       27.000000\n",
       "50%       58.000000\n",
       "75%       87.000000\n",
       "max      115.000000\n",
       "Name: age, dtype: float64"
      ]
     },
     "execution_count": 268,
     "metadata": {},
     "output_type": "execute_result"
    }
   ],
   "source": [
    "customers_df['age'] = (pd.datetime.now() - customers_df['birth_date']).div(pd.Timedelta(value=1, unit='Y')).astype('int')\n",
    "customers_df['age'].describe()"
   ]
  },
  {
   "cell_type": "code",
   "execution_count": 269,
   "metadata": {},
   "outputs": [],
   "source": [
    "customers_df['name'] = customers_df['name'].str.strip()\n",
    "customers_df['email'] = customers_df['email'].str.strip()"
   ]
  },
  {
   "cell_type": "code",
   "execution_count": 270,
   "metadata": {},
   "outputs": [],
   "source": [
    "orders_df['name'] = orders_df['name'].str.strip()\n",
    "orders_df['email'] = orders_df['email'].str.strip()"
   ]
  },
  {
   "cell_type": "code",
   "execution_count": 271,
   "metadata": {},
   "outputs": [],
   "source": [
    "status_df['payment_status'] = np.where(status_df['success'], 'success', 'fail')"
   ]
  },
  {
   "cell_type": "markdown",
   "metadata": {},
   "source": [
    "**Merge data**"
   ]
  },
  {
   "cell_type": "code",
   "execution_count": 276,
   "metadata": {},
   "outputs": [],
   "source": [
    "orders_cols = ['order_uuid', 'good_title', 'date', 'amount', 'name', 'email']\n",
    "status_cols = ['order_uuid', 'payment_status']\n",
    "customers_cols = ['email', 'age']\n",
    "items_cols = ['good_title', 'price']"
   ]
  },
  {
   "cell_type": "code",
   "execution_count": 277,
   "metadata": {},
   "outputs": [
    {
     "data": {
      "text/html": [
       "<div>\n",
       "<style scoped>\n",
       "    .dataframe tbody tr th:only-of-type {\n",
       "        vertical-align: middle;\n",
       "    }\n",
       "\n",
       "    .dataframe tbody tr th {\n",
       "        vertical-align: top;\n",
       "    }\n",
       "\n",
       "    .dataframe thead th {\n",
       "        text-align: right;\n",
       "    }\n",
       "</style>\n",
       "<table border=\"1\" class=\"dataframe\">\n",
       "  <thead>\n",
       "    <tr style=\"text-align: right;\">\n",
       "      <th></th>\n",
       "      <th>order_uuid</th>\n",
       "      <th>good_title</th>\n",
       "      <th>date</th>\n",
       "      <th>amount</th>\n",
       "      <th>name</th>\n",
       "      <th>email</th>\n",
       "      <th>payment_status</th>\n",
       "      <th>age</th>\n",
       "      <th>price</th>\n",
       "      <th>total_price</th>\n",
       "    </tr>\n",
       "  </thead>\n",
       "  <tbody>\n",
       "    <tr>\n",
       "      <th>0</th>\n",
       "      <td>7d9a28f7-418b-4e8a-9ab3-68bf5deba724</td>\n",
       "      <td>Банк триста плод сынок неудобно поезд неожидан...</td>\n",
       "      <td>2020-05-15 8:31:05</td>\n",
       "      <td>3</td>\n",
       "      <td>Елизавета Семеновна Юдина</td>\n",
       "      <td>belovaanna@mail.ru</td>\n",
       "      <td>success</td>\n",
       "      <td>44.0</td>\n",
       "      <td>1835.98</td>\n",
       "      <td>5507.94</td>\n",
       "    </tr>\n",
       "    <tr>\n",
       "      <th>1</th>\n",
       "      <td>f70a0b8c-f6cd-4876-b21b-33ee76d2d993</td>\n",
       "      <td>Пропадать беспомощный равнодушный.</td>\n",
       "      <td>2020-06-01 3:08:10</td>\n",
       "      <td>5</td>\n",
       "      <td>Ершов Милий Григорьевич</td>\n",
       "      <td>doroninleon@rao.com</td>\n",
       "      <td>fail</td>\n",
       "      <td>58.0</td>\n",
       "      <td>375.75</td>\n",
       "      <td>1878.75</td>\n",
       "    </tr>\n",
       "    <tr>\n",
       "      <th>2</th>\n",
       "      <td>5507582b-992f-4eb0-97e6-6d4b5d66b06c</td>\n",
       "      <td>Что мягкий роса научить необычный домашний ком...</td>\n",
       "      <td>2020-05-12 21:50:55</td>\n",
       "      <td>4</td>\n",
       "      <td>Маслов Твердислав Фадеевич</td>\n",
       "      <td>doroninatatjana@rambler.ru</td>\n",
       "      <td>success</td>\n",
       "      <td>87.0</td>\n",
       "      <td>3354.86</td>\n",
       "      <td>13419.44</td>\n",
       "    </tr>\n",
       "    <tr>\n",
       "      <th>3</th>\n",
       "      <td>c48a1e2e-06cf-4cb5-b697-0c695227b450</td>\n",
       "      <td>Товар назначить медицина секунда увеличиваться.</td>\n",
       "      <td>2020-05-29 7:17:52</td>\n",
       "      <td>3</td>\n",
       "      <td>Анисим Харитонович Лазарев</td>\n",
       "      <td>komarovepifan@yahoo.com</td>\n",
       "      <td>success</td>\n",
       "      <td>14.0</td>\n",
       "      <td>5270.20</td>\n",
       "      <td>15810.60</td>\n",
       "    </tr>\n",
       "    <tr>\n",
       "      <th>4</th>\n",
       "      <td>1d83bf09-4c3a-458f-91c3-bb27c475ede8</td>\n",
       "      <td>Скрытый наступать предоставить невозможно посв...</td>\n",
       "      <td>2020-05-09 17:07:10</td>\n",
       "      <td>3</td>\n",
       "      <td>Силина Элеонора Филипповна</td>\n",
       "      <td>kirill2008@zao.com</td>\n",
       "      <td>fail</td>\n",
       "      <td>107.0</td>\n",
       "      <td>1765.52</td>\n",
       "      <td>5296.56</td>\n",
       "    </tr>\n",
       "    <tr>\n",
       "      <th>...</th>\n",
       "      <td>...</td>\n",
       "      <td>...</td>\n",
       "      <td>...</td>\n",
       "      <td>...</td>\n",
       "      <td>...</td>\n",
       "      <td>...</td>\n",
       "      <td>...</td>\n",
       "      <td>...</td>\n",
       "      <td>...</td>\n",
       "      <td>...</td>\n",
       "    </tr>\n",
       "    <tr>\n",
       "      <th>890</th>\n",
       "      <td>e1225cc6-5f1e-4754-8c6a-d5c40769da1b</td>\n",
       "      <td>Развернуться поймать ручей палка.</td>\n",
       "      <td>2020-05-23 15:18:44</td>\n",
       "      <td>1</td>\n",
       "      <td>Уваров Валерьян Арсеньевич</td>\n",
       "      <td>ratiborkudrjashov@yandex.ru</td>\n",
       "      <td>fail</td>\n",
       "      <td>26.0</td>\n",
       "      <td>9757.25</td>\n",
       "      <td>9757.25</td>\n",
       "    </tr>\n",
       "    <tr>\n",
       "      <th>891</th>\n",
       "      <td>746cea7f-0b39-4dd8-8c80-182cc98035d3</td>\n",
       "      <td>Кузнец спасть желание избегать сопровождаться ...</td>\n",
       "      <td>2020-06-01 3:21:56</td>\n",
       "      <td>2</td>\n",
       "      <td>Марфа Геннадиевна Стрелкова</td>\n",
       "      <td>izjaslavkuznetsov@rao.ru</td>\n",
       "      <td>success</td>\n",
       "      <td>43.0</td>\n",
       "      <td>2635.40</td>\n",
       "      <td>5270.80</td>\n",
       "    </tr>\n",
       "    <tr>\n",
       "      <th>892</th>\n",
       "      <td>1f3b853d-7ab1-4087-b1a1-757a016eeb05</td>\n",
       "      <td>Белье плод нож карандаш металл правильный поси...</td>\n",
       "      <td>2020-05-19 20:21:47</td>\n",
       "      <td>5</td>\n",
       "      <td>г-н Гаврилов Ладимир Дорофеевич</td>\n",
       "      <td>semenovaevdokija@vishnjakov.biz</td>\n",
       "      <td>fail</td>\n",
       "      <td>12.0</td>\n",
       "      <td>6956.57</td>\n",
       "      <td>34782.85</td>\n",
       "    </tr>\n",
       "    <tr>\n",
       "      <th>893</th>\n",
       "      <td>789717a6-5e5b-4434-b724-1f974a6e910a</td>\n",
       "      <td>Единый человечек о лететь эффект смелый смерте...</td>\n",
       "      <td>2020-05-03 18:00:49</td>\n",
       "      <td>5</td>\n",
       "      <td>Евсеев Юлий Владиславович</td>\n",
       "      <td>trifonstrelkov@gmail.com</td>\n",
       "      <td>success</td>\n",
       "      <td>104.0</td>\n",
       "      <td>5308.94</td>\n",
       "      <td>26544.70</td>\n",
       "    </tr>\n",
       "    <tr>\n",
       "      <th>894</th>\n",
       "      <td>4401b70b-8719-4cf0-beb3-3d473c951a3b</td>\n",
       "      <td>Остановить металл результат тута зачем дыхание...</td>\n",
       "      <td>2020-06-02 5:06:19</td>\n",
       "      <td>5</td>\n",
       "      <td>Логинов Христофор Власович</td>\n",
       "      <td>platon34@rambler.ru</td>\n",
       "      <td>success</td>\n",
       "      <td>46.0</td>\n",
       "      <td>4161.52</td>\n",
       "      <td>20807.60</td>\n",
       "    </tr>\n",
       "  </tbody>\n",
       "</table>\n",
       "<p>895 rows × 10 columns</p>\n",
       "</div>"
      ],
      "text/plain": [
       "                               order_uuid  \\\n",
       "0    7d9a28f7-418b-4e8a-9ab3-68bf5deba724   \n",
       "1    f70a0b8c-f6cd-4876-b21b-33ee76d2d993   \n",
       "2    5507582b-992f-4eb0-97e6-6d4b5d66b06c   \n",
       "3    c48a1e2e-06cf-4cb5-b697-0c695227b450   \n",
       "4    1d83bf09-4c3a-458f-91c3-bb27c475ede8   \n",
       "..                                    ...   \n",
       "890  e1225cc6-5f1e-4754-8c6a-d5c40769da1b   \n",
       "891  746cea7f-0b39-4dd8-8c80-182cc98035d3   \n",
       "892  1f3b853d-7ab1-4087-b1a1-757a016eeb05   \n",
       "893  789717a6-5e5b-4434-b724-1f974a6e910a   \n",
       "894  4401b70b-8719-4cf0-beb3-3d473c951a3b   \n",
       "\n",
       "                                            good_title                 date  \\\n",
       "0    Банк триста плод сынок неудобно поезд неожидан...   2020-05-15 8:31:05   \n",
       "1                   Пропадать беспомощный равнодушный.   2020-06-01 3:08:10   \n",
       "2    Что мягкий роса научить необычный домашний ком...  2020-05-12 21:50:55   \n",
       "3      Товар назначить медицина секунда увеличиваться.   2020-05-29 7:17:52   \n",
       "4    Скрытый наступать предоставить невозможно посв...  2020-05-09 17:07:10   \n",
       "..                                                 ...                  ...   \n",
       "890                  Развернуться поймать ручей палка.  2020-05-23 15:18:44   \n",
       "891  Кузнец спасть желание избегать сопровождаться ...   2020-06-01 3:21:56   \n",
       "892  Белье плод нож карандаш металл правильный поси...  2020-05-19 20:21:47   \n",
       "893  Единый человечек о лететь эффект смелый смерте...  2020-05-03 18:00:49   \n",
       "894  Остановить металл результат тута зачем дыхание...   2020-06-02 5:06:19   \n",
       "\n",
       "     amount                             name                            email  \\\n",
       "0         3        Елизавета Семеновна Юдина               belovaanna@mail.ru   \n",
       "1         5          Ершов Милий Григорьевич              doroninleon@rao.com   \n",
       "2         4       Маслов Твердислав Фадеевич       doroninatatjana@rambler.ru   \n",
       "3         3       Анисим Харитонович Лазарев          komarovepifan@yahoo.com   \n",
       "4         3       Силина Элеонора Филипповна               kirill2008@zao.com   \n",
       "..      ...                              ...                              ...   \n",
       "890       1       Уваров Валерьян Арсеньевич      ratiborkudrjashov@yandex.ru   \n",
       "891       2      Марфа Геннадиевна Стрелкова         izjaslavkuznetsov@rao.ru   \n",
       "892       5  г-н Гаврилов Ладимир Дорофеевич  semenovaevdokija@vishnjakov.biz   \n",
       "893       5        Евсеев Юлий Владиславович         trifonstrelkov@gmail.com   \n",
       "894       5       Логинов Христофор Власович              platon34@rambler.ru   \n",
       "\n",
       "    payment_status    age    price  total_price  \n",
       "0          success   44.0  1835.98      5507.94  \n",
       "1             fail   58.0   375.75      1878.75  \n",
       "2          success   87.0  3354.86     13419.44  \n",
       "3          success   14.0  5270.20     15810.60  \n",
       "4             fail  107.0  1765.52      5296.56  \n",
       "..             ...    ...      ...          ...  \n",
       "890           fail   26.0  9757.25      9757.25  \n",
       "891        success   43.0  2635.40      5270.80  \n",
       "892           fail   12.0  6956.57     34782.85  \n",
       "893        success  104.0  5308.94     26544.70  \n",
       "894        success   46.0  4161.52     20807.60  \n",
       "\n",
       "[895 rows x 10 columns]"
      ]
     },
     "execution_count": 277,
     "metadata": {},
     "output_type": "execute_result"
    }
   ],
   "source": [
    "full_df = orders_df[orders_cols].merge(status_df[status_cols], on='order_uuid', right_index=True)\n",
    "full_df = full_df.merge(customers_df[customers_cols], how='left', on='email')\n",
    "full_df = full_df.merge(items_df[items_cols], how='left', on='good_title')\n",
    "\n",
    "full_df['total_price'] = full_df.eval('amount * price')\n",
    "\n",
    "full_df"
   ]
  },
  {
   "cell_type": "code",
   "execution_count": 278,
   "metadata": {},
   "outputs": [
    {
     "name": "stdout",
     "output_type": "stream",
     "text": [
      "<class 'pandas.core.frame.DataFrame'>\n",
      "Int64Index: 895 entries, 0 to 894\n",
      "Data columns (total 10 columns):\n",
      "order_uuid        895 non-null object\n",
      "good_title        895 non-null object\n",
      "date              895 non-null object\n",
      "amount            895 non-null int64\n",
      "name              895 non-null object\n",
      "email             895 non-null object\n",
      "payment_status    895 non-null object\n",
      "age               889 non-null float64\n",
      "price             895 non-null float64\n",
      "total_price       895 non-null float64\n",
      "dtypes: float64(3), int64(1), object(6)\n",
      "memory usage: 76.9+ KB\n"
     ]
    }
   ],
   "source": [
    "full_df.info()"
   ]
  },
  {
   "cell_type": "code",
   "execution_count": 279,
   "metadata": {},
   "outputs": [
    {
     "data": {
      "text/html": [
       "<div>\n",
       "<style scoped>\n",
       "    .dataframe tbody tr th:only-of-type {\n",
       "        vertical-align: middle;\n",
       "    }\n",
       "\n",
       "    .dataframe tbody tr th {\n",
       "        vertical-align: top;\n",
       "    }\n",
       "\n",
       "    .dataframe thead th {\n",
       "        text-align: right;\n",
       "    }\n",
       "</style>\n",
       "<table border=\"1\" class=\"dataframe\">\n",
       "  <thead>\n",
       "    <tr style=\"text-align: right;\">\n",
       "      <th></th>\n",
       "      <th>name</th>\n",
       "      <th>age</th>\n",
       "      <th>good_title</th>\n",
       "      <th>date</th>\n",
       "      <th>payment_status</th>\n",
       "      <th>total_price</th>\n",
       "      <th>amount</th>\n",
       "    </tr>\n",
       "  </thead>\n",
       "  <tbody>\n",
       "    <tr>\n",
       "      <th>0</th>\n",
       "      <td>Елизавета Семеновна Юдина</td>\n",
       "      <td>44.0</td>\n",
       "      <td>Банк триста плод сынок неудобно поезд неожидан...</td>\n",
       "      <td>2020-05-15 8:31:05</td>\n",
       "      <td>success</td>\n",
       "      <td>5507.94</td>\n",
       "      <td>3</td>\n",
       "    </tr>\n",
       "    <tr>\n",
       "      <th>1</th>\n",
       "      <td>Ершов Милий Григорьевич</td>\n",
       "      <td>58.0</td>\n",
       "      <td>Пропадать беспомощный равнодушный.</td>\n",
       "      <td>2020-06-01 3:08:10</td>\n",
       "      <td>fail</td>\n",
       "      <td>1878.75</td>\n",
       "      <td>5</td>\n",
       "    </tr>\n",
       "    <tr>\n",
       "      <th>2</th>\n",
       "      <td>Маслов Твердислав Фадеевич</td>\n",
       "      <td>87.0</td>\n",
       "      <td>Что мягкий роса научить необычный домашний ком...</td>\n",
       "      <td>2020-05-12 21:50:55</td>\n",
       "      <td>success</td>\n",
       "      <td>13419.44</td>\n",
       "      <td>4</td>\n",
       "    </tr>\n",
       "    <tr>\n",
       "      <th>3</th>\n",
       "      <td>Анисим Харитонович Лазарев</td>\n",
       "      <td>14.0</td>\n",
       "      <td>Товар назначить медицина секунда увеличиваться.</td>\n",
       "      <td>2020-05-29 7:17:52</td>\n",
       "      <td>success</td>\n",
       "      <td>15810.60</td>\n",
       "      <td>3</td>\n",
       "    </tr>\n",
       "    <tr>\n",
       "      <th>4</th>\n",
       "      <td>Силина Элеонора Филипповна</td>\n",
       "      <td>107.0</td>\n",
       "      <td>Скрытый наступать предоставить невозможно посв...</td>\n",
       "      <td>2020-05-09 17:07:10</td>\n",
       "      <td>fail</td>\n",
       "      <td>5296.56</td>\n",
       "      <td>3</td>\n",
       "    </tr>\n",
       "  </tbody>\n",
       "</table>\n",
       "</div>"
      ],
      "text/plain": [
       "                         name    age  \\\n",
       "0   Елизавета Семеновна Юдина   44.0   \n",
       "1     Ершов Милий Григорьевич   58.0   \n",
       "2  Маслов Твердислав Фадеевич   87.0   \n",
       "3  Анисим Харитонович Лазарев   14.0   \n",
       "4  Силина Элеонора Филипповна  107.0   \n",
       "\n",
       "                                          good_title                 date  \\\n",
       "0  Банк триста плод сынок неудобно поезд неожидан...   2020-05-15 8:31:05   \n",
       "1                 Пропадать беспомощный равнодушный.   2020-06-01 3:08:10   \n",
       "2  Что мягкий роса научить необычный домашний ком...  2020-05-12 21:50:55   \n",
       "3    Товар назначить медицина секунда увеличиваться.   2020-05-29 7:17:52   \n",
       "4  Скрытый наступать предоставить невозможно посв...  2020-05-09 17:07:10   \n",
       "\n",
       "  payment_status  total_price  amount  \n",
       "0        success      5507.94       3  \n",
       "1           fail      1878.75       5  \n",
       "2        success     13419.44       4  \n",
       "3        success     15810.60       3  \n",
       "4           fail      5296.56       3  "
      ]
     },
     "execution_count": 279,
     "metadata": {},
     "output_type": "execute_result"
    }
   ],
   "source": [
    "cols = ['name', 'age', 'good_title', 'date', 'payment_status', 'total_price', 'amount']\n",
    "\n",
    "full_df[cols].head()"
   ]
  },
  {
   "cell_type": "markdown",
   "metadata": {},
   "source": [
    "**Private DB**"
   ]
  },
  {
   "cell_type": "code",
   "execution_count": 40,
   "metadata": {},
   "outputs": [],
   "source": [
    "private_con = create_engine(PRIVATE_DB_CONN_URL)"
   ]
  },
  {
   "cell_type": "raw",
   "metadata": {},
   "source": [
    "full_df.to_sql('results', private_con, schema='public', if_exists='replace', index=False)\n",
    "\n",
    "private_con.execute('select * from results;').fetchall()"
   ]
  },
  {
   "cell_type": "code",
   "execution_count": null,
   "metadata": {},
   "outputs": [],
   "source": []
  }
 ],
 "metadata": {
  "kernelspec": {
   "display_name": "py37",
   "language": "python",
   "name": "py37"
  },
  "language_info": {
   "codemirror_mode": {
    "name": "ipython",
    "version": 3
   },
   "file_extension": ".py",
   "mimetype": "text/x-python",
   "name": "python",
   "nbconvert_exporter": "python",
   "pygments_lexer": "ipython3",
   "version": "3.7.7"
  }
 },
 "nbformat": 4,
 "nbformat_minor": 4
}
