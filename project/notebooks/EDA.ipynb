{
 "cells": [
  {
   "cell_type": "code",
   "execution_count": 3,
   "metadata": {},
   "outputs": [],
   "source": [
    "from pathlib import Path\n",
    "\n",
    "import gspread\n",
    "from oauth2client.service_account import ServiceAccountCredentials\n",
    "\n",
    "import pandas as pd"
   ]
  },
  {
   "cell_type": "code",
   "execution_count": 4,
   "metadata": {},
   "outputs": [],
   "source": [
    "pd.set_option('max_colwidth', 100) # 50 by default"
   ]
  },
  {
   "cell_type": "markdown",
   "metadata": {},
   "source": [
    "### Get access to Google Sheets"
   ]
  },
  {
   "cell_type": "code",
   "execution_count": 12,
   "metadata": {},
   "outputs": [],
   "source": [
    "KEY_PATH = '../keys/airflow_secret.json'"
   ]
  },
  {
   "cell_type": "code",
   "execution_count": 13,
   "metadata": {},
   "outputs": [],
   "source": [
    "scope = ['https://spreadsheets.google.com/feeds','https://www.googleapis.com/auth/drive']\n",
    "creds = ServiceAccountCredentials.from_json_keyfile_name(KEY_PATH, scope)\n",
    "client = gspread.authorize(creds)"
   ]
  },
  {
   "cell_type": "code",
   "execution_count": 14,
   "metadata": {},
   "outputs": [],
   "source": [
    "TEST_URL = 'https://docs.google.com/spreadsheets/d/1Qxnc9bp8-5M3lSxzVDD817To5OEB3JkMG0XpFznrtD8/edit#gid=0'\n",
    "# URL = 'https://docs.google.com/spreadsheets/d/1GE-4bLOuBOhMCGF-vGs7j2BTSdsgRmvKvDQhBqMkNuk/edit#gid=0'"
   ]
  },
  {
   "cell_type": "code",
   "execution_count": 15,
   "metadata": {},
   "outputs": [
    {
     "data": {
      "text/plain": [
       "<Worksheet 'Sheet1' id:0>"
      ]
     },
     "execution_count": 15,
     "metadata": {},
     "output_type": "execute_result"
    }
   ],
   "source": [
    "sheet = client.open_by_url(TEST_URL).sheet1\n",
    "sheet"
   ]
  },
  {
   "cell_type": "code",
   "execution_count": 16,
   "metadata": {},
   "outputs": [
    {
     "data": {
      "text/plain": [
       "[{'ссылка': 'https://habr.com/ru/company/wrike/blog/506928/',\n",
       "  'Зимка Борис & Смирнов Максим': '',\n",
       "  'Лабазкин Дмитрий & Хачатрян Екатерина': 'Hello',\n",
       "  'Максим Ястремский & Кузнецов Дмитрий': '',\n",
       "  'Юлия Пак': ''},\n",
       " {'ссылка': 'https://vimeo.com/91371852',\n",
       "  'Зимка Борис & Смирнов Максим': '',\n",
       "  'Лабазкин Дмитрий & Хачатрян Екатерина': '',\n",
       "  'Максим Ястремский & Кузнецов Дмитрий': '',\n",
       "  'Юлия Пак': ''},\n",
       " {'ссылка': 'https://www.youtube.com/watch?v=vvdLLbhxwDA',\n",
       "  'Зимка Борис & Смирнов Максим': '',\n",
       "  'Лабазкин Дмитрий & Хачатрян Екатерина': '',\n",
       "  'Максим Ястремский & Кузнецов Дмитрий': '',\n",
       "  'Юлия Пак': ''}]"
      ]
     },
     "execution_count": 16,
     "metadata": {},
     "output_type": "execute_result"
    }
   ],
   "source": [
    "sheet_data = sheet.get_all_records(head=2)\n",
    "sheet_data[:3]"
   ]
  },
  {
   "cell_type": "code",
   "execution_count": 17,
   "metadata": {},
   "outputs": [
    {
     "name": "stdout",
     "output_type": "stream",
     "text": [
      "2420\n"
     ]
    },
    {
     "data": {
      "text/html": [
       "<div>\n",
       "<style scoped>\n",
       "    .dataframe tbody tr th:only-of-type {\n",
       "        vertical-align: middle;\n",
       "    }\n",
       "\n",
       "    .dataframe tbody tr th {\n",
       "        vertical-align: top;\n",
       "    }\n",
       "\n",
       "    .dataframe thead th {\n",
       "        text-align: right;\n",
       "    }\n",
       "</style>\n",
       "<table border=\"1\" class=\"dataframe\">\n",
       "  <thead>\n",
       "    <tr style=\"text-align: right;\">\n",
       "      <th></th>\n",
       "      <th>url</th>\n",
       "      <th>team_1</th>\n",
       "      <th>team_2</th>\n",
       "      <th>team_3</th>\n",
       "      <th>team_4</th>\n",
       "    </tr>\n",
       "  </thead>\n",
       "  <tbody>\n",
       "    <tr>\n",
       "      <th>0</th>\n",
       "      <td>https://habr.com/ru/company/wrike/blog/506928/</td>\n",
       "      <td></td>\n",
       "      <td>Hello</td>\n",
       "      <td></td>\n",
       "      <td></td>\n",
       "    </tr>\n",
       "    <tr>\n",
       "      <th>1</th>\n",
       "      <td>https://vimeo.com/91371852</td>\n",
       "      <td></td>\n",
       "      <td></td>\n",
       "      <td></td>\n",
       "      <td></td>\n",
       "    </tr>\n",
       "    <tr>\n",
       "      <th>2</th>\n",
       "      <td>https://www.youtube.com/watch?v=vvdLLbhxwDA</td>\n",
       "      <td></td>\n",
       "      <td></td>\n",
       "      <td></td>\n",
       "      <td></td>\n",
       "    </tr>\n",
       "    <tr>\n",
       "      <th>3</th>\n",
       "      <td>https://www.youtube.com/watch?v=l5aw6LHt9iI</td>\n",
       "      <td></td>\n",
       "      <td></td>\n",
       "      <td></td>\n",
       "      <td></td>\n",
       "    </tr>\n",
       "    <tr>\n",
       "      <th>4</th>\n",
       "      <td>https://habr.com/ru/post/193844/</td>\n",
       "      <td></td>\n",
       "      <td></td>\n",
       "      <td></td>\n",
       "      <td></td>\n",
       "    </tr>\n",
       "  </tbody>\n",
       "</table>\n",
       "</div>"
      ],
      "text/plain": [
       "                                              url team_1 team_2 team_3 team_4\n",
       "0  https://habr.com/ru/company/wrike/blog/506928/         Hello              \n",
       "1                      https://vimeo.com/91371852                            \n",
       "2     https://www.youtube.com/watch?v=vvdLLbhxwDA                            \n",
       "3     https://www.youtube.com/watch?v=l5aw6LHt9iI                            \n",
       "4                https://habr.com/ru/post/193844/                            "
      ]
     },
     "execution_count": 17,
     "metadata": {},
     "output_type": "execute_result"
    }
   ],
   "source": [
    "sheet_df = pd.DataFrame(sheet_data)\n",
    "sheet_df.columns = ['url', 'team_1', 'team_2', 'team_3', 'team_4']\n",
    "print(len(sheet_df))\n",
    "sheet_df.head()"
   ]
  },
  {
   "cell_type": "code",
   "execution_count": 18,
   "metadata": {},
   "outputs": [
    {
     "data": {
      "text/plain": [
       "{'spreadsheetId': '1Qxnc9bp8-5M3lSxzVDD817To5OEB3JkMG0XpFznrtD8',\n",
       " 'updatedRange': 'Sheet1!C3',\n",
       " 'updatedRows': 1,\n",
       " 'updatedColumns': 1,\n",
       " 'updatedCells': 1}"
      ]
     },
     "execution_count": 18,
     "metadata": {},
     "output_type": "execute_result"
    }
   ],
   "source": [
    "sheet.update_acell('C3', 'Hello')"
   ]
  },
  {
   "cell_type": "code",
   "execution_count": 19,
   "metadata": {},
   "outputs": [
    {
     "data": {
      "text/plain": [
       "{'spreadsheetId': '1Qxnc9bp8-5M3lSxzVDD817To5OEB3JkMG0XpFznrtD8',\n",
       " 'updatedRange': 'Sheet1!C10:C15',\n",
       " 'updatedRows': 6,\n",
       " 'updatedColumns': 1,\n",
       " 'updatedCells': 6}"
      ]
     },
     "execution_count": 19,
     "metadata": {},
     "output_type": "execute_result"
    }
   ],
   "source": [
    "sheet.update('C10:C15', [[1], [2], [3], [4], [5], [5]])"
   ]
  },
  {
   "cell_type": "markdown",
   "metadata": {},
   "source": [
    "### Explore URLs"
   ]
  },
  {
   "cell_type": "code",
   "execution_count": 20,
   "metadata": {},
   "outputs": [],
   "source": [
    "from urllib.parse import urlparse"
   ]
  },
  {
   "cell_type": "code",
   "execution_count": 21,
   "metadata": {},
   "outputs": [
    {
     "data": {
      "text/html": [
       "<div>\n",
       "<style scoped>\n",
       "    .dataframe tbody tr th:only-of-type {\n",
       "        vertical-align: middle;\n",
       "    }\n",
       "\n",
       "    .dataframe tbody tr th {\n",
       "        vertical-align: top;\n",
       "    }\n",
       "\n",
       "    .dataframe thead th {\n",
       "        text-align: right;\n",
       "    }\n",
       "</style>\n",
       "<table border=\"1\" class=\"dataframe\">\n",
       "  <thead>\n",
       "    <tr style=\"text-align: right;\">\n",
       "      <th></th>\n",
       "      <th>url</th>\n",
       "      <th>team_1</th>\n",
       "      <th>team_2</th>\n",
       "      <th>team_3</th>\n",
       "      <th>team_4</th>\n",
       "    </tr>\n",
       "  </thead>\n",
       "  <tbody>\n",
       "    <tr>\n",
       "      <th>0</th>\n",
       "      <td>https://habr.com/ru/company/wrike/blog/506928/</td>\n",
       "      <td></td>\n",
       "      <td>Hello</td>\n",
       "      <td></td>\n",
       "      <td></td>\n",
       "    </tr>\n",
       "    <tr>\n",
       "      <th>1</th>\n",
       "      <td>https://vimeo.com/91371852</td>\n",
       "      <td></td>\n",
       "      <td></td>\n",
       "      <td></td>\n",
       "      <td></td>\n",
       "    </tr>\n",
       "    <tr>\n",
       "      <th>2</th>\n",
       "      <td>https://www.youtube.com/watch?v=vvdLLbhxwDA</td>\n",
       "      <td></td>\n",
       "      <td></td>\n",
       "      <td></td>\n",
       "      <td></td>\n",
       "    </tr>\n",
       "    <tr>\n",
       "      <th>3</th>\n",
       "      <td>https://www.youtube.com/watch?v=l5aw6LHt9iI</td>\n",
       "      <td></td>\n",
       "      <td></td>\n",
       "      <td></td>\n",
       "      <td></td>\n",
       "    </tr>\n",
       "    <tr>\n",
       "      <th>4</th>\n",
       "      <td>https://habr.com/ru/post/193844/</td>\n",
       "      <td></td>\n",
       "      <td></td>\n",
       "      <td></td>\n",
       "      <td></td>\n",
       "    </tr>\n",
       "    <tr>\n",
       "      <th>...</th>\n",
       "      <td>...</td>\n",
       "      <td>...</td>\n",
       "      <td>...</td>\n",
       "      <td>...</td>\n",
       "      <td>...</td>\n",
       "    </tr>\n",
       "    <tr>\n",
       "      <th>2415</th>\n",
       "      <td>https://rt.pornhub.com/view_video.php?viewkey=1266029882</td>\n",
       "      <td></td>\n",
       "      <td></td>\n",
       "      <td></td>\n",
       "      <td></td>\n",
       "    </tr>\n",
       "    <tr>\n",
       "      <th>2416</th>\n",
       "      <td>https://rutube.ru/video/30b4a32e310195d116f5dfc964c1a000/</td>\n",
       "      <td></td>\n",
       "      <td></td>\n",
       "      <td></td>\n",
       "      <td></td>\n",
       "    </tr>\n",
       "    <tr>\n",
       "      <th>2417</th>\n",
       "      <td>https://habr.com/ru/post/506464/</td>\n",
       "      <td></td>\n",
       "      <td></td>\n",
       "      <td></td>\n",
       "      <td></td>\n",
       "    </tr>\n",
       "    <tr>\n",
       "      <th>2418</th>\n",
       "      <td>https://pikabu.ru/story/pro_beshenuyu_ku_na_bmv_6219595</td>\n",
       "      <td></td>\n",
       "      <td></td>\n",
       "      <td></td>\n",
       "      <td></td>\n",
       "    </tr>\n",
       "    <tr>\n",
       "      <th>2419</th>\n",
       "      <td>https://rt.pornhub.com/view_video.php?viewkey=ph5c5861e4ecae2</td>\n",
       "      <td></td>\n",
       "      <td></td>\n",
       "      <td></td>\n",
       "      <td></td>\n",
       "    </tr>\n",
       "  </tbody>\n",
       "</table>\n",
       "<p>2420 rows × 5 columns</p>\n",
       "</div>"
      ],
      "text/plain": [
       "                                                                url team_1  \\\n",
       "0                    https://habr.com/ru/company/wrike/blog/506928/          \n",
       "1                                        https://vimeo.com/91371852          \n",
       "2                       https://www.youtube.com/watch?v=vvdLLbhxwDA          \n",
       "3                       https://www.youtube.com/watch?v=l5aw6LHt9iI          \n",
       "4                                  https://habr.com/ru/post/193844/          \n",
       "...                                                             ...    ...   \n",
       "2415       https://rt.pornhub.com/view_video.php?viewkey=1266029882          \n",
       "2416      https://rutube.ru/video/30b4a32e310195d116f5dfc964c1a000/          \n",
       "2417                               https://habr.com/ru/post/506464/          \n",
       "2418        https://pikabu.ru/story/pro_beshenuyu_ku_na_bmv_6219595          \n",
       "2419  https://rt.pornhub.com/view_video.php?viewkey=ph5c5861e4ecae2          \n",
       "\n",
       "     team_2 team_3 team_4  \n",
       "0     Hello                \n",
       "1                          \n",
       "2                          \n",
       "3                          \n",
       "4                          \n",
       "...     ...    ...    ...  \n",
       "2415                       \n",
       "2416                       \n",
       "2417                       \n",
       "2418                       \n",
       "2419                       \n",
       "\n",
       "[2420 rows x 5 columns]"
      ]
     },
     "execution_count": 21,
     "metadata": {},
     "output_type": "execute_result"
    }
   ],
   "source": [
    "sheet_df"
   ]
  },
  {
   "cell_type": "code",
   "execution_count": 22,
   "metadata": {},
   "outputs": [
    {
     "data": {
      "text/plain": [
       "0                      https://habr.com/ru/company/wrike/blog/506928/\n",
       "1                                          https://vimeo.com/91371852\n",
       "2                         https://www.youtube.com/watch?v=vvdLLbhxwDA\n",
       "3                         https://www.youtube.com/watch?v=l5aw6LHt9iI\n",
       "4                                    https://habr.com/ru/post/193844/\n",
       "                                    ...                              \n",
       "2415         https://rt.pornhub.com/view_video.php?viewkey=1266029882\n",
       "2416        https://rutube.ru/video/30b4a32e310195d116f5dfc964c1a000/\n",
       "2417                                 https://habr.com/ru/post/506464/\n",
       "2418          https://pikabu.ru/story/pro_beshenuyu_ku_na_bmv_6219595\n",
       "2419    https://rt.pornhub.com/view_video.php?viewkey=ph5c5861e4ecae2\n",
       "Name: url, Length: 2420, dtype: object"
      ]
     },
     "execution_count": 22,
     "metadata": {},
     "output_type": "execute_result"
    }
   ],
   "source": [
    "urls = sheet_df['url']\n",
    "urls"
   ]
  },
  {
   "cell_type": "code",
   "execution_count": 23,
   "metadata": {},
   "outputs": [
    {
     "data": {
      "text/html": [
       "<div>\n",
       "<style scoped>\n",
       "    .dataframe tbody tr th:only-of-type {\n",
       "        vertical-align: middle;\n",
       "    }\n",
       "\n",
       "    .dataframe tbody tr th {\n",
       "        vertical-align: top;\n",
       "    }\n",
       "\n",
       "    .dataframe thead th {\n",
       "        text-align: right;\n",
       "    }\n",
       "</style>\n",
       "<table border=\"1\" class=\"dataframe\">\n",
       "  <thead>\n",
       "    <tr style=\"text-align: right;\">\n",
       "      <th></th>\n",
       "      <th>scheme</th>\n",
       "      <th>netloc</th>\n",
       "      <th>path</th>\n",
       "      <th>params</th>\n",
       "      <th>query</th>\n",
       "      <th>fragment</th>\n",
       "    </tr>\n",
       "  </thead>\n",
       "  <tbody>\n",
       "    <tr>\n",
       "      <th>0</th>\n",
       "      <td>https</td>\n",
       "      <td>habr.com</td>\n",
       "      <td>/ru/company/wrike/blog/506928/</td>\n",
       "      <td></td>\n",
       "      <td></td>\n",
       "      <td></td>\n",
       "    </tr>\n",
       "    <tr>\n",
       "      <th>1</th>\n",
       "      <td>https</td>\n",
       "      <td>vimeo.com</td>\n",
       "      <td>/91371852</td>\n",
       "      <td></td>\n",
       "      <td></td>\n",
       "      <td></td>\n",
       "    </tr>\n",
       "    <tr>\n",
       "      <th>2</th>\n",
       "      <td>https</td>\n",
       "      <td>www.youtube.com</td>\n",
       "      <td>/watch</td>\n",
       "      <td></td>\n",
       "      <td>v=vvdLLbhxwDA</td>\n",
       "      <td></td>\n",
       "    </tr>\n",
       "    <tr>\n",
       "      <th>3</th>\n",
       "      <td>https</td>\n",
       "      <td>www.youtube.com</td>\n",
       "      <td>/watch</td>\n",
       "      <td></td>\n",
       "      <td>v=l5aw6LHt9iI</td>\n",
       "      <td></td>\n",
       "    </tr>\n",
       "    <tr>\n",
       "      <th>4</th>\n",
       "      <td>https</td>\n",
       "      <td>habr.com</td>\n",
       "      <td>/ru/post/193844/</td>\n",
       "      <td></td>\n",
       "      <td></td>\n",
       "      <td></td>\n",
       "    </tr>\n",
       "    <tr>\n",
       "      <th>...</th>\n",
       "      <td>...</td>\n",
       "      <td>...</td>\n",
       "      <td>...</td>\n",
       "      <td>...</td>\n",
       "      <td>...</td>\n",
       "      <td>...</td>\n",
       "    </tr>\n",
       "    <tr>\n",
       "      <th>2415</th>\n",
       "      <td>https</td>\n",
       "      <td>rt.pornhub.com</td>\n",
       "      <td>/view_video.php</td>\n",
       "      <td></td>\n",
       "      <td>viewkey=1266029882</td>\n",
       "      <td></td>\n",
       "    </tr>\n",
       "    <tr>\n",
       "      <th>2416</th>\n",
       "      <td>https</td>\n",
       "      <td>rutube.ru</td>\n",
       "      <td>/video/30b4a32e310195d116f5dfc964c1a000/</td>\n",
       "      <td></td>\n",
       "      <td></td>\n",
       "      <td></td>\n",
       "    </tr>\n",
       "    <tr>\n",
       "      <th>2417</th>\n",
       "      <td>https</td>\n",
       "      <td>habr.com</td>\n",
       "      <td>/ru/post/506464/</td>\n",
       "      <td></td>\n",
       "      <td></td>\n",
       "      <td></td>\n",
       "    </tr>\n",
       "    <tr>\n",
       "      <th>2418</th>\n",
       "      <td>https</td>\n",
       "      <td>pikabu.ru</td>\n",
       "      <td>/story/pro_beshenuyu_ku_na_bmv_6219595</td>\n",
       "      <td></td>\n",
       "      <td></td>\n",
       "      <td></td>\n",
       "    </tr>\n",
       "    <tr>\n",
       "      <th>2419</th>\n",
       "      <td>https</td>\n",
       "      <td>rt.pornhub.com</td>\n",
       "      <td>/view_video.php</td>\n",
       "      <td></td>\n",
       "      <td>viewkey=ph5c5861e4ecae2</td>\n",
       "      <td></td>\n",
       "    </tr>\n",
       "  </tbody>\n",
       "</table>\n",
       "<p>2420 rows × 6 columns</p>\n",
       "</div>"
      ],
      "text/plain": [
       "     scheme           netloc                                      path params  \\\n",
       "0     https         habr.com            /ru/company/wrike/blog/506928/          \n",
       "1     https        vimeo.com                                 /91371852          \n",
       "2     https  www.youtube.com                                    /watch          \n",
       "3     https  www.youtube.com                                    /watch          \n",
       "4     https         habr.com                          /ru/post/193844/          \n",
       "...     ...              ...                                       ...    ...   \n",
       "2415  https   rt.pornhub.com                           /view_video.php          \n",
       "2416  https        rutube.ru  /video/30b4a32e310195d116f5dfc964c1a000/          \n",
       "2417  https         habr.com                          /ru/post/506464/          \n",
       "2418  https        pikabu.ru    /story/pro_beshenuyu_ku_na_bmv_6219595          \n",
       "2419  https   rt.pornhub.com                           /view_video.php          \n",
       "\n",
       "                        query fragment  \n",
       "0                                       \n",
       "1                                       \n",
       "2               v=vvdLLbhxwDA           \n",
       "3               v=l5aw6LHt9iI           \n",
       "4                                       \n",
       "...                       ...      ...  \n",
       "2415       viewkey=1266029882           \n",
       "2416                                    \n",
       "2417                                    \n",
       "2418                                    \n",
       "2419  viewkey=ph5c5861e4ecae2           \n",
       "\n",
       "[2420 rows x 6 columns]"
      ]
     },
     "execution_count": 23,
     "metadata": {},
     "output_type": "execute_result"
    }
   ],
   "source": [
    "parsed_urls_df = sheet_df['url'].apply(urlparse).apply(pd.Series)\n",
    "parsed_urls_df.columns = ['scheme', 'netloc', 'path', 'params', 'query', 'fragment']\n",
    "parsed_urls_df"
   ]
  },
  {
   "cell_type": "code",
   "execution_count": 24,
   "metadata": {},
   "outputs": [
    {
     "data": {
      "text/plain": [
       "https    2392\n",
       "            4\n",
       "hkkps       2\n",
       "rttps       2\n",
       "httls       2\n",
       "hqqps       1\n",
       "hggps       1\n",
       "httas       1\n",
       "mttps       1\n",
       "hbbps       1\n",
       "sttps       1\n",
       "httpd       1\n",
       "httpf       1\n",
       "httrs       1\n",
       "hwwps       1\n",
       "httcs       1\n",
       "huups       1\n",
       "httfs       1\n",
       "httpu       1\n",
       "httph       1\n",
       "yttps       1\n",
       "httbs       1\n",
       "hjjps       1\n",
       "Name: scheme, dtype: int64"
      ]
     },
     "execution_count": 24,
     "metadata": {},
     "output_type": "execute_result"
    }
   ],
   "source": [
    "parsed_urls_df['scheme'].value_counts()"
   ]
  },
  {
   "cell_type": "code",
   "execution_count": 25,
   "metadata": {},
   "outputs": [
    {
     "data": {
      "text/plain": [
       "rt.pornhub.com     895\n",
       "habr.com           431\n",
       "rutube.ru          294\n",
       "vimeo.com          280\n",
       "www.youtube.com    270\n",
       "pikabu.ru          182\n",
       "                     4\n",
       "rt.pvrnhub.cvm       2\n",
       "mt.pomnhub.com       2\n",
       "rt.pornhun.com       2\n",
       "rftfbe.rf            2\n",
       "rt.pornsub.com       1\n",
       "rt.parnhub.cam       1\n",
       "pnkabu.ru            1\n",
       "rt.pornhub.con       1\n",
       "rt.pornhub.hom       1\n",
       "fikabu.ru            1\n",
       "rk.pornhub.com       1\n",
       "rltlbe.rl            1\n",
       "habr.cwm             1\n",
       "rt.porchub.com       1\n",
       "likabu.ru            1\n",
       "rt.pornhub.cop       1\n",
       "lutube.lu            1\n",
       "rt.pornhvb.com       1\n",
       "rt.pornhuf.com       1\n",
       "ft.pofnhub.com       1\n",
       "rukube.ru            1\n",
       "pivabu.ru            1\n",
       "rt.pornhkb.com       1\n",
       "rt.pornhub.cok       1\n",
       "rg.pornhub.com       1\n",
       "rt.pornhux.com       1\n",
       "ru.pornhub.com       1\n",
       "qt.poqnhub.com       1\n",
       "rwtwbe.rw            1\n",
       "rw.pornhub.com       1\n",
       "rt.pornhub.oom       1\n",
       "rb.pornhub.com       1\n",
       "rt.pornhub.cor       1\n",
       "rt.porkhub.com       1\n",
       "rt.pornhub.aom       1\n",
       "rt.pornmub.com       1\n",
       "ut.pounhub.com       1\n",
       "pikdbu.ru            1\n",
       "kutube.ku            1\n",
       "rutute.ru            1\n",
       "rt.pornhub.coc       1\n",
       "rt.rornhub.com       1\n",
       "rt.pornhzb.com       1\n",
       "Name: netloc, dtype: int64"
      ]
     },
     "execution_count": 25,
     "metadata": {},
     "output_type": "execute_result"
    }
   ],
   "source": [
    "site_counts = parsed_urls_df['netloc'].value_counts()\n",
    "site_counts[:50]"
   ]
  },
  {
   "cell_type": "code",
   "execution_count": 26,
   "metadata": {},
   "outputs": [
    {
     "data": {
      "text/plain": [
       "['habr.com',\n",
       " 'pikabu.ru',\n",
       " 'rt.pornhub.com',\n",
       " 'rutube.ru',\n",
       " 'vimeo.com',\n",
       " 'www.youtube.com']"
      ]
     },
     "execution_count": 26,
     "metadata": {},
     "output_type": "execute_result"
    }
   ],
   "source": [
    "correct_domains = site_counts[site_counts > 10].sort_index().index.tolist()\n",
    "correct_domains"
   ]
  },
  {
   "cell_type": "markdown",
   "metadata": {},
   "source": [
    "### Sites Parsing"
   ]
  },
  {
   "cell_type": "code",
   "execution_count": 27,
   "metadata": {},
   "outputs": [],
   "source": [
    "import requests\n",
    "from bs4 import BeautifulSoup"
   ]
  },
  {
   "cell_type": "markdown",
   "metadata": {},
   "source": [
    "**habr.com**"
   ]
  },
  {
   "cell_type": "code",
   "execution_count": 28,
   "metadata": {},
   "outputs": [
    {
     "data": {
      "text/plain": [
       "0          https://habr.com/ru/company/wrike/blog/506928/\n",
       "4                        https://habr.com/ru/post/193844/\n",
       "11                       https://habr.com/ru/post/496612/\n",
       "13                       https://habr.com/ru/post/481488/\n",
       "18                       https://habr.com/ru/post/491974/\n",
       "                              ...                        \n",
       "2396                     https://habr.com/ru/post/506902/\n",
       "2402                     https://habr.com/ru/post/507124/\n",
       "2403       https://habr.com/ru/company/vrike/blog/506928/\n",
       "2406    https://habr.com/ru/company/skilline/blog/506522/\n",
       "2417                     https://habr.com/ru/post/506464/\n",
       "Name: url, Length: 434, dtype: object"
      ]
     },
     "execution_count": 28,
     "metadata": {},
     "output_type": "execute_result"
    }
   ],
   "source": [
    "urls[urls.str.contains('habr')]"
   ]
  },
  {
   "cell_type": "code",
   "execution_count": 29,
   "metadata": {},
   "outputs": [],
   "source": [
    "url = 'https://habr.com/ru/company/wrike/blog/506928/'"
   ]
  },
  {
   "cell_type": "code",
   "execution_count": 30,
   "metadata": {},
   "outputs": [
    {
     "data": {
      "text/plain": [
       "'<!DOCTYPE html>'"
      ]
     },
     "execution_count": 30,
     "metadata": {},
     "output_type": "execute_result"
    }
   ],
   "source": [
    "html_text = requests.get(url).text\n",
    "html_text[:15]"
   ]
  },
  {
   "cell_type": "code",
   "execution_count": 31,
   "metadata": {},
   "outputs": [
    {
     "data": {
      "text/plain": [
       "'504'"
      ]
     },
     "execution_count": 31,
     "metadata": {},
     "output_type": "execute_result"
    }
   ],
   "source": [
    "soup = BeautifulSoup(html_text, 'lxml')\n",
    "soup.find('span', class_=\"post-stats__views-count\").text"
   ]
  },
  {
   "cell_type": "markdown",
   "metadata": {},
   "source": [
    "**pikabu.ru**"
   ]
  },
  {
   "cell_type": "code",
   "execution_count": 32,
   "metadata": {},
   "outputs": [
    {
     "data": {
      "text/plain": [
       "807                                                    https://pikabu.ru/story/moderator_vs_zombies_2177316\n",
       "814                 https://pikabu.ru/story/kak_ya_uznal_ob_izmene_ili_lyogkiy_sposob_brosit_shutit_7471791\n",
       "816                                       https://pikabu.ru/story/budet_li_otvet_ot_kospleyshchikov_7366977\n",
       "833     https://pikabu.ru/story/moskovskogo_gaishnika_zastavili_pisat_obyasnitelnuyu__on_ostanovil_zamgl...\n",
       "836                                                         https://pikabu.ru/story/mashkina_radost_6977120\n",
       "                                                       ...                                                 \n",
       "2382                                                                  https://pikabu.ru/story/genyi_6306182\n",
       "2401                  https://pikabu.ru/story/o_dvulichii_pikabu_na_primere_shashlyichnika_magomeda_5753834\n",
       "2410    https://pikabu.ru/story/kak_obmanut_na_millionyi_rubley_popast_na_pervyiy_kanal_i_stat_uspeshnyi...\n",
       "2412                                                   https://pikabu.ru/story/zakryili_bolnichnyiy_7414822\n",
       "2418                                                https://pikabu.ru/story/pro_beshenuyu_ku_na_bmv_6219595\n",
       "Name: url, Length: 183, dtype: object"
      ]
     },
     "execution_count": 32,
     "metadata": {},
     "output_type": "execute_result"
    }
   ],
   "source": [
    "urls[urls.str.contains('pikabu')]"
   ]
  },
  {
   "cell_type": "code",
   "execution_count": 33,
   "metadata": {},
   "outputs": [
    {
     "data": {
      "text/plain": [
       "'<!doctype html>'"
      ]
     },
     "execution_count": 33,
     "metadata": {},
     "output_type": "execute_result"
    }
   ],
   "source": [
    "# url = 'https://pikabu.ru/story/moderator_vs_zombies_2177316' # without link\n",
    "url = 'https://pikabu.ru/story/budet_li_otvet_ot_kospleyshchikov_7366977' # with link\n",
    "\n",
    "headers={'User-Agent': 'Mozilla/5.0 (Macintosh; Intel Mac OS X 10_12_2) AppleWebKit/537.36 (KHTML, like Gecko) Chrome/55.0.2883.95 Safari/537.36'}\n",
    "\n",
    "html_text = requests.get(url, headers=headers).text\n",
    "html_text[:15]"
   ]
  },
  {
   "cell_type": "code",
   "execution_count": 34,
   "metadata": {},
   "outputs": [],
   "source": [
    "soup = BeautifulSoup(html_text, 'lxml')\n",
    "soup.find('div', class_=\"story__views-count\")"
   ]
  },
  {
   "cell_type": "code",
   "execution_count": 38,
   "metadata": {},
   "outputs": [],
   "source": [
    "from selenium import webdriver\n",
    "from webdriver_manager.chrome import ChromeDriverManager \n",
    "from selenium.webdriver.chrome.options import Options\n",
    "\n",
    "chrome_options = Options()\n",
    "chrome_options.headless = True\n",
    "chrome_options.add_argument('--no-proxy-server') \n",
    "chrome_options.add_argument(\"--proxy-server='direct://'\")\n",
    "chrome_options.add_argument(\"--proxy-bypass-list=*\")\n",
    "\n",
    "browser = webdriver.Chrome(ChromeDriverManager().install(),options=chrome_options)\n",
    "\n",
    "browser.get(url)\n",
    "print(browser.find_element_by_class_name('story__views-count').text)\n",
    "browser.quit()"
   ]
  },
  {
   "cell_type": "code",
   "execution_count": null,
   "metadata": {},
   "outputs": [],
   "source": []
  }
 ],
 "metadata": {
  "kernelspec": {
   "display_name": "py37",
   "language": "python",
   "name": "py37"
  },
  "language_info": {
   "codemirror_mode": {
    "name": "ipython",
    "version": 3
   },
   "file_extension": ".py",
   "mimetype": "text/x-python",
   "name": "python",
   "nbconvert_exporter": "python",
   "pygments_lexer": "ipython3",
   "version": "3.7.7"
  }
 },
 "nbformat": 4,
 "nbformat_minor": 4
}
