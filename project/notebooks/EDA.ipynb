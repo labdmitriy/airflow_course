{
 "cells": [
  {
   "cell_type": "code",
   "execution_count": 1,
   "metadata": {},
   "outputs": [],
   "source": [
    "from pathlib import Path\n",
    "\n",
    "import gspread\n",
    "from oauth2client.service_account import ServiceAccountCredentials\n",
    "\n",
    "import pandas as pd"
   ]
  },
  {
   "cell_type": "code",
   "execution_count": 2,
   "metadata": {},
   "outputs": [],
   "source": [
    "pd.set_option('max_colwidth', 100) # 50 by default"
   ]
  },
  {
   "cell_type": "markdown",
   "metadata": {},
   "source": [
    "### Get access to Google Sheets"
   ]
  },
  {
   "cell_type": "code",
   "execution_count": 3,
   "metadata": {},
   "outputs": [],
   "source": [
    "KEY_PATH = '../keys/airflow_secret.json'"
   ]
  },
  {
   "cell_type": "code",
   "execution_count": 4,
   "metadata": {},
   "outputs": [],
   "source": [
    "scope = ['https://spreadsheets.google.com/feeds','https://www.googleapis.com/auth/drive']\n",
    "creds = ServiceAccountCredentials.from_json_keyfile_name(KEY_PATH, scope)\n",
    "client = gspread.authorize(creds)"
   ]
  },
  {
   "cell_type": "code",
   "execution_count": 5,
   "metadata": {},
   "outputs": [],
   "source": [
    "TEST_URL = 'https://docs.google.com/spreadsheets/d/1Qxnc9bp8-5M3lSxzVDD817To5OEB3JkMG0XpFznrtD8/edit#gid=0'\n",
    "# URL = 'https://docs.google.com/spreadsheets/d/1GE-4bLOuBOhMCGF-vGs7j2BTSdsgRmvKvDQhBqMkNuk/edit#gid=0'"
   ]
  },
  {
   "cell_type": "code",
   "execution_count": 6,
   "metadata": {},
   "outputs": [
    {
     "data": {
      "text/plain": [
       "<Worksheet 'Sheet1' id:0>"
      ]
     },
     "execution_count": 6,
     "metadata": {},
     "output_type": "execute_result"
    }
   ],
   "source": [
    "sheet = client.open_by_url(TEST_URL).sheet1\n",
    "sheet"
   ]
  },
  {
   "cell_type": "code",
   "execution_count": 7,
   "metadata": {},
   "outputs": [
    {
     "data": {
      "text/plain": [
       "[{'ссылка': 'https://habr.com/ru/company/wrike/blog/506928/',\n",
       "  'Зимка Борис & Смирнов Максим': '',\n",
       "  'Лабазкин Дмитрий & Хачатрян Екатерина': 'Hello',\n",
       "  'Максим Ястремский & Кузнецов Дмитрий': '',\n",
       "  'Юлия Пак': ''},\n",
       " {'ссылка': 'https://vimeo.com/91371852',\n",
       "  'Зимка Борис & Смирнов Максим': '',\n",
       "  'Лабазкин Дмитрий & Хачатрян Екатерина': 1,\n",
       "  'Максим Ястремский & Кузнецов Дмитрий': '',\n",
       "  'Юлия Пак': ''},\n",
       " {'ссылка': 'https://www.youtube.com/watch?v=vvdLLbhxwDA',\n",
       "  'Зимка Борис & Смирнов Максим': '',\n",
       "  'Лабазкин Дмитрий & Хачатрян Екатерина': 2,\n",
       "  'Максим Ястремский & Кузнецов Дмитрий': '',\n",
       "  'Юлия Пак': ''}]"
      ]
     },
     "execution_count": 7,
     "metadata": {},
     "output_type": "execute_result"
    }
   ],
   "source": [
    "sheet_data = sheet.get_all_records(head=2)\n",
    "sheet_data[:3]"
   ]
  },
  {
   "cell_type": "code",
   "execution_count": 8,
   "metadata": {},
   "outputs": [
    {
     "name": "stdout",
     "output_type": "stream",
     "text": [
      "2420\n"
     ]
    },
    {
     "data": {
      "text/html": [
       "<div>\n",
       "<style scoped>\n",
       "    .dataframe tbody tr th:only-of-type {\n",
       "        vertical-align: middle;\n",
       "    }\n",
       "\n",
       "    .dataframe tbody tr th {\n",
       "        vertical-align: top;\n",
       "    }\n",
       "\n",
       "    .dataframe thead th {\n",
       "        text-align: right;\n",
       "    }\n",
       "</style>\n",
       "<table border=\"1\" class=\"dataframe\">\n",
       "  <thead>\n",
       "    <tr style=\"text-align: right;\">\n",
       "      <th></th>\n",
       "      <th>url</th>\n",
       "      <th>team_1</th>\n",
       "      <th>team_2</th>\n",
       "      <th>team_3</th>\n",
       "      <th>team_4</th>\n",
       "    </tr>\n",
       "  </thead>\n",
       "  <tbody>\n",
       "    <tr>\n",
       "      <th>0</th>\n",
       "      <td>https://habr.com/ru/company/wrike/blog/506928/</td>\n",
       "      <td></td>\n",
       "      <td>Hello</td>\n",
       "      <td></td>\n",
       "      <td></td>\n",
       "    </tr>\n",
       "    <tr>\n",
       "      <th>1</th>\n",
       "      <td>https://vimeo.com/91371852</td>\n",
       "      <td></td>\n",
       "      <td>1</td>\n",
       "      <td></td>\n",
       "      <td></td>\n",
       "    </tr>\n",
       "    <tr>\n",
       "      <th>2</th>\n",
       "      <td>https://www.youtube.com/watch?v=vvdLLbhxwDA</td>\n",
       "      <td></td>\n",
       "      <td>2</td>\n",
       "      <td></td>\n",
       "      <td></td>\n",
       "    </tr>\n",
       "    <tr>\n",
       "      <th>3</th>\n",
       "      <td>https://www.youtube.com/watch?v=l5aw6LHt9iI</td>\n",
       "      <td></td>\n",
       "      <td>3</td>\n",
       "      <td></td>\n",
       "      <td></td>\n",
       "    </tr>\n",
       "    <tr>\n",
       "      <th>4</th>\n",
       "      <td>https://habr.com/ru/post/193844/</td>\n",
       "      <td></td>\n",
       "      <td>4</td>\n",
       "      <td></td>\n",
       "      <td></td>\n",
       "    </tr>\n",
       "  </tbody>\n",
       "</table>\n",
       "</div>"
      ],
      "text/plain": [
       "                                              url team_1 team_2 team_3 team_4\n",
       "0  https://habr.com/ru/company/wrike/blog/506928/         Hello              \n",
       "1                      https://vimeo.com/91371852             1              \n",
       "2     https://www.youtube.com/watch?v=vvdLLbhxwDA             2              \n",
       "3     https://www.youtube.com/watch?v=l5aw6LHt9iI             3              \n",
       "4                https://habr.com/ru/post/193844/             4              "
      ]
     },
     "execution_count": 8,
     "metadata": {},
     "output_type": "execute_result"
    }
   ],
   "source": [
    "sheet_df = pd.DataFrame(sheet_data)\n",
    "sheet_df.columns = ['url', 'team_1', 'team_2', 'team_3', 'team_4']\n",
    "print(len(sheet_df))\n",
    "sheet_df.head()"
   ]
  },
  {
   "cell_type": "code",
   "execution_count": 9,
   "metadata": {},
   "outputs": [
    {
     "data": {
      "text/plain": [
       "{'spreadsheetId': '1Qxnc9bp8-5M3lSxzVDD817To5OEB3JkMG0XpFznrtD8',\n",
       " 'updatedRange': 'Sheet1!C3',\n",
       " 'updatedRows': 1,\n",
       " 'updatedColumns': 1,\n",
       " 'updatedCells': 1}"
      ]
     },
     "execution_count": 9,
     "metadata": {},
     "output_type": "execute_result"
    }
   ],
   "source": [
    "sheet.update_acell('C3', 'Hello')"
   ]
  },
  {
   "cell_type": "code",
   "execution_count": 10,
   "metadata": {},
   "outputs": [
    {
     "data": {
      "text/plain": [
       "{'spreadsheetId': '1Qxnc9bp8-5M3lSxzVDD817To5OEB3JkMG0XpFznrtD8',\n",
       " 'updatedRange': 'Sheet1!C10:C15',\n",
       " 'updatedRows': 6,\n",
       " 'updatedColumns': 1,\n",
       " 'updatedCells': 6}"
      ]
     },
     "execution_count": 10,
     "metadata": {},
     "output_type": "execute_result"
    }
   ],
   "source": [
    "sheet.update('C10:C15', [[1], [2], [3], [4], [5], [5]])"
   ]
  },
  {
   "cell_type": "markdown",
   "metadata": {},
   "source": [
    "### Explore URLs"
   ]
  },
  {
   "cell_type": "code",
   "execution_count": 11,
   "metadata": {},
   "outputs": [],
   "source": [
    "from urllib.parse import urlparse"
   ]
  },
  {
   "cell_type": "code",
   "execution_count": 12,
   "metadata": {},
   "outputs": [
    {
     "data": {
      "text/html": [
       "<div>\n",
       "<style scoped>\n",
       "    .dataframe tbody tr th:only-of-type {\n",
       "        vertical-align: middle;\n",
       "    }\n",
       "\n",
       "    .dataframe tbody tr th {\n",
       "        vertical-align: top;\n",
       "    }\n",
       "\n",
       "    .dataframe thead th {\n",
       "        text-align: right;\n",
       "    }\n",
       "</style>\n",
       "<table border=\"1\" class=\"dataframe\">\n",
       "  <thead>\n",
       "    <tr style=\"text-align: right;\">\n",
       "      <th></th>\n",
       "      <th>url</th>\n",
       "      <th>team_1</th>\n",
       "      <th>team_2</th>\n",
       "      <th>team_3</th>\n",
       "      <th>team_4</th>\n",
       "    </tr>\n",
       "  </thead>\n",
       "  <tbody>\n",
       "    <tr>\n",
       "      <th>0</th>\n",
       "      <td>https://habr.com/ru/company/wrike/blog/506928/</td>\n",
       "      <td></td>\n",
       "      <td>Hello</td>\n",
       "      <td></td>\n",
       "      <td></td>\n",
       "    </tr>\n",
       "    <tr>\n",
       "      <th>1</th>\n",
       "      <td>https://vimeo.com/91371852</td>\n",
       "      <td></td>\n",
       "      <td>1</td>\n",
       "      <td></td>\n",
       "      <td></td>\n",
       "    </tr>\n",
       "    <tr>\n",
       "      <th>2</th>\n",
       "      <td>https://www.youtube.com/watch?v=vvdLLbhxwDA</td>\n",
       "      <td></td>\n",
       "      <td>2</td>\n",
       "      <td></td>\n",
       "      <td></td>\n",
       "    </tr>\n",
       "    <tr>\n",
       "      <th>3</th>\n",
       "      <td>https://www.youtube.com/watch?v=l5aw6LHt9iI</td>\n",
       "      <td></td>\n",
       "      <td>3</td>\n",
       "      <td></td>\n",
       "      <td></td>\n",
       "    </tr>\n",
       "    <tr>\n",
       "      <th>4</th>\n",
       "      <td>https://habr.com/ru/post/193844/</td>\n",
       "      <td></td>\n",
       "      <td>4</td>\n",
       "      <td></td>\n",
       "      <td></td>\n",
       "    </tr>\n",
       "    <tr>\n",
       "      <th>...</th>\n",
       "      <td>...</td>\n",
       "      <td>...</td>\n",
       "      <td>...</td>\n",
       "      <td>...</td>\n",
       "      <td>...</td>\n",
       "    </tr>\n",
       "    <tr>\n",
       "      <th>2415</th>\n",
       "      <td>https://rt.pornhub.com/view_video.php?viewkey=1266029882</td>\n",
       "      <td></td>\n",
       "      <td>2415</td>\n",
       "      <td></td>\n",
       "      <td></td>\n",
       "    </tr>\n",
       "    <tr>\n",
       "      <th>2416</th>\n",
       "      <td>https://rutube.ru/video/30b4a32e310195d116f5dfc964c1a000/</td>\n",
       "      <td></td>\n",
       "      <td>2416</td>\n",
       "      <td></td>\n",
       "      <td></td>\n",
       "    </tr>\n",
       "    <tr>\n",
       "      <th>2417</th>\n",
       "      <td>https://habr.com/ru/post/506464/</td>\n",
       "      <td></td>\n",
       "      <td>2417</td>\n",
       "      <td></td>\n",
       "      <td></td>\n",
       "    </tr>\n",
       "    <tr>\n",
       "      <th>2418</th>\n",
       "      <td>https://pikabu.ru/story/pro_beshenuyu_ku_na_bmv_6219595</td>\n",
       "      <td></td>\n",
       "      <td>2418</td>\n",
       "      <td></td>\n",
       "      <td></td>\n",
       "    </tr>\n",
       "    <tr>\n",
       "      <th>2419</th>\n",
       "      <td>https://rt.pornhub.com/view_video.php?viewkey=ph5c5861e4ecae2</td>\n",
       "      <td></td>\n",
       "      <td>2419</td>\n",
       "      <td></td>\n",
       "      <td></td>\n",
       "    </tr>\n",
       "  </tbody>\n",
       "</table>\n",
       "<p>2420 rows × 5 columns</p>\n",
       "</div>"
      ],
      "text/plain": [
       "                                                                url team_1  \\\n",
       "0                    https://habr.com/ru/company/wrike/blog/506928/          \n",
       "1                                        https://vimeo.com/91371852          \n",
       "2                       https://www.youtube.com/watch?v=vvdLLbhxwDA          \n",
       "3                       https://www.youtube.com/watch?v=l5aw6LHt9iI          \n",
       "4                                  https://habr.com/ru/post/193844/          \n",
       "...                                                             ...    ...   \n",
       "2415       https://rt.pornhub.com/view_video.php?viewkey=1266029882          \n",
       "2416      https://rutube.ru/video/30b4a32e310195d116f5dfc964c1a000/          \n",
       "2417                               https://habr.com/ru/post/506464/          \n",
       "2418        https://pikabu.ru/story/pro_beshenuyu_ku_na_bmv_6219595          \n",
       "2419  https://rt.pornhub.com/view_video.php?viewkey=ph5c5861e4ecae2          \n",
       "\n",
       "     team_2 team_3 team_4  \n",
       "0     Hello                \n",
       "1         1                \n",
       "2         2                \n",
       "3         3                \n",
       "4         4                \n",
       "...     ...    ...    ...  \n",
       "2415   2415                \n",
       "2416   2416                \n",
       "2417   2417                \n",
       "2418   2418                \n",
       "2419   2419                \n",
       "\n",
       "[2420 rows x 5 columns]"
      ]
     },
     "execution_count": 12,
     "metadata": {},
     "output_type": "execute_result"
    }
   ],
   "source": [
    "sheet_df"
   ]
  },
  {
   "cell_type": "code",
   "execution_count": 13,
   "metadata": {},
   "outputs": [
    {
     "data": {
      "text/plain": [
       "0                      https://habr.com/ru/company/wrike/blog/506928/\n",
       "1                                          https://vimeo.com/91371852\n",
       "2                         https://www.youtube.com/watch?v=vvdLLbhxwDA\n",
       "3                         https://www.youtube.com/watch?v=l5aw6LHt9iI\n",
       "4                                    https://habr.com/ru/post/193844/\n",
       "                                    ...                              \n",
       "2415         https://rt.pornhub.com/view_video.php?viewkey=1266029882\n",
       "2416        https://rutube.ru/video/30b4a32e310195d116f5dfc964c1a000/\n",
       "2417                                 https://habr.com/ru/post/506464/\n",
       "2418          https://pikabu.ru/story/pro_beshenuyu_ku_na_bmv_6219595\n",
       "2419    https://rt.pornhub.com/view_video.php?viewkey=ph5c5861e4ecae2\n",
       "Name: url, Length: 2420, dtype: object"
      ]
     },
     "execution_count": 13,
     "metadata": {},
     "output_type": "execute_result"
    }
   ],
   "source": [
    "urls = sheet_df['url']\n",
    "urls"
   ]
  },
  {
   "cell_type": "code",
   "execution_count": 14,
   "metadata": {},
   "outputs": [
    {
     "data": {
      "text/html": [
       "<div>\n",
       "<style scoped>\n",
       "    .dataframe tbody tr th:only-of-type {\n",
       "        vertical-align: middle;\n",
       "    }\n",
       "\n",
       "    .dataframe tbody tr th {\n",
       "        vertical-align: top;\n",
       "    }\n",
       "\n",
       "    .dataframe thead th {\n",
       "        text-align: right;\n",
       "    }\n",
       "</style>\n",
       "<table border=\"1\" class=\"dataframe\">\n",
       "  <thead>\n",
       "    <tr style=\"text-align: right;\">\n",
       "      <th></th>\n",
       "      <th>scheme</th>\n",
       "      <th>netloc</th>\n",
       "      <th>path</th>\n",
       "      <th>params</th>\n",
       "      <th>query</th>\n",
       "      <th>fragment</th>\n",
       "    </tr>\n",
       "  </thead>\n",
       "  <tbody>\n",
       "    <tr>\n",
       "      <th>0</th>\n",
       "      <td>https</td>\n",
       "      <td>habr.com</td>\n",
       "      <td>/ru/company/wrike/blog/506928/</td>\n",
       "      <td></td>\n",
       "      <td></td>\n",
       "      <td></td>\n",
       "    </tr>\n",
       "    <tr>\n",
       "      <th>1</th>\n",
       "      <td>https</td>\n",
       "      <td>vimeo.com</td>\n",
       "      <td>/91371852</td>\n",
       "      <td></td>\n",
       "      <td></td>\n",
       "      <td></td>\n",
       "    </tr>\n",
       "    <tr>\n",
       "      <th>2</th>\n",
       "      <td>https</td>\n",
       "      <td>www.youtube.com</td>\n",
       "      <td>/watch</td>\n",
       "      <td></td>\n",
       "      <td>v=vvdLLbhxwDA</td>\n",
       "      <td></td>\n",
       "    </tr>\n",
       "    <tr>\n",
       "      <th>3</th>\n",
       "      <td>https</td>\n",
       "      <td>www.youtube.com</td>\n",
       "      <td>/watch</td>\n",
       "      <td></td>\n",
       "      <td>v=l5aw6LHt9iI</td>\n",
       "      <td></td>\n",
       "    </tr>\n",
       "    <tr>\n",
       "      <th>4</th>\n",
       "      <td>https</td>\n",
       "      <td>habr.com</td>\n",
       "      <td>/ru/post/193844/</td>\n",
       "      <td></td>\n",
       "      <td></td>\n",
       "      <td></td>\n",
       "    </tr>\n",
       "    <tr>\n",
       "      <th>...</th>\n",
       "      <td>...</td>\n",
       "      <td>...</td>\n",
       "      <td>...</td>\n",
       "      <td>...</td>\n",
       "      <td>...</td>\n",
       "      <td>...</td>\n",
       "    </tr>\n",
       "    <tr>\n",
       "      <th>2415</th>\n",
       "      <td>https</td>\n",
       "      <td>rt.pornhub.com</td>\n",
       "      <td>/view_video.php</td>\n",
       "      <td></td>\n",
       "      <td>viewkey=1266029882</td>\n",
       "      <td></td>\n",
       "    </tr>\n",
       "    <tr>\n",
       "      <th>2416</th>\n",
       "      <td>https</td>\n",
       "      <td>rutube.ru</td>\n",
       "      <td>/video/30b4a32e310195d116f5dfc964c1a000/</td>\n",
       "      <td></td>\n",
       "      <td></td>\n",
       "      <td></td>\n",
       "    </tr>\n",
       "    <tr>\n",
       "      <th>2417</th>\n",
       "      <td>https</td>\n",
       "      <td>habr.com</td>\n",
       "      <td>/ru/post/506464/</td>\n",
       "      <td></td>\n",
       "      <td></td>\n",
       "      <td></td>\n",
       "    </tr>\n",
       "    <tr>\n",
       "      <th>2418</th>\n",
       "      <td>https</td>\n",
       "      <td>pikabu.ru</td>\n",
       "      <td>/story/pro_beshenuyu_ku_na_bmv_6219595</td>\n",
       "      <td></td>\n",
       "      <td></td>\n",
       "      <td></td>\n",
       "    </tr>\n",
       "    <tr>\n",
       "      <th>2419</th>\n",
       "      <td>https</td>\n",
       "      <td>rt.pornhub.com</td>\n",
       "      <td>/view_video.php</td>\n",
       "      <td></td>\n",
       "      <td>viewkey=ph5c5861e4ecae2</td>\n",
       "      <td></td>\n",
       "    </tr>\n",
       "  </tbody>\n",
       "</table>\n",
       "<p>2420 rows × 6 columns</p>\n",
       "</div>"
      ],
      "text/plain": [
       "     scheme           netloc                                      path params  \\\n",
       "0     https         habr.com            /ru/company/wrike/blog/506928/          \n",
       "1     https        vimeo.com                                 /91371852          \n",
       "2     https  www.youtube.com                                    /watch          \n",
       "3     https  www.youtube.com                                    /watch          \n",
       "4     https         habr.com                          /ru/post/193844/          \n",
       "...     ...              ...                                       ...    ...   \n",
       "2415  https   rt.pornhub.com                           /view_video.php          \n",
       "2416  https        rutube.ru  /video/30b4a32e310195d116f5dfc964c1a000/          \n",
       "2417  https         habr.com                          /ru/post/506464/          \n",
       "2418  https        pikabu.ru    /story/pro_beshenuyu_ku_na_bmv_6219595          \n",
       "2419  https   rt.pornhub.com                           /view_video.php          \n",
       "\n",
       "                        query fragment  \n",
       "0                                       \n",
       "1                                       \n",
       "2               v=vvdLLbhxwDA           \n",
       "3               v=l5aw6LHt9iI           \n",
       "4                                       \n",
       "...                       ...      ...  \n",
       "2415       viewkey=1266029882           \n",
       "2416                                    \n",
       "2417                                    \n",
       "2418                                    \n",
       "2419  viewkey=ph5c5861e4ecae2           \n",
       "\n",
       "[2420 rows x 6 columns]"
      ]
     },
     "execution_count": 14,
     "metadata": {},
     "output_type": "execute_result"
    }
   ],
   "source": [
    "parsed_urls_df = sheet_df['url'].apply(urlparse).apply(pd.Series)\n",
    "parsed_urls_df.columns = ['scheme', 'netloc', 'path', 'params', 'query', 'fragment']\n",
    "parsed_urls_df"
   ]
  },
  {
   "cell_type": "code",
   "execution_count": 15,
   "metadata": {},
   "outputs": [
    {
     "data": {
      "text/plain": [
       "https    2392\n",
       "            4\n",
       "rttps       2\n",
       "hkkps       2\n",
       "httls       2\n",
       "hbbps       1\n",
       "httpu       1\n",
       "hwwps       1\n",
       "httpd       1\n",
       "httph       1\n",
       "httfs       1\n",
       "huups       1\n",
       "hjjps       1\n",
       "httas       1\n",
       "httcs       1\n",
       "hqqps       1\n",
       "mttps       1\n",
       "sttps       1\n",
       "httrs       1\n",
       "hggps       1\n",
       "httbs       1\n",
       "yttps       1\n",
       "httpf       1\n",
       "Name: scheme, dtype: int64"
      ]
     },
     "execution_count": 15,
     "metadata": {},
     "output_type": "execute_result"
    }
   ],
   "source": [
    "parsed_urls_df['scheme'].value_counts()"
   ]
  },
  {
   "cell_type": "code",
   "execution_count": 16,
   "metadata": {},
   "outputs": [
    {
     "data": {
      "text/plain": [
       "rt.pornhub.com     895\n",
       "habr.com           431\n",
       "rutube.ru          294\n",
       "vimeo.com          280\n",
       "www.youtube.com    270\n",
       "pikabu.ru          182\n",
       "                     4\n",
       "rt.pornhun.com       2\n",
       "mt.pomnhub.com       2\n",
       "rt.pvrnhub.cvm       2\n",
       "rftfbe.rf            2\n",
       "rutubx.ru            1\n",
       "rt.pornhub.aom       1\n",
       "rt.pornhgb.com       1\n",
       "rt.pornhub.coc       1\n",
       "qt.poqnhub.com       1\n",
       "rt.porghub.com       1\n",
       "pieabu.ru            1\n",
       "rt.pornyub.com       1\n",
       "ru.pornhub.com       1\n",
       "rt.rornhub.com       1\n",
       "lutube.lu            1\n",
       "rutuie.ru            1\n",
       "rq.pornhub.com       1\n",
       "rt.porkhub.com       1\n",
       "pikdbu.ru            1\n",
       "pnkabu.ru            1\n",
       "rb.pornhub.com       1\n",
       "rt.bornhub.com       1\n",
       "pikadu.ru            1\n",
       "rt.pornhub.cop       1\n",
       "pivabu.ru            1\n",
       "rt.porchub.com       1\n",
       "rt.pornhub.hom       1\n",
       "rt.pornhub.cor       1\n",
       "rt.pornhug.com       1\n",
       "ft.pofnhub.com       1\n",
       "rt.porvhub.com       1\n",
       "rt.pornhub.cok       1\n",
       "rt.pornhux.com       1\n",
       "rt.pornhzb.com       1\n",
       "rt.pornhkb.com       1\n",
       "habr.cjm             1\n",
       "rt.pornhub.oom       1\n",
       "rwtwbe.rw            1\n",
       "rt.pornsub.com       1\n",
       "rt.pornhud.com       1\n",
       "habr.chm             1\n",
       "ut.pounhub.com       1\n",
       "pikabu.su            1\n",
       "Name: netloc, dtype: int64"
      ]
     },
     "execution_count": 16,
     "metadata": {},
     "output_type": "execute_result"
    }
   ],
   "source": [
    "site_counts = parsed_urls_df['netloc'].value_counts()\n",
    "site_counts[:50]"
   ]
  },
  {
   "cell_type": "code",
   "execution_count": 28,
   "metadata": {},
   "outputs": [
    {
     "data": {
      "text/plain": [
       "['habr.com',\n",
       " 'pikabu.ru',\n",
       " 'rt.pornhub.com',\n",
       " 'rutube.ru',\n",
       " 'vimeo.com',\n",
       " 'www.youtube.com']"
      ]
     },
     "execution_count": 28,
     "metadata": {},
     "output_type": "execute_result"
    }
   ],
   "source": [
    "correct_domains = site_counts[site_counts > 10].sort_index().index.tolist()\n",
    "correct_domains"
   ]
  },
  {
   "cell_type": "code",
   "execution_count": 23,
   "metadata": {},
   "outputs": [
    {
     "data": {
      "text/plain": [
       "431"
      ]
     },
     "execution_count": 23,
     "metadata": {},
     "output_type": "execute_result"
    }
   ],
   "source": [
    "len(urls[urls.str.contains('habr.com')].tolist())"
   ]
  },
  {
   "cell_type": "markdown",
   "metadata": {},
   "source": [
    "### Sites Parsing"
   ]
  },
  {
   "cell_type": "code",
   "execution_count": 29,
   "metadata": {},
   "outputs": [],
   "source": [
    "import requests\n",
    "from bs4 import BeautifulSoup"
   ]
  },
  {
   "cell_type": "code",
   "execution_count": 30,
   "metadata": {},
   "outputs": [],
   "source": [
    "from selenium import webdriver\n",
    "from webdriver_manager.chrome import ChromeDriverManager \n",
    "from selenium.webdriver.chrome.options import Options"
   ]
  },
  {
   "cell_type": "markdown",
   "metadata": {},
   "source": [
    "**habr.com**"
   ]
  },
  {
   "cell_type": "code",
   "execution_count": 19,
   "metadata": {},
   "outputs": [
    {
     "data": {
      "text/plain": [
       "0          https://habr.com/ru/company/wrike/blog/506928/\n",
       "4                        https://habr.com/ru/post/193844/\n",
       "11                       https://habr.com/ru/post/496612/\n",
       "13                       https://habr.com/ru/post/481488/\n",
       "18                       https://habr.com/ru/post/491974/\n",
       "                              ...                        \n",
       "2396                     https://habr.com/ru/post/506902/\n",
       "2402                     https://habr.com/ru/post/507124/\n",
       "2403       https://habr.com/ru/company/vrike/blog/506928/\n",
       "2406    https://habr.com/ru/company/skilline/blog/506522/\n",
       "2417                     https://habr.com/ru/post/506464/\n",
       "Name: url, Length: 434, dtype: object"
      ]
     },
     "execution_count": 19,
     "metadata": {},
     "output_type": "execute_result"
    }
   ],
   "source": [
    "urls[urls.str.contains('habr')]"
   ]
  },
  {
   "cell_type": "code",
   "execution_count": 20,
   "metadata": {},
   "outputs": [],
   "source": [
    "url = 'https://habr.com/ru/company/wrike/blog/506928/'"
   ]
  },
  {
   "cell_type": "code",
   "execution_count": 21,
   "metadata": {},
   "outputs": [
    {
     "data": {
      "text/plain": [
       "'<!DOCTYPE html>'"
      ]
     },
     "execution_count": 21,
     "metadata": {},
     "output_type": "execute_result"
    }
   ],
   "source": [
    "html_text = requests.get(url).text\n",
    "html_text[:15]"
   ]
  },
  {
   "cell_type": "code",
   "execution_count": 22,
   "metadata": {},
   "outputs": [
    {
     "data": {
      "text/plain": [
       "'505'"
      ]
     },
     "execution_count": 22,
     "metadata": {},
     "output_type": "execute_result"
    }
   ],
   "source": [
    "soup = BeautifulSoup(html_text, 'lxml')\n",
    "soup.find('span', class_=\"post-stats__views-count\").text"
   ]
  },
  {
   "cell_type": "markdown",
   "metadata": {},
   "source": [
    "**pikabu.ru**"
   ]
  },
  {
   "cell_type": "code",
   "execution_count": 23,
   "metadata": {},
   "outputs": [
    {
     "data": {
      "text/plain": [
       "807                                                    https://pikabu.ru/story/moderator_vs_zombies_2177316\n",
       "814                 https://pikabu.ru/story/kak_ya_uznal_ob_izmene_ili_lyogkiy_sposob_brosit_shutit_7471791\n",
       "816                                       https://pikabu.ru/story/budet_li_otvet_ot_kospleyshchikov_7366977\n",
       "833     https://pikabu.ru/story/moskovskogo_gaishnika_zastavili_pisat_obyasnitelnuyu__on_ostanovil_zamgl...\n",
       "836                                                         https://pikabu.ru/story/mashkina_radost_6977120\n",
       "                                                       ...                                                 \n",
       "2382                                                                  https://pikabu.ru/story/genyi_6306182\n",
       "2401                  https://pikabu.ru/story/o_dvulichii_pikabu_na_primere_shashlyichnika_magomeda_5753834\n",
       "2410    https://pikabu.ru/story/kak_obmanut_na_millionyi_rubley_popast_na_pervyiy_kanal_i_stat_uspeshnyi...\n",
       "2412                                                   https://pikabu.ru/story/zakryili_bolnichnyiy_7414822\n",
       "2418                                                https://pikabu.ru/story/pro_beshenuyu_ku_na_bmv_6219595\n",
       "Name: url, Length: 183, dtype: object"
      ]
     },
     "execution_count": 23,
     "metadata": {},
     "output_type": "execute_result"
    }
   ],
   "source": [
    "urls[urls.str.contains('pikabu')]"
   ]
  },
  {
   "cell_type": "code",
   "execution_count": 24,
   "metadata": {},
   "outputs": [
    {
     "data": {
      "text/plain": [
       "'<!doctype html>'"
      ]
     },
     "execution_count": 24,
     "metadata": {},
     "output_type": "execute_result"
    }
   ],
   "source": [
    "# url = 'https://pikabu.ru/story/moderator_vs_zombies_2177316' # without link\n",
    "url = 'https://pikabu.ru/story/budet_li_otvet_ot_kospleyshchikov_7366977' # with link\n",
    "\n",
    "headers={'User-Agent': 'Mozilla/5.0 (Macintosh; Intel Mac OS X 10_12_2) AppleWebKit/537.36 (KHTML, like Gecko) Chrome/55.0.2883.95 Safari/537.36'}\n",
    "\n",
    "html_text = requests.get(url, headers=headers).text\n",
    "html_text[:15]"
   ]
  },
  {
   "cell_type": "code",
   "execution_count": 25,
   "metadata": {},
   "outputs": [],
   "source": [
    "soup = BeautifulSoup(html_text, 'lxml')\n",
    "soup.find('div', class_=\"story__views-count\")"
   ]
  },
  {
   "cell_type": "code",
   "execution_count": 27,
   "metadata": {},
   "outputs": [
    {
     "name": "stderr",
     "output_type": "stream",
     "text": [
      "[WDM] - Current google-chrome version is 83.0.4103\n",
      "[WDM] - Get LATEST driver version for 83.0.4103\n",
      "[WDM] - Get LATEST driver version for 83.0.4103\n"
     ]
    },
    {
     "name": "stdout",
     "output_type": "stream",
     "text": [
      " \n"
     ]
    },
    {
     "name": "stderr",
     "output_type": "stream",
     "text": [
      "[WDM] - Trying to download new driver from http://chromedriver.storage.googleapis.com/83.0.4103.39/chromedriver_linux64.zip\n",
      "[WDM] - Driver has been saved in cache [/home/jupyter/.wdm/drivers/chromedriver/linux64/83.0.4103.39]\n"
     ]
    },
    {
     "name": "stdout",
     "output_type": "stream",
     "text": [
      "617K\n"
     ]
    }
   ],
   "source": [
    "chrome_options = Options()\n",
    "chrome_options.headless = True\n",
    "chrome_options.add_argument('--no-proxy-server') \n",
    "chrome_options.add_argument(\"--proxy-server='direct://'\")\n",
    "chrome_options.add_argument(\"--proxy-bypass-list=*\")\n",
    "\n",
    "browser = webdriver.Chrome(ChromeDriverManager().install(),options=chrome_options)\n",
    "\n",
    "browser.get(url)\n",
    "print(browser.find_element_by_class_name('story__views-count').text)\n",
    "browser.quit()"
   ]
  },
  {
   "cell_type": "markdown",
   "metadata": {},
   "source": [
    "**pornhub.com**"
   ]
  },
  {
   "cell_type": "code",
   "execution_count": 28,
   "metadata": {},
   "outputs": [
    {
     "data": {
      "text/plain": [
       "804     https://rt.pornhub.com/view_video.php?viewkey=ph5c66c76a1dc69\n",
       "808     https://rt.pornhub.com/view_video.php?viewkey=ph5ed519f129f7d\n",
       "809     https://rt.pornhub.com/view_video.php?viewkey=ph5ed77e4eb5c46\n",
       "811     https://rt.pornhub.com/view_video.php?viewkey=ph5de9edb65e918\n",
       "812     https://rt.pornhub.com/view_video.php?viewkey=ph5ed62c5f32084\n",
       "                                    ...                              \n",
       "2407    https://rt.pornhub.com/view_video.php?viewkey=ph5cb96e2dc6919\n",
       "2413    https://rt.pornhub.com/view_video.php?viewkey=ph5e7e26e5791b5\n",
       "2414    https://rt.pornhub.com/view_video.php?viewkey=ph5eca2f9fd16fc\n",
       "2415         https://rt.pornhub.com/view_video.php?viewkey=1266029882\n",
       "2419    https://rt.pornhub.com/view_video.php?viewkey=ph5c5861e4ecae2\n",
       "Name: url, Length: 909, dtype: object"
      ]
     },
     "execution_count": 28,
     "metadata": {},
     "output_type": "execute_result"
    }
   ],
   "source": [
    "urls[urls.str.contains('pornhub')]"
   ]
  },
  {
   "cell_type": "code",
   "execution_count": 29,
   "metadata": {},
   "outputs": [],
   "source": [
    "url = 'https://rt.pornhub.com/view_video.php?viewkey=ph5c66c76a1dc69'"
   ]
  },
  {
   "cell_type": "code",
   "execution_count": 30,
   "metadata": {},
   "outputs": [
    {
     "data": {
      "text/plain": [
       "'<!DOCTYPE html>'"
      ]
     },
     "execution_count": 30,
     "metadata": {},
     "output_type": "execute_result"
    }
   ],
   "source": [
    "html_text = requests.get(url).text\n",
    "html_text[:15]"
   ]
  },
  {
   "cell_type": "code",
   "execution_count": 31,
   "metadata": {},
   "outputs": [
    {
     "data": {
      "text/plain": [
       "'644 482'"
      ]
     },
     "execution_count": 31,
     "metadata": {},
     "output_type": "execute_result"
    }
   ],
   "source": [
    "soup = BeautifulSoup(html_text, 'lxml')\n",
    "soup.find('span', class_=\"count\").text"
   ]
  },
  {
   "cell_type": "markdown",
   "metadata": {},
   "source": [
    "**rutube.ru**"
   ]
  },
  {
   "cell_type": "code",
   "execution_count": 32,
   "metadata": {},
   "outputs": [
    {
     "data": {
      "text/plain": [
       "810     https://rutube.ru/video/8ba9b27f20c3a361bb02e91b7e74df05/\n",
       "819     https://rutube.ru/video/fd0f357686152efe46d0c6a9eb9f8e8e/\n",
       "821     https://rutube.ru/video/56868c5e19b6959a12748de745764414/\n",
       "825     https://rutube.ru/video/4a625fc2a5af8295d0262cbcb2323177/\n",
       "828     https://rutube.ru/video/89466964caf92d941cebe8c3b230889c/\n",
       "                                  ...                            \n",
       "2393    https://rutube.ru/video/0d67f4e0c226c83505b852f7f979ee8d/\n",
       "2408    https://rutube.ru/video/0de88da646561c52203b7d0752701429/\n",
       "2409    https://rutube.ru/vddeo/38fe90ef57b50093a9ec75fe610d4e49/\n",
       "2411    https://rutube.ru/videy/801f087fcc57e58e78c1419bf0a5bd91/\n",
       "2416    https://rutube.ru/video/30b4a32e310195d116f5dfc964c1a000/\n",
       "Name: url, Length: 294, dtype: object"
      ]
     },
     "execution_count": 32,
     "metadata": {},
     "output_type": "execute_result"
    }
   ],
   "source": [
    "urls[urls.str.contains('rutube')]"
   ]
  },
  {
   "cell_type": "code",
   "execution_count": 33,
   "metadata": {},
   "outputs": [],
   "source": [
    "url = 'https://rutube.ru/video/8ba9b27f20c3a361bb02e91b7e74df05/'"
   ]
  },
  {
   "cell_type": "code",
   "execution_count": 34,
   "metadata": {},
   "outputs": [
    {
     "data": {
      "text/plain": [
       "'<!DOCTYPE html>'"
      ]
     },
     "execution_count": 34,
     "metadata": {},
     "output_type": "execute_result"
    }
   ],
   "source": [
    "html_text = requests.get(url).text\n",
    "html_text[:15]"
   ]
  },
  {
   "cell_type": "code",
   "execution_count": 35,
   "metadata": {},
   "outputs": [
    {
     "data": {
      "text/plain": [
       "'22,327'"
      ]
     },
     "execution_count": 35,
     "metadata": {},
     "output_type": "execute_result"
    }
   ],
   "source": [
    "soup = BeautifulSoup(html_text, 'lxml')\n",
    "soup.find('span', class_=\"video-info-card__view-count\").text"
   ]
  },
  {
   "cell_type": "markdown",
   "metadata": {},
   "source": [
    "**vimeo.com**"
   ]
  },
  {
   "cell_type": "code",
   "execution_count": 15,
   "metadata": {},
   "outputs": [
    {
     "data": {
      "text/plain": [
       "1       https://vimeo.com/91371852\n",
       "5        https://vimeo.com/4085044\n",
       "8       https://vimeo.com/33717000\n",
       "12     https://vimeo.com/288392170\n",
       "14     https://vimeo.com/200162057\n",
       "                  ...             \n",
       "783    https://vimeo.com/331606787\n",
       "788    https://vimeo.com/326073569\n",
       "796    https://vimeo.com/775617275\n",
       "797    https://vimeo.com/120071239\n",
       "801    https://vimeo.com/212496746\n",
       "Name: url, Length: 280, dtype: object"
      ]
     },
     "execution_count": 15,
     "metadata": {},
     "output_type": "execute_result"
    }
   ],
   "source": [
    "urls[urls.str.contains('vimeo')]"
   ]
  },
  {
   "cell_type": "code",
   "execution_count": 31,
   "metadata": {},
   "outputs": [
    {
     "data": {
      "text/html": [
       "<div>\n",
       "<style scoped>\n",
       "    .dataframe tbody tr th:only-of-type {\n",
       "        vertical-align: middle;\n",
       "    }\n",
       "\n",
       "    .dataframe tbody tr th {\n",
       "        vertical-align: top;\n",
       "    }\n",
       "\n",
       "    .dataframe thead th {\n",
       "        text-align: right;\n",
       "    }\n",
       "</style>\n",
       "<table border=\"1\" class=\"dataframe\">\n",
       "  <thead>\n",
       "    <tr style=\"text-align: right;\">\n",
       "      <th></th>\n",
       "      <th>IP Address</th>\n",
       "      <th>Port</th>\n",
       "      <th>Code</th>\n",
       "      <th>Country</th>\n",
       "      <th>Anonymity</th>\n",
       "      <th>Google</th>\n",
       "      <th>Https</th>\n",
       "      <th>Last Checked</th>\n",
       "    </tr>\n",
       "  </thead>\n",
       "  <tbody>\n",
       "    <tr>\n",
       "      <th>0</th>\n",
       "      <td>177.92.20.182</td>\n",
       "      <td>40787.0</td>\n",
       "      <td>BR</td>\n",
       "      <td>Brazil</td>\n",
       "      <td>elite proxy</td>\n",
       "      <td>no</td>\n",
       "      <td>yes</td>\n",
       "      <td>29 seconds ago</td>\n",
       "    </tr>\n",
       "    <tr>\n",
       "      <th>1</th>\n",
       "      <td>103.107.92.1</td>\n",
       "      <td>43255.0</td>\n",
       "      <td>IN</td>\n",
       "      <td>India</td>\n",
       "      <td>elite proxy</td>\n",
       "      <td>no</td>\n",
       "      <td>yes</td>\n",
       "      <td>29 seconds ago</td>\n",
       "    </tr>\n",
       "    <tr>\n",
       "      <th>2</th>\n",
       "      <td>195.138.73.54</td>\n",
       "      <td>59224.0</td>\n",
       "      <td>UA</td>\n",
       "      <td>Ukraine</td>\n",
       "      <td>elite proxy</td>\n",
       "      <td>no</td>\n",
       "      <td>yes</td>\n",
       "      <td>1 minute ago</td>\n",
       "    </tr>\n",
       "    <tr>\n",
       "      <th>3</th>\n",
       "      <td>103.25.167.200</td>\n",
       "      <td>40809.0</td>\n",
       "      <td>ID</td>\n",
       "      <td>Indonesia</td>\n",
       "      <td>elite proxy</td>\n",
       "      <td>no</td>\n",
       "      <td>yes</td>\n",
       "      <td>1 minute ago</td>\n",
       "    </tr>\n",
       "    <tr>\n",
       "      <th>4</th>\n",
       "      <td>77.94.107.148</td>\n",
       "      <td>45016.0</td>\n",
       "      <td>RU</td>\n",
       "      <td>Russian Federation</td>\n",
       "      <td>elite proxy</td>\n",
       "      <td>no</td>\n",
       "      <td>yes</td>\n",
       "      <td>1 minute ago</td>\n",
       "    </tr>\n",
       "    <tr>\n",
       "      <th>...</th>\n",
       "      <td>...</td>\n",
       "      <td>...</td>\n",
       "      <td>...</td>\n",
       "      <td>...</td>\n",
       "      <td>...</td>\n",
       "      <td>...</td>\n",
       "      <td>...</td>\n",
       "      <td>...</td>\n",
       "    </tr>\n",
       "    <tr>\n",
       "      <th>96</th>\n",
       "      <td>190.186.1.46</td>\n",
       "      <td>37607.0</td>\n",
       "      <td>BO</td>\n",
       "      <td>Bolivia</td>\n",
       "      <td>elite proxy</td>\n",
       "      <td>no</td>\n",
       "      <td>yes</td>\n",
       "      <td>30 minutes ago</td>\n",
       "    </tr>\n",
       "    <tr>\n",
       "      <th>97</th>\n",
       "      <td>197.245.230.122</td>\n",
       "      <td>42738.0</td>\n",
       "      <td>ZA</td>\n",
       "      <td>South Africa</td>\n",
       "      <td>elite proxy</td>\n",
       "      <td>no</td>\n",
       "      <td>yes</td>\n",
       "      <td>30 minutes ago</td>\n",
       "    </tr>\n",
       "    <tr>\n",
       "      <th>98</th>\n",
       "      <td>43.248.24.157</td>\n",
       "      <td>51166.0</td>\n",
       "      <td>ID</td>\n",
       "      <td>Indonesia</td>\n",
       "      <td>elite proxy</td>\n",
       "      <td>no</td>\n",
       "      <td>yes</td>\n",
       "      <td>30 minutes ago</td>\n",
       "    </tr>\n",
       "    <tr>\n",
       "      <th>99</th>\n",
       "      <td>36.67.246.50</td>\n",
       "      <td>48378.0</td>\n",
       "      <td>ID</td>\n",
       "      <td>Indonesia</td>\n",
       "      <td>elite proxy</td>\n",
       "      <td>no</td>\n",
       "      <td>yes</td>\n",
       "      <td>30 minutes ago</td>\n",
       "    </tr>\n",
       "    <tr>\n",
       "      <th>100</th>\n",
       "      <td>NaN</td>\n",
       "      <td>NaN</td>\n",
       "      <td>NaN</td>\n",
       "      <td>NaN</td>\n",
       "      <td>NaN</td>\n",
       "      <td>NaN</td>\n",
       "      <td>NaN</td>\n",
       "      <td>NaN</td>\n",
       "    </tr>\n",
       "  </tbody>\n",
       "</table>\n",
       "<p>101 rows × 8 columns</p>\n",
       "</div>"
      ],
      "text/plain": [
       "          IP Address     Port Code             Country    Anonymity Google  \\\n",
       "0      177.92.20.182  40787.0   BR              Brazil  elite proxy     no   \n",
       "1       103.107.92.1  43255.0   IN               India  elite proxy     no   \n",
       "2      195.138.73.54  59224.0   UA             Ukraine  elite proxy     no   \n",
       "3     103.25.167.200  40809.0   ID           Indonesia  elite proxy     no   \n",
       "4      77.94.107.148  45016.0   RU  Russian Federation  elite proxy     no   \n",
       "..               ...      ...  ...                 ...          ...    ...   \n",
       "96      190.186.1.46  37607.0   BO             Bolivia  elite proxy     no   \n",
       "97   197.245.230.122  42738.0   ZA        South Africa  elite proxy     no   \n",
       "98     43.248.24.157  51166.0   ID           Indonesia  elite proxy     no   \n",
       "99      36.67.246.50  48378.0   ID           Indonesia  elite proxy     no   \n",
       "100              NaN      NaN  NaN                 NaN          NaN    NaN   \n",
       "\n",
       "    Https    Last Checked  \n",
       "0     yes  29 seconds ago  \n",
       "1     yes  29 seconds ago  \n",
       "2     yes    1 minute ago  \n",
       "3     yes    1 minute ago  \n",
       "4     yes    1 minute ago  \n",
       "..    ...             ...  \n",
       "96    yes  30 minutes ago  \n",
       "97    yes  30 minutes ago  \n",
       "98    yes  30 minutes ago  \n",
       "99    yes  30 minutes ago  \n",
       "100   NaN             NaN  \n",
       "\n",
       "[101 rows x 8 columns]"
      ]
     },
     "execution_count": 31,
     "metadata": {},
     "output_type": "execute_result"
    }
   ],
   "source": [
    "proxies_html = requests.get('https://sslproxies.org/').text\n",
    "proxies_df = pd.read_html(proxies_html)[0]\n",
    "proxies_df"
   ]
  },
  {
   "cell_type": "code",
   "execution_count": 35,
   "metadata": {},
   "outputs": [
    {
     "data": {
      "text/plain": [
       "'<!doctype html>\\n<html lang=\"en\">\\n<head>\\n\\t<meta name=\"robots\" content=\"noindex, nofollow\">\\n\\t<title>Verify to Continue</title>\\n\\n\\t<script src=\"https://www.google.com/recaptcha/api.js?hl=en\"></script>\\n\\t<script type=\\'text/javascript\\'>\\n\\t    var done = function() {\\n\\t\\t\\tdocument.getElementById(\\'form\\').submit();\\n\\t    };\\n    </script>\\n\\n\\t<style type=\"text/css\">\\n\\t\\tbody {\\n\\t\\t\\tbackground: #141531;\\n\\t\\t\\tfont-family: helvetica, arial, san-serif;\\n\\t\\t\\tfont-size: 18px;\\n\\t\\t\\tfont-weight: normal;\\n\\t\\t\\tcolor: #fff;\\n\\t\\t}\\n\\t\\tp {\\n\\t\\t\\tmargin: 0 0 25px 0;\\n\\t\\t}\\n\\t\\tsvg {\\n\\t\\t\\tmargin: 75px;\\n\\t\\t\\twidth: 250px;\\n\\t\\t}\\n\\t\\tdiv.content {\\n\\t\\t\\tmargin: 75px;\\n\\t\\t\\tposition: absolute;\\n\\t\\t\\tbottom: 0px;\\n\\t\\t}\\n\\t\\tdiv.g-recaptcha {\\n\\t\\t\\twidth: 304px;\\n\\t\\t\\theight: 78px;\\n\\t\\t}\\n\\t</style>\\n</head>\\n<body>\\n\\t<svg xmlns=\"http://www.w3.org/2000/svg\" viewBox=\"0 0 140 40\" preserveAspectRatio=\"xMinYMin none\"><path fill=\"#fff\" d=\"M31.277 18.832c-.14 3.052-2.27 7.23-6.39 12.53-4.26 5.537-7.863 8.307-10.81 8.307-1.826 0-3.372-1.69-4.634-5.06-.843-3.1-1.686-6.19-2.53-9.28-.937-3.37-1.942-5.06-3.018-5.06-.234 0-1.054.49-2.458 1.473l-1.474-1.9c1.546-1.36 3.07-2.718 4.572-4.08 2.062-1.78 3.61-2.72 4.642-2.813 2.438-.234 3.938 1.433 4.502 5 .6 3.85 1.03 6.247 1.26 7.183.7 3.194 1.472 4.79 2.32 4.79.66 0 1.64-1.037 2.95-3.108 1.31-2.073 2.015-3.65 2.11-4.733.187-1.79-.517-2.684-2.11-2.684-.75 0-1.522.173-2.32.514 1.54-5.044 4.48-7.495 8.825-7.355 3.22.094 4.737 2.183 4.552 6.265z\"/><path fill=\"#fff\" d=\"M50.613 28.713c-1.313 2.484-3.12 4.733-5.417 6.748-3.143 2.72-6.285 4.08-9.425 4.08-1.45 0-2.57-.47-3.34-1.4-.77-.937-1.13-2.152-1.09-3.652.05-1.547.53-3.937 1.44-7.172.92-3.23 1.38-4.966 1.38-5.2 0-1.22-.422-1.83-1.265-1.83-.282 0-1.08.496-2.393 1.48l-1.62-1.9 4.5-4.08c2.02-1.784 3.52-2.72 4.507-2.814 1.546-.14 2.684.314 3.41 1.367.726 1.05.996 2.415.81 4.096-.61 2.85-1.27 6.47-1.972 10.863-.046 2.01.68 3.014 2.182 3.014.655 0 1.826-.69 3.517-2.08 1.406-1.156 2.555-2.243 3.447-3.26l1.336 1.753zm-6.12-25.016c-.047 1.168-.633 2.288-1.76 3.36-1.266 1.213-2.767 1.82-4.5 1.82-2.673 0-3.964-1.165-3.87-3.498.045-1.22.76-2.39 2.144-3.51C37.89.75 39.427.19 41.117.19c.983 0 1.804.388 2.46 1.156.657.772.962 1.553.916 2.344z\"/><path fill=\"#fff\" d=\"M94.543 28.713c-1.314 2.484-3.117 4.733-5.416 6.748-3.145 2.72-6.285 4.08-9.426 4.08-3.05 0-4.52-1.68-4.43-5.06.05-1.5.34-3.3.88-5.41.54-2.11.83-3.75.88-4.92.05-1.78-.49-2.673-1.62-2.673-1.222 0-2.68 1.456-4.374 4.36-1.79 3.05-2.754 6.005-2.894 8.86-.095 2.02.103 3.57.59 4.648-3.27.097-5.563-.443-6.87-1.616-1.17-1.033-1.71-2.743-1.615-5.136.045-1.5.276-3 .69-4.502.414-1.5.644-2.836.69-4.01.095-1.734-.54-2.604-1.9-2.604-1.177 0-2.444 1.34-3.806 4.01-1.36 2.675-2.113 5.467-2.253 8.373-.094 2.624.074 4.453.503 5.483-3.22.096-5.506-.582-6.858-2.035-1.12-1.214-1.632-3.06-1.54-5.54.047-1.214.26-2.91.648-5.084.39-2.175.607-3.87.65-5.087.094-.843-.12-1.265-.632-1.265-.28 0-1.08.476-2.393 1.425l-1.686-1.9c.232-.184 1.71-1.545 4.43-4.08 1.97-1.826 3.304-2.764 4.01-2.81 1.216-.095 2.2.41 2.95 1.51s1.13 2.38 1.13 3.835c0 .47-.05.915-.14 1.336.7-1.077 1.52-2.017 2.46-2.814 2.155-1.875 4.57-2.93 7.244-3.167 2.3-.19 3.94.35 4.926 1.615.795 1.033 1.17 2.51 1.125 4.433.33-.28.68-.586 1.057-.915 1.08-1.265 2.135-2.27 3.166-3.02 1.737-1.268 3.54-1.97 5.42-2.113 2.25-.188 3.87.35 4.854 1.61.843 1.03 1.22 2.5 1.126 4.415-.044 1.31-.36 3.213-.946 5.712-.588 2.5-.88 3.934-.88 4.31-.048.98.048 1.66.28 2.032.236.373.797.56 1.69.56.655 0 1.825-.694 3.517-2.084 1.403-1.156 2.552-2.243 3.444-3.262l1.336 1.757z\"/><path fill=\"#fff\" d=\"M120.922 28.642c-1.36 2.25-4.033 4.495-8.02 6.743-4.97 2.856-10.012 4.284-15.125 4.284-3.797 0-6.52-1.27-8.16-3.8-1.172-1.74-1.734-3.8-1.688-6.19.04-3.8 1.73-7.41 5.06-10.83 3.66-3.75 7.97-5.63 12.94-5.63 4.595 0 7.032 1.87 7.313 5.61.19 2.383-1.125 4.84-3.938 7.367-3.005 2.76-6.78 4.515-11.33 5.263.843 1.17 2.11 1.753 3.8 1.753 3.375 0 7.06-.856 11.045-2.575 2.86-1.205 5.11-2.46 6.753-3.76l1.338 1.756zm-15.97-7.345c.046-1.26-.468-1.89-1.546-1.89-1.406 0-2.83.97-4.283 2.906-1.45 1.936-2.2 3.79-2.248 5.562-.025 0-.025.305 0 .91 2.295-.838 4.287-2.12 5.97-3.848 1.358-1.49 2.06-2.707 2.108-3.64z\"/><path fill=\"#fff\" d=\"M140.018 23.926c-.19 4.31-1.78 8.03-4.783 11.17-3.002 3.136-6.73 4.705-11.186 4.705-3.71 0-6.52-1.19-8.45-3.58-1.405-1.772-2.18-4-2.32-6.67-.237-4.03 1.216-7.73 4.36-11.1 3.38-3.74 7.62-5.62 12.732-5.62 3.28 0 5.766 1.11 7.457 3.3 1.594 2.02 2.32 4.62 2.18 7.8zm-7.95-.264c.047-1.27-.13-2.434-.527-3.49-.4-1.057-.97-1.587-1.72-1.587-2.39 0-4.36 1.293-5.9 3.877-1.316 2.115-2.02 4.37-2.11 6.766-.05 1.176.163 2.21.632 3.104.514 1.032 1.24 1.55 2.18 1.55 2.11 0 3.915-1.245 5.417-3.736 1.267-2.068 1.945-4.23 2.04-6.484z\"/></svg>\\n\\t<div class=\"content\">\\n\\t\\t<h1>Verify to continue</h1>\\n\\t\\t<p>We detected a high number of errors from your connection. To continue, please confirm that youâ\\x80\\x99re a human (and not a spambot).</p>\\n\\t\\t<form id=\"form\" action=\"https://vimeo.com/_unblock_ratelimit\" method=\"post\">\\n\\t\\t\\t<div class=\"g-recaptcha\" data-sitekey=\"6LeRCLwSAAAAAOJ1ba_xqd3NBOlV5P_XRWJVEPdw\" data-theme=\"light\" data-callback=\"done\"></div>\\n\\t\\t</form>\\n\\t</div>\\n\\t<div style=\"display:none\">\\n\\t  <pre>\\nvimeo_acl_blacklist_0: 0\\nvimeo_acl_blacklist_1: 1\\nvimeo_acl_blacklist_2: 0\\nvimeo_acl_whitelist: 0\\n\\t  </pre>\\n\\t</div>\\n</body>\\n</html>\\n'"
      ]
     },
     "execution_count": 35,
     "metadata": {},
     "output_type": "execute_result"
    }
   ],
   "source": [
    "url = 'https://vimeo.com/91371852'\n",
    "\n",
    "headers={'User-Agent': 'Mozilla/5.0 (Macintosh; Intel Mac OS X 10_12_2) AppleWebKit/537.36 (KHTML, like Gecko) Chrome/55.0.2883.95 Safari/537.36'}\n",
    "proxies={'http': '103.107.92.1:43255', 'https': '103.107.92.1:43255'}\n",
    "\n",
    "html_text = requests.get(url, headers=headers, proxies=proxies).text\n",
    "html_text"
   ]
  },
  {
   "cell_type": "code",
   "execution_count": 21,
   "metadata": {},
   "outputs": [
    {
     "ename": "NameError",
     "evalue": "name 'html_text' is not defined",
     "output_type": "error",
     "traceback": [
      "\u001b[0;31m---------------------------------------------------------------------------\u001b[0m",
      "\u001b[0;31mNameError\u001b[0m                                 Traceback (most recent call last)",
      "\u001b[0;32m<ipython-input-21-dee626aba7e5>\u001b[0m in \u001b[0;36m<module>\u001b[0;34m\u001b[0m\n\u001b[0;32m----> 1\u001b[0;31m \u001b[0msoup\u001b[0m \u001b[0;34m=\u001b[0m \u001b[0mBeautifulSoup\u001b[0m\u001b[0;34m(\u001b[0m\u001b[0mhtml_text\u001b[0m\u001b[0;34m,\u001b[0m \u001b[0;34m'lxml'\u001b[0m\u001b[0;34m)\u001b[0m\u001b[0;34m\u001b[0m\u001b[0;34m\u001b[0m\u001b[0m\n\u001b[0m",
      "\u001b[0;31mNameError\u001b[0m: name 'html_text' is not defined"
     ]
    }
   ],
   "source": [
    "soup = BeautifulSoup(html_text, 'lxml')"
   ]
  },
  {
   "cell_type": "code",
   "execution_count": 20,
   "metadata": {},
   "outputs": [
    {
     "ename": "NameError",
     "evalue": "name 'soup' is not defined",
     "output_type": "error",
     "traceback": [
      "\u001b[0;31m---------------------------------------------------------------------------\u001b[0m",
      "\u001b[0;31mNameError\u001b[0m                                 Traceback (most recent call last)",
      "\u001b[0;32m<ipython-input-20-1ef50e42f9a7>\u001b[0m in \u001b[0;36m<module>\u001b[0;34m\u001b[0m\n\u001b[1;32m      2\u001b[0m \u001b[0;34m\u001b[0m\u001b[0m\n\u001b[1;32m      3\u001b[0m \u001b[0;31m# regex = re.compile(r'15.3K Views')\u001b[0m\u001b[0;34m\u001b[0m\u001b[0;34m\u001b[0m\u001b[0;34m\u001b[0m\u001b[0m\n\u001b[0;32m----> 4\u001b[0;31m \u001b[0msoup\u001b[0m\u001b[0;34m.\u001b[0m\u001b[0mfind\u001b[0m\u001b[0;34m(\u001b[0m\u001b[0;34m'span'\u001b[0m\u001b[0;34m,\u001b[0m \u001b[0maria_label\u001b[0m\u001b[0;34m=\u001b[0m\u001b[0;34m'15.3K Views'\u001b[0m\u001b[0;34m)\u001b[0m\u001b[0;34m\u001b[0m\u001b[0;34m\u001b[0m\u001b[0m\n\u001b[0m",
      "\u001b[0;31mNameError\u001b[0m: name 'soup' is not defined"
     ]
    }
   ],
   "source": [
    "import re\n",
    "\n",
    "# regex = re.compile(r'15.3K Views')\n",
    "soup.find('span', aria_label='15.3K Views')"
   ]
  },
  {
   "cell_type": "code",
   "execution_count": 48,
   "metadata": {},
   "outputs": [
    {
     "name": "stderr",
     "output_type": "stream",
     "text": [
      "[WDM] - Current google-chrome version is 83.0.4103\n",
      "[WDM] - Get LATEST driver version for 83.0.4103\n",
      "[WDM] - Driver [/home/jupyter/.wdm/drivers/chromedriver/linux64/83.0.4103.39/chromedriver] found in cache\n"
     ]
    },
    {
     "name": "stdout",
     "output_type": "stream",
     "text": [
      " \n"
     ]
    }
   ],
   "source": [
    "chrome_options = Options()\n",
    "chrome_options.headless = True\n",
    "chrome_options.add_argument('--no-proxy-server') \n",
    "chrome_options.add_argument(\"--proxy-server='direct://'\")\n",
    "chrome_options.add_argument(\"--proxy-bypass-list=*\")\n",
    "\n",
    "browser = webdriver.Chrome(ChromeDriverManager().install(),options=chrome_options)\n",
    "\n",
    "browser.get(url)"
   ]
  },
  {
   "cell_type": "code",
   "execution_count": 49,
   "metadata": {},
   "outputs": [],
   "source": [
    "from IPython.display import Image"
   ]
  },
  {
   "cell_type": "code",
   "execution_count": 50,
   "metadata": {},
   "outputs": [
    {
     "data": {
      "image/png": "[encoded data removed]",
      "text/plain": [
       "<IPython.core.display.Image object>"
      ]
     },
     "execution_count": 50,
     "metadata": {},
     "output_type": "execute_result"
    }
   ],
   "source": [
    "screenshot = browser.get_screenshot_as_png()\n",
    "Image(data=screenshot) "
   ]
  },
  {
   "cell_type": "markdown",
   "metadata": {},
   "source": [
    "**youtube.com**"
   ]
  },
  {
   "cell_type": "code",
   "execution_count": 24,
   "metadata": {},
   "outputs": [
    {
     "data": {
      "text/plain": [
       "2             https://www.youtube.com/watch?v=vvdLLbhxwDA\n",
       "3             https://www.youtube.com/watch?v=l5aw6LHt9iI\n",
       "6             https://www.youtube.com/watch?v=U4kyT-wwEi0\n",
       "7             https://www.youtube.com/watch?v=-UuXFqXp7P4\n",
       "9             https://www.youtube.com/watch?v=wW9trOm303g\n",
       "                              ...                        \n",
       "790           https://www.youtube.com/watch?v=1k5f5rgyzsE\n",
       "793           https://www.youtube.com/watch?v=_yolSUYe6B0\n",
       "798           https://www.youtube.com/watch?v=T7TcQLwCyWM\n",
       "800           https://www.youtube.com/watch?v=KJEtl2dPgTM\n",
       "803    https://www.youtube.com/watch?v=VfjUobcvjYk&t=104s\n",
       "Name: url, Length: 270, dtype: object"
      ]
     },
     "execution_count": 24,
     "metadata": {},
     "output_type": "execute_result"
    }
   ],
   "source": [
    "urls[urls.str.contains('youtube')]"
   ]
  },
  {
   "cell_type": "code",
   "execution_count": 25,
   "metadata": {},
   "outputs": [],
   "source": [
    "url = 'https://www.youtube.com/watch?v=vvdLLbhxwDA'\n",
    "headers={'User-Agent': 'Mozilla/5.0 (Macintosh; Intel Mac OS X 10_12_2) AppleWebKit/537.36 (KHTML, like Gecko) Chrome/55.0.2883.95 Safari/537.36'}"
   ]
  },
  {
   "cell_type": "markdown",
   "metadata": {},
   "source": [
    "Not stable to retreive for the same URL"
   ]
  },
  {
   "cell_type": "code",
   "execution_count": 26,
   "metadata": {},
   "outputs": [
    {
     "ename": "NameError",
     "evalue": "name 'requests' is not defined",
     "output_type": "error",
     "traceback": [
      "\u001b[0;31m---------------------------------------------------------------------------\u001b[0m",
      "\u001b[0;31mNameError\u001b[0m                                 Traceback (most recent call last)",
      "\u001b[0;32m<ipython-input-26-68d9dbdb2b06>\u001b[0m in \u001b[0;36m<module>\u001b[0;34m\u001b[0m\n\u001b[0;32m----> 1\u001b[0;31m \u001b[0mhtml_text\u001b[0m \u001b[0;34m=\u001b[0m \u001b[0mrequests\u001b[0m\u001b[0;34m.\u001b[0m\u001b[0mget\u001b[0m\u001b[0;34m(\u001b[0m\u001b[0murl\u001b[0m\u001b[0;34m)\u001b[0m\u001b[0;34m.\u001b[0m\u001b[0mtext\u001b[0m\u001b[0;34m\u001b[0m\u001b[0;34m\u001b[0m\u001b[0m\n\u001b[0m\u001b[1;32m      2\u001b[0m \u001b[0mprint\u001b[0m\u001b[0;34m(\u001b[0m\u001b[0mhtml_text\u001b[0m\u001b[0;34m[\u001b[0m\u001b[0;34m:\u001b[0m\u001b[0;36m100\u001b[0m\u001b[0;34m]\u001b[0m\u001b[0;34m)\u001b[0m\u001b[0;34m\u001b[0m\u001b[0;34m\u001b[0m\u001b[0m\n\u001b[1;32m      3\u001b[0m \u001b[0;34m\u001b[0m\u001b[0m\n\u001b[1;32m      4\u001b[0m \u001b[0msoup\u001b[0m \u001b[0;34m=\u001b[0m \u001b[0mBeautifulSoup\u001b[0m\u001b[0;34m(\u001b[0m\u001b[0mhtml_text\u001b[0m\u001b[0;34m,\u001b[0m \u001b[0;34m'lxml'\u001b[0m\u001b[0;34m)\u001b[0m\u001b[0;34m\u001b[0m\u001b[0;34m\u001b[0m\u001b[0m\n\u001b[1;32m      5\u001b[0m \u001b[0msoup\u001b[0m\u001b[0;34m.\u001b[0m\u001b[0mfind\u001b[0m\u001b[0;34m(\u001b[0m\u001b[0;34m'span'\u001b[0m\u001b[0;34m,\u001b[0m \u001b[0mclass_\u001b[0m\u001b[0;34m=\u001b[0m\u001b[0;34m\"view-count\"\u001b[0m\u001b[0;34m)\u001b[0m\u001b[0;34m.\u001b[0m\u001b[0mtext\u001b[0m\u001b[0;34m\u001b[0m\u001b[0;34m\u001b[0m\u001b[0m\n",
      "\u001b[0;31mNameError\u001b[0m: name 'requests' is not defined"
     ]
    }
   ],
   "source": [
    "html_text = requests.get(url).text\n",
    "print(html_text[:100])\n",
    "\n",
    "soup = BeautifulSoup(html_text, 'lxml')\n",
    "soup.find('span', class_=\"view-count\").text"
   ]
  },
  {
   "cell_type": "code",
   "execution_count": null,
   "metadata": {},
   "outputs": [],
   "source": [
    "html_text"
   ]
  },
  {
   "cell_type": "code",
   "execution_count": null,
   "metadata": {},
   "outputs": [],
   "source": []
  }
 ],
 "metadata": {
  "kernelspec": {
   "display_name": "py37",
   "language": "python",
   "name": "py37"
  },
  "language_info": {
   "codemirror_mode": {
    "name": "ipython",
    "version": 3
   },
   "file_extension": ".py",
   "mimetype": "text/x-python",
   "name": "python",
   "nbconvert_exporter": "python",
   "pygments_lexer": "ipython3",
   "version": "3.7.7"
  }
 },
 "nbformat": 4,
 "nbformat_minor": 4
}
