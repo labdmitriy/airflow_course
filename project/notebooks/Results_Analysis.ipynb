{
 "cells": [
  {
   "cell_type": "code",
   "execution_count": 23,
   "metadata": {},
   "outputs": [],
   "source": [
    "import json\n",
    "from pathlib import Path\n",
    "from urllib.parse import urlparse\n",
    "\n",
    "from tqdm import tqdm\n",
    "import requests\n",
    "from bs4 import BeautifulSoup\n",
    "\n",
    "import pandas as pd"
   ]
  },
  {
   "cell_type": "code",
   "execution_count": 24,
   "metadata": {},
   "outputs": [],
   "source": [
    "pd.set_option('max_colwidth', 100) # 50 by default"
   ]
  },
  {
   "cell_type": "markdown",
   "metadata": {},
   "source": [
    "### Get results files"
   ]
  },
  {
   "cell_type": "code",
   "execution_count": 25,
   "metadata": {},
   "outputs": [
    {
     "name": "stdout",
     "output_type": "stream",
     "text": [
      "[{'url': 'https://habr.com/ru/company/wrike/blog/506928/', 'is_valid': True, 'domain': 'habr.com'}, {'url': 'https://vimeo.com/91371852', 'is_valid': True, 'domain': 'vimeo.com'}, {'url': 'https://www.youtube.com/watch?v=vvdLLbhxwDA', 'is_valid': True, 'domain': 'youtube.com'}, {'url': 'https://www.youtube.com/watch?v=l5aw6LHt9iI', 'is_valid': True, 'domain': 'youtube.com'}, {'url': 'https://habr.com/ru/post/193844/', 'is_valid': True, 'domain': 'habr.com'}, {'url': 'https://vimeo.com/4085044', 'is_valid': True, 'domain': 'vimeo.com'}, {'url': 'https://www.youtube.com/watch?v=U4kyT-wwEi0', 'is_valid': True, 'domain': 'youtube.com'}, {'url': 'https://www.youtube.com/watch?v=-UuXFqXp7P4', 'is_valid': True, 'domain': 'youtube.com'}, {'url': 'https://vimeo.com/33717000', 'is_valid': True, 'domain': 'vimeo.com'}, {'url': 'https://www.youtube.com/watch?v=wW9trOm303g', 'is_valid': True, 'domain': 'youtube.com'}]\n"
     ]
    }
   ],
   "source": [
    "VALIDATION_RESULTS_FILE = '/home/jupyter/data/url_validation_results.json'\n",
    "valid_results = []\n",
    "\n",
    "with open(VALIDATION_RESULTS_FILE) as f:\n",
    "    for line in f:\n",
    "        valid_results.append(json.loads(line))\n",
    "    \n",
    "print(valid_results[:10])"
   ]
  },
  {
   "cell_type": "code",
   "execution_count": 26,
   "metadata": {},
   "outputs": [
    {
     "name": "stdout",
     "output_type": "stream",
     "text": [
      "[{'url': 'https://habr.com/ru/post/506756/', 'is_parsed': True, 'raw_views_count': '1,9k', 'views_count': 1900}, {'url': 'https://habr.com/ru/post/500754/', 'is_parsed': True, 'raw_views_count': '163k', 'views_count': 163000}, {'url': 'https://habr.com/ru/post/489254/', 'is_parsed': True, 'raw_views_count': '112k', 'views_count': 112000}, {'url': 'https://habr.com/ru/post/417827/', 'is_parsed': True, 'raw_views_count': '7k', 'views_count': 7000}, {'url': 'https://habr.com/ru/post/507236/', 'is_parsed': True, 'raw_views_count': '2,4k', 'views_count': 2400}, {'url': 'https://habr.com/ru/post/194766/', 'is_parsed': False, 'error_code': '403_forbidden'}, {'url': 'https://habr.com/ru/company/JetBrains/blog/478866/', 'is_parsed': True, 'raw_views_count': '65,3k', 'views_count': 65300}, {'url': 'https://habr.com/ru/company/mailru/blog/490790/', 'is_parsed': True, 'raw_views_count': '50,7k', 'views_count': 50700}, {'url': 'https://habr.com/ru/company/npoechelon/blog/506940/', 'is_parsed': True, 'raw_views_count': '3,5k', 'views_count': 3500}, {'url': 'https://habr.com/ru/post/505728/', 'is_parsed': True, 'raw_views_count': '7k', 'views_count': 7000}]\n"
     ]
    }
   ],
   "source": [
    "PARSE_RESULTS_FILE = '/home/jupyter/data/url_parse_results.json'\n",
    "parse_results = []\n",
    "\n",
    "with open(PARSE_RESULTS_FILE) as f:\n",
    "    for line in f:\n",
    "        parse_results.append(json.loads(line))\n",
    "    \n",
    "print(parse_results[:10])"
   ]
  },
  {
   "cell_type": "code",
   "execution_count": 27,
   "metadata": {},
   "outputs": [
    {
     "data": {
      "text/html": [
       "<div>\n",
       "<style scoped>\n",
       "    .dataframe tbody tr th:only-of-type {\n",
       "        vertical-align: middle;\n",
       "    }\n",
       "\n",
       "    .dataframe tbody tr th {\n",
       "        vertical-align: top;\n",
       "    }\n",
       "\n",
       "    .dataframe thead th {\n",
       "        text-align: right;\n",
       "    }\n",
       "</style>\n",
       "<table border=\"1\" class=\"dataframe\">\n",
       "  <thead>\n",
       "    <tr style=\"text-align: right;\">\n",
       "      <th></th>\n",
       "      <th>url</th>\n",
       "      <th>is_valid</th>\n",
       "      <th>domain</th>\n",
       "      <th>error_code</th>\n",
       "    </tr>\n",
       "  </thead>\n",
       "  <tbody>\n",
       "    <tr>\n",
       "      <th>0</th>\n",
       "      <td>https://habr.com/ru/company/wrike/blog/506928/</td>\n",
       "      <td>True</td>\n",
       "      <td>habr.com</td>\n",
       "      <td>NaN</td>\n",
       "    </tr>\n",
       "    <tr>\n",
       "      <th>1</th>\n",
       "      <td>https://vimeo.com/91371852</td>\n",
       "      <td>True</td>\n",
       "      <td>vimeo.com</td>\n",
       "      <td>NaN</td>\n",
       "    </tr>\n",
       "    <tr>\n",
       "      <th>2</th>\n",
       "      <td>https://www.youtube.com/watch?v=vvdLLbhxwDA</td>\n",
       "      <td>True</td>\n",
       "      <td>youtube.com</td>\n",
       "      <td>NaN</td>\n",
       "    </tr>\n",
       "    <tr>\n",
       "      <th>3</th>\n",
       "      <td>https://www.youtube.com/watch?v=l5aw6LHt9iI</td>\n",
       "      <td>True</td>\n",
       "      <td>youtube.com</td>\n",
       "      <td>NaN</td>\n",
       "    </tr>\n",
       "    <tr>\n",
       "      <th>4</th>\n",
       "      <td>https://habr.com/ru/post/193844/</td>\n",
       "      <td>True</td>\n",
       "      <td>habr.com</td>\n",
       "      <td>NaN</td>\n",
       "    </tr>\n",
       "    <tr>\n",
       "      <th>...</th>\n",
       "      <td>...</td>\n",
       "      <td>...</td>\n",
       "      <td>...</td>\n",
       "      <td>...</td>\n",
       "    </tr>\n",
       "    <tr>\n",
       "      <th>2415</th>\n",
       "      <td>https://rt.pornhub.com/view_video.php?viewkey=1266029882</td>\n",
       "      <td>True</td>\n",
       "      <td>pornhub.com</td>\n",
       "      <td>NaN</td>\n",
       "    </tr>\n",
       "    <tr>\n",
       "      <th>2416</th>\n",
       "      <td>https://rutube.ru/video/30b4a32e310195d116f5dfc964c1a000/</td>\n",
       "      <td>True</td>\n",
       "      <td>rutube.ru</td>\n",
       "      <td>NaN</td>\n",
       "    </tr>\n",
       "    <tr>\n",
       "      <th>2417</th>\n",
       "      <td>https://habr.com/ru/post/506464/</td>\n",
       "      <td>True</td>\n",
       "      <td>habr.com</td>\n",
       "      <td>NaN</td>\n",
       "    </tr>\n",
       "    <tr>\n",
       "      <th>2418</th>\n",
       "      <td>https://pikabu.ru/story/pro_beshenuyu_ku_na_bmv_6219595</td>\n",
       "      <td>True</td>\n",
       "      <td>pikabu.ru</td>\n",
       "      <td>NaN</td>\n",
       "    </tr>\n",
       "    <tr>\n",
       "      <th>2419</th>\n",
       "      <td>https://rt.pornhub.com/view_video.php?viewkey=ph5c5861e4ecae2</td>\n",
       "      <td>True</td>\n",
       "      <td>pornhub.com</td>\n",
       "      <td>NaN</td>\n",
       "    </tr>\n",
       "  </tbody>\n",
       "</table>\n",
       "<p>2420 rows × 4 columns</p>\n",
       "</div>"
      ],
      "text/plain": [
       "                                                                url  is_valid  \\\n",
       "0                    https://habr.com/ru/company/wrike/blog/506928/      True   \n",
       "1                                        https://vimeo.com/91371852      True   \n",
       "2                       https://www.youtube.com/watch?v=vvdLLbhxwDA      True   \n",
       "3                       https://www.youtube.com/watch?v=l5aw6LHt9iI      True   \n",
       "4                                  https://habr.com/ru/post/193844/      True   \n",
       "...                                                             ...       ...   \n",
       "2415       https://rt.pornhub.com/view_video.php?viewkey=1266029882      True   \n",
       "2416      https://rutube.ru/video/30b4a32e310195d116f5dfc964c1a000/      True   \n",
       "2417                               https://habr.com/ru/post/506464/      True   \n",
       "2418        https://pikabu.ru/story/pro_beshenuyu_ku_na_bmv_6219595      True   \n",
       "2419  https://rt.pornhub.com/view_video.php?viewkey=ph5c5861e4ecae2      True   \n",
       "\n",
       "           domain error_code  \n",
       "0        habr.com        NaN  \n",
       "1       vimeo.com        NaN  \n",
       "2     youtube.com        NaN  \n",
       "3     youtube.com        NaN  \n",
       "4        habr.com        NaN  \n",
       "...           ...        ...  \n",
       "2415  pornhub.com        NaN  \n",
       "2416    rutube.ru        NaN  \n",
       "2417     habr.com        NaN  \n",
       "2418    pikabu.ru        NaN  \n",
       "2419  pornhub.com        NaN  \n",
       "\n",
       "[2420 rows x 4 columns]"
      ]
     },
     "execution_count": 27,
     "metadata": {},
     "output_type": "execute_result"
    }
   ],
   "source": [
    "valid_df = pd.DataFrame(valid_results)\n",
    "valid_df"
   ]
  },
  {
   "cell_type": "code",
   "execution_count": 28,
   "metadata": {},
   "outputs": [
    {
     "data": {
      "text/html": [
       "<div>\n",
       "<style scoped>\n",
       "    .dataframe tbody tr th:only-of-type {\n",
       "        vertical-align: middle;\n",
       "    }\n",
       "\n",
       "    .dataframe tbody tr th {\n",
       "        vertical-align: top;\n",
       "    }\n",
       "\n",
       "    .dataframe thead th {\n",
       "        text-align: right;\n",
       "    }\n",
       "</style>\n",
       "<table border=\"1\" class=\"dataframe\">\n",
       "  <thead>\n",
       "    <tr style=\"text-align: right;\">\n",
       "      <th></th>\n",
       "      <th>url</th>\n",
       "      <th>is_parsed</th>\n",
       "      <th>raw_views_count</th>\n",
       "      <th>views_count</th>\n",
       "      <th>error_code</th>\n",
       "    </tr>\n",
       "  </thead>\n",
       "  <tbody>\n",
       "    <tr>\n",
       "      <th>0</th>\n",
       "      <td>https://habr.com/ru/post/506756/</td>\n",
       "      <td>True</td>\n",
       "      <td>1,9k</td>\n",
       "      <td>1900.0</td>\n",
       "      <td>NaN</td>\n",
       "    </tr>\n",
       "    <tr>\n",
       "      <th>1</th>\n",
       "      <td>https://habr.com/ru/post/500754/</td>\n",
       "      <td>True</td>\n",
       "      <td>163k</td>\n",
       "      <td>163000.0</td>\n",
       "      <td>NaN</td>\n",
       "    </tr>\n",
       "    <tr>\n",
       "      <th>2</th>\n",
       "      <td>https://habr.com/ru/post/489254/</td>\n",
       "      <td>True</td>\n",
       "      <td>112k</td>\n",
       "      <td>112000.0</td>\n",
       "      <td>NaN</td>\n",
       "    </tr>\n",
       "    <tr>\n",
       "      <th>3</th>\n",
       "      <td>https://habr.com/ru/post/417827/</td>\n",
       "      <td>True</td>\n",
       "      <td>7k</td>\n",
       "      <td>7000.0</td>\n",
       "      <td>NaN</td>\n",
       "    </tr>\n",
       "    <tr>\n",
       "      <th>4</th>\n",
       "      <td>https://habr.com/ru/post/507236/</td>\n",
       "      <td>True</td>\n",
       "      <td>2,4k</td>\n",
       "      <td>2400.0</td>\n",
       "      <td>NaN</td>\n",
       "    </tr>\n",
       "    <tr>\n",
       "      <th>...</th>\n",
       "      <td>...</td>\n",
       "      <td>...</td>\n",
       "      <td>...</td>\n",
       "      <td>...</td>\n",
       "      <td>...</td>\n",
       "    </tr>\n",
       "    <tr>\n",
       "      <th>2182</th>\n",
       "      <td>https://www.youtube.com/watch?v=MMV9h3S4jKg&amp;t=818s</td>\n",
       "      <td>True</td>\n",
       "      <td>300913</td>\n",
       "      <td>300913.0</td>\n",
       "      <td>NaN</td>\n",
       "    </tr>\n",
       "    <tr>\n",
       "      <th>2183</th>\n",
       "      <td>https://www.youtube.com/watch?v=FExx1Oum_OA</td>\n",
       "      <td>True</td>\n",
       "      <td>288825</td>\n",
       "      <td>288825.0</td>\n",
       "      <td>NaN</td>\n",
       "    </tr>\n",
       "    <tr>\n",
       "      <th>2184</th>\n",
       "      <td>https://www.youtube.com/watch?v=koUkTQge_KQ</td>\n",
       "      <td>True</td>\n",
       "      <td>330406</td>\n",
       "      <td>330406.0</td>\n",
       "      <td>NaN</td>\n",
       "    </tr>\n",
       "    <tr>\n",
       "      <th>2185</th>\n",
       "      <td>https://www.youtube.com/watch?v=4YKLBdgY7nQ</td>\n",
       "      <td>True</td>\n",
       "      <td>340498</td>\n",
       "      <td>340498.0</td>\n",
       "      <td>NaN</td>\n",
       "    </tr>\n",
       "    <tr>\n",
       "      <th>2186</th>\n",
       "      <td>https://www.youtube.com/watch?v=cfM1Isbt6Yk</td>\n",
       "      <td>True</td>\n",
       "      <td>233578</td>\n",
       "      <td>233578.0</td>\n",
       "      <td>NaN</td>\n",
       "    </tr>\n",
       "  </tbody>\n",
       "</table>\n",
       "<p>2187 rows × 5 columns</p>\n",
       "</div>"
      ],
      "text/plain": [
       "                                                     url  is_parsed  \\\n",
       "0                       https://habr.com/ru/post/506756/       True   \n",
       "1                       https://habr.com/ru/post/500754/       True   \n",
       "2                       https://habr.com/ru/post/489254/       True   \n",
       "3                       https://habr.com/ru/post/417827/       True   \n",
       "4                       https://habr.com/ru/post/507236/       True   \n",
       "...                                                  ...        ...   \n",
       "2182  https://www.youtube.com/watch?v=MMV9h3S4jKg&t=818s       True   \n",
       "2183         https://www.youtube.com/watch?v=FExx1Oum_OA       True   \n",
       "2184         https://www.youtube.com/watch?v=koUkTQge_KQ       True   \n",
       "2185         https://www.youtube.com/watch?v=4YKLBdgY7nQ       True   \n",
       "2186         https://www.youtube.com/watch?v=cfM1Isbt6Yk       True   \n",
       "\n",
       "     raw_views_count  views_count error_code  \n",
       "0               1,9k       1900.0        NaN  \n",
       "1               163k     163000.0        NaN  \n",
       "2               112k     112000.0        NaN  \n",
       "3                 7k       7000.0        NaN  \n",
       "4               2,4k       2400.0        NaN  \n",
       "...              ...          ...        ...  \n",
       "2182          300913     300913.0        NaN  \n",
       "2183          288825     288825.0        NaN  \n",
       "2184          330406     330406.0        NaN  \n",
       "2185          340498     340498.0        NaN  \n",
       "2186          233578     233578.0        NaN  \n",
       "\n",
       "[2187 rows x 5 columns]"
      ]
     },
     "execution_count": 28,
     "metadata": {},
     "output_type": "execute_result"
    }
   ],
   "source": [
    "parse_df = pd.DataFrame(parse_results)\n",
    "parse_df"
   ]
  },
  {
   "cell_type": "code",
   "execution_count": 29,
   "metadata": {},
   "outputs": [
    {
     "data": {
      "text/plain": [
       "(2420, 2262, 2187)"
      ]
     },
     "execution_count": 29,
     "metadata": {},
     "output_type": "execute_result"
    }
   ],
   "source": [
    "len(valid_df), valid_df['url'].nunique(), valid_df.query('is_valid == True')['url'].nunique()"
   ]
  },
  {
   "cell_type": "code",
   "execution_count": 30,
   "metadata": {},
   "outputs": [
    {
     "data": {
      "text/plain": [
       "(2187, 2187, 1740)"
      ]
     },
     "execution_count": 30,
     "metadata": {},
     "output_type": "execute_result"
    }
   ],
   "source": [
    "len(parse_df), parse_df['url'].nunique(), parse_df.query('is_parsed == True')['url'].nunique()"
   ]
  },
  {
   "cell_type": "code",
   "execution_count": 31,
   "metadata": {},
   "outputs": [
    {
     "data": {
      "text/plain": [
       "400"
      ]
     },
     "execution_count": 31,
     "metadata": {},
     "output_type": "execute_result"
    }
   ],
   "source": [
    "2420 - 1740 - 280"
   ]
  },
  {
   "cell_type": "markdown",
   "metadata": {},
   "source": [
    "### Prepare statistics"
   ]
  },
  {
   "cell_type": "code",
   "execution_count": 32,
   "metadata": {},
   "outputs": [],
   "source": [
    "from collections import defaultdict\n",
    "from operator import itemgetter\n",
    "from itertools import groupby"
   ]
  },
  {
   "cell_type": "code",
   "execution_count": 33,
   "metadata": {},
   "outputs": [
    {
     "name": "stdout",
     "output_type": "stream",
     "text": [
      "2420\n"
     ]
    },
    {
     "data": {
      "text/plain": [
       "[{'row_num': 0,\n",
       "  'url': 'https://habr.com/ru/company/wrike/blog/506928/',\n",
       "  'is_parsed': True,\n",
       "  'value': 533},\n",
       " {'row_num': 1,\n",
       "  'url': 'https://vimeo.com/91371852',\n",
       "  'is_parsed': False,\n",
       "  'value': '403_forbidden'},\n",
       " {'row_num': 2,\n",
       "  'url': 'https://www.youtube.com/watch?v=vvdLLbhxwDA',\n",
       "  'is_parsed': True,\n",
       "  'value': 223526},\n",
       " {'row_num': 3,\n",
       "  'url': 'https://www.youtube.com/watch?v=l5aw6LHt9iI',\n",
       "  'is_parsed': True,\n",
       "  'value': 349529},\n",
       " {'row_num': 4,\n",
       "  'url': 'https://habr.com/ru/post/193844/',\n",
       "  'is_parsed': False,\n",
       "  'value': '404_not_found'}]"
      ]
     },
     "execution_count": 33,
     "metadata": {},
     "output_type": "execute_result"
    }
   ],
   "source": [
    "report_stats = []\n",
    "\n",
    "for row_num, valid_result in enumerate(valid_results):\n",
    "    stat = {}\n",
    "    stat['row_num'] = row_num\n",
    "    stat['url'] = valid_result['url']\n",
    "    \n",
    "    if not valid_result['is_valid']:\n",
    "        value = valid_result['error_code']\n",
    "        stat['is_parsed'] = False\n",
    "    else:\n",
    "        parse_result = list(filter(lambda x: x['url'] == stat['url'], \n",
    "                                   parse_results))[0]\n",
    "        \n",
    "        stat['is_parsed'] = parse_result['is_parsed']\n",
    "        \n",
    "        if not parse_result['is_parsed']:\n",
    "            value = parse_result['error_code']\n",
    "        else:\n",
    "            value = parse_result['views_count']\n",
    "            \n",
    "    stat['value'] = value\n",
    "    report_stats.append(stat)\n",
    "    \n",
    "print(len(report_stats))\n",
    "report_stats[:5]"
   ]
  },
  {
   "cell_type": "code",
   "execution_count": 73,
   "metadata": {},
   "outputs": [],
   "source": [
    "parsed_urls = list(filter(lambda x: x['is_parsed'] is True, report_stats))\n",
    "\n",
    "get_value = itemgetter('value')\n",
    "error_urls = list(filter(lambda x: x['is_parsed'] is False, report_stats))\n",
    "errors = sorted(map(get_value, error_urls))"
   ]
  },
  {
   "cell_type": "code",
   "execution_count": 35,
   "metadata": {},
   "outputs": [
    {
     "data": {
      "text/plain": [
       "{'403_forbidden': 282,\n",
       " '404_not_found': 59,\n",
       " 'element_not_found': 129,\n",
       " 'incorrect_url': 28,\n",
       " 'wrong_domain': 49}"
      ]
     },
     "execution_count": 35,
     "metadata": {},
     "output_type": "execute_result"
    }
   ],
   "source": [
    "errors_stats = {key: len(list(group)) for key, group in groupby(errors)}\n",
    "errors_stats"
   ]
  },
  {
   "cell_type": "code",
   "execution_count": 82,
   "metadata": {},
   "outputs": [],
   "source": [
    "from csv import DictWriter\n",
    "\n",
    "with open('/home/jupyter/data/urls_with_errors.csv', 'w') as f:\n",
    "    fieldnames = ['row_num', 'url', 'value']\n",
    "    writer = DictWriter(f, fieldnames=fieldnames, extrasaction='ignore')\n",
    "    writer.writeheader()\n",
    "    \n",
    "    for line in error_urls:\n",
    "        writer.writerow(line)"
   ]
  },
  {
   "cell_type": "code",
   "execution_count": 83,
   "metadata": {},
   "outputs": [
    {
     "name": "stdout",
     "output_type": "stream",
     "text": [
      "row_num,url,value\n",
      "1,https://vimeo.com/91371852,403_forbidden\n",
      "4,https://habr.com/ru/post/193844/,404_not_found\n",
      "5,https://vimeo.com/4085044,403_forbidden\n",
      "8,https://vimeo.com/33717000,403_forbidden\n",
      "12,https://vimeo.com/288392170,403_forbidden\n",
      "14,https://vimeo.com/200162057,403_forbidden\n",
      "16,https://vimeo.com/259970807,403_forbidden\n",
      "20,https://vimeo.com/54521591,403_forbidden\n",
      "21,https://vimeo.com/288392170,403_forbidden\n"
     ]
    }
   ],
   "source": [
    "!head /home/jupyter/data/urls_with_errors.csv"
   ]
  },
  {
   "cell_type": "code",
   "execution_count": 63,
   "metadata": {},
   "outputs": [
    {
     "name": "stdout",
     "output_type": "stream",
     "text": [
      "**Processing results**\n",
      "Processed URLs count: 2420\n",
      "Parsed URLs count: 1873\n",
      "\n",
      "Errors\n",
      "403_forbidden: 282\n",
      "404_not_found: 59\n",
      "element_not_found: 129\n",
      "incorrect_url: 28\n",
      "wrong_domain: 49\n",
      "\n"
     ]
    }
   ],
   "source": [
    "errors_stats_message = '\\n'.join([f'{error}: {count}' for (error, count) in errors_stats.items()])\n",
    "errors_stats_message\n",
    "\n",
    "report_message = f'''**Processing results**\n",
    "Processed URLs count: {len(report_stats)}\n",
    "Parsed URLs count: {len(parsed_urls)}\n",
    "\n",
    "Errors\n",
    "{errors_stats_message}\n",
    "'''\n",
    "\n",
    "print(report_message)"
   ]
  },
  {
   "cell_type": "code",
   "execution_count": 64,
   "metadata": {},
   "outputs": [
    {
     "name": "stdout",
     "output_type": "stream",
     "text": [
      "{'403_forbidden': [1, 5, 8, 12, 14, 16, 20, 21, 22, 33, 35, 37, 42, 43, 48, 53, 56, 63, 64, 66, 70, 71, 74, 76, 82, 83, 85, 92, 93, 96, 97, 101, 103, 104, 105, 106, 107, 109, 110, 112, 115, 116, 117, 118, 119, 123, 125, 126, 127, 129, 131, 132, 134, 136, 138, 139, 140, 142, 146, 147, 151, 153, 155, 160, 167, 168, 173, 175, 183, 189, 190, 191, 192, 194, 200, 203, 206, 207, 211, 214, 215, 216, 220, 222, 223, 228, 229, 232, 235, 240, 241, 244, 245, 249, 250, 254, 255, 256, 257, 260, 262, 264, 265, 268, 269, 271, 272, 275, 277, 278, 283, 285, 286, 288, 289, 295, 296, 297, 301, 306, 311, 325, 327, 329, 337, 342, 346, 347, 348, 349, 353, 356, 363, 366, 373, 374, 379, 380, 381, 386, 388, 389, 396, 400, 406, 407, 409, 410, 412, 413, 414, 417, 420, 422, 425, 432, 439, 442, 444, 445, 446, 447, 448, 451, 453, 455, 458, 459, 463, 466, 468, 476, 481, 482, 485, 486, 489, 492, 494, 495, 497, 500, 502, 503, 509, 510, 516, 523, 527, 529, 533, 537, 540, 542, 544, 545, 551, 552, 555, 557, 560, 561, 570, 572, 575, 577, 579, 580, 581, 586, 593, 596, 597, 601, 602, 603, 605, 607, 612, 613, 614, 615, 617, 620, 621, 625, 626, 627, 629, 631, 638, 647, 650, 651, 654, 656, 658, 660, 664, 665, 667, 670, 672, 682, 684, 685, 686, 689, 690, 692, 696, 700, 704, 714, 730, 734, 735, 737, 738, 739, 740, 741, 742, 743, 747, 748, 750, 752, 759, 761, 763, 765, 768, 772, 776, 782, 783, 788, 796, 797, 801, 842], '404_not_found': [4, 31, 80, 91, 152, 180, 226, 258, 270, 291, 308, 371, 397, 437, 504, 512, 521, 546, 719, 785, 789, 791, 880, 882, 883, 902, 917, 1125, 1240, 1420, 1433, 1458, 1472, 1478, 1486, 1503, 1517, 1677, 1713, 1720, 1730, 1842, 1955, 1957, 1983, 2020, 2036, 2046, 2071, 2134, 2162, 2224, 2260, 2271, 2283, 2358, 2403, 2409, 2411], 'element_not_found': [30, 36, 133, 178, 185, 195, 196, 218, 234, 237, 253, 266, 290, 303, 355, 362, 372, 378, 385, 402, 456, 490, 547, 622, 628, 648, 676, 683, 699, 753, 769, 777, 787, 815, 843, 844, 875, 893, 910, 911, 913, 992, 1008, 1020, 1030, 1042, 1089, 1112, 1127, 1148, 1157, 1184, 1188, 1194, 1196, 1206, 1211, 1220, 1234, 1282, 1321, 1335, 1339, 1347, 1368, 1372, 1375, 1390, 1391, 1407, 1413, 1428, 1438, 1484, 1513, 1532, 1556, 1571, 1592, 1593, 1648, 1679, 1682, 1703, 1706, 1753, 1781, 1791, 1795, 1815, 1823, 1824, 1853, 1856, 1878, 1883, 1887, 1905, 1910, 1913, 1932, 1933, 1965, 1971, 1982, 1987, 2003, 2004, 2009, 2019, 2099, 2118, 2158, 2202, 2212, 2228, 2236, 2239, 2241, 2262, 2297, 2298, 2301, 2304, 2329, 2353, 2363, 2381, 2385], 'incorrect_url': [871, 965, 1023, 1041, 1091, 1293, 1379, 1395, 1460, 1522, 1610, 1727, 1745, 1785, 1833, 1872, 1904, 1934, 2042, 2138, 2154, 2214, 2251, 2255, 2289, 2315, 2350, 2391], 'wrong_domain': [862, 892, 909, 980, 1004, 1034, 1051, 1054, 1067, 1152, 1153, 1177, 1185, 1186, 1200, 1231, 1245, 1262, 1365, 1369, 1431, 1461, 1482, 1527, 1577, 1636, 1651, 1666, 1675, 1770, 1827, 1855, 2005, 2008, 2026, 2051, 2063, 2079, 2108, 2110, 2116, 2131, 2137, 2181, 2184, 2199, 2250, 2294, 2348]}\n"
     ]
    }
   ],
   "source": [
    "get_ordered_values = itemgetter('row_num', 'value')\n",
    "ordered_errors = list(map(get_ordered_values, error_urls))\n",
    "ordered_errors = sorted(ordered_errors, key=lambda x: x[1])\n",
    "\n",
    "detailed_errors_info = {\n",
    "    key: list(g[0] for g in group)\n",
    "    for key, group in groupby(ordered_errors, key=lambda x: x[1])\n",
    "}\n",
    "print(detailed_errors_info)"
   ]
  },
  {
   "cell_type": "code",
   "execution_count": 68,
   "metadata": {},
   "outputs": [
    {
     "name": "stdout",
     "output_type": "stream",
     "text": [
      "**Processing results**\n",
      "Processed URLs count: 2420\n",
      "Parsed URLs count: 1873\n",
      "Errors\n",
      "403_forbidden: 282\n",
      "404_not_found: 59\n",
      "element_not_found: 129\n",
      "incorrect_url: 28\n",
      "wrong_domain: 49\n",
      "{'403_forbidden': [1, 5, 8, 12, 14, 16, 20, 21, 22, 33, 35, 37, 42, 43, 48, 53, 56, 63, 64, 66, 70, 71, 74, 76, 82, 83, 85, 92, 93, 96, 97, 101, 103, 104, 105, 106, 107, 109, 110, 112, 115, 116, 117, 118, 119, 123, 125, 126, 127, 129, 131, 132, 134, 136, 138, 139, 140, 142, 146, 147, 151, 153, 155, 160, 167, 168, 173, 175, 183, 189, 190, 191, 192, 194, 200, 203, 206, 207, 211, 214, 215, 216, 220, 222, 223, 228, 229, 232, 235, 240, 241, 244, 245, 249, 250, 254, 255, 256, 257, 260, 262, 264, 265, 268, 269, 271, 272, 275, 277, 278, 283, 285, 286, 288, 289, 295, 296, 297, 301, 306, 311, 325, 327, 329, 337, 342, 346, 347, 348, 349, 353, 356, 363, 366, 373, 374, 379, 380, 381, 386, 388, 389, 396, 400, 406, 407, 409, 410, 412, 413, 414, 417, 420, 422, 425, 432, 439, 442, 444, 445, 446, 447, 448, 451, 453, 455, 458, 459, 463, 466, 468, 476, 481, 482, 485, 486, 489, 492, 494, 495, 497, 500, 502, 503, 509, 510, 516, 523, 527, 529, 533, 537, 540, 542, 544, 545, 551, 552, 555, 557, 560, 561, 570, 572, 575, 577, 579, 580, 581, 586, 593, 596, 597, 601, 602, 603, 605, 607, 612, 613, 614, 615, 617, 620, 621, 625, 626, 627, 629, 631, 638, 647, 650, 651, 654, 656, 658, 660, 664, 665, 667, 670, 672, 682, 684, 685, 686, 689, 690, 692, 696, 700, 704, 714, 730, 734, 735, 737, 738, 739, 740, 741, 742, 743, 747, 748, 750, 752, 759, 761, 763, 765, 768, 772, 776, 782, 783, 788, 796, 797, 801, 842], '404_not_found': [4, 31, 80, 91, 152, 180, 226, 258, 270, 291, 308, 371, 397, 437, 504, 512, 521, 546, 719, 785, 789, 791, 880, 882, 883, 902, 917, 1125, 1240, 1420, 1433, 1458, 1472, 1478, 1486, 1503, 1517, 1677, 1713, 1720, 1730, 1842, 1955, 1957, 1983, 2020, 2036, 2046, 2071, 2134, 2162, 2224, 2260, 2271, 2283, 2358, 2403, 2409, 2411], 'element_not_found': [30, 36, 133, 178, 185, 195, 196, 218, 234, 237, 253, 266, 290, 303, 355, 362, 372, 378, 385, 402, 456, 490, 547, 622, 628, 648, 676, 683, 699, 753, 769, 777, 787, 815, 843, 844, 875, 893, 910, 911, 913, 992, 1008, 1020, 1030, 1042, 1089, 1112, 1127, 1148, 1157, 1184, 1188, 1194, 1196, 1206, 1211, 1220, 1234, 1282, 1321, 1335, 1339, 1347, 1368, 1372, 1375, 1390, 1391, 1407, 1413, 1428, 1438, 1484, 1513, 1532, 1556, 1571, 1592, 1593, 1648, 1679, 1682, 1703, 1706, 1753, 1781, 1791, 1795, 1815, 1823, 1824, 1853, 1856, 1878, 1883, 1887, 1905, 1910, 1913, 1932, 1933, 1965, 1971, 1982, 1987, 2003, 2004, 2009, 2019, 2099, 2118, 2158, 2202, 2212, 2228, 2236, 2239, 2241, 2262, 2297, 2298, 2301, 2304, 2329, 2353, 2363, 2381, 2385], 'incorrect_url': [871, 965, 1023, 1041, 1091, 1293, 1379, 1395, 1460, 1522, 1610, 1727, 1745, 1785, 1833, 1872, 1904, 1934, 2042, 2138, 2154, 2214, 2251, 2255, 2289, 2315, 2350, 2391], 'wrong_domain': [862, 892, 909, 980, 1004, 1034, 1051, 1054, 1067, 1152, 1153, 1177, 1185, 1186, 1200, 1231, 1245, 1262, 1365, 1369, 1431, 1461, 1482, 1527, 1577, 1636, 1651, 1666, 1675, 1770, 1827, 1855, 2005, 2008, 2026, 2051, 2063, 2079, 2108, 2110, 2116, 2131, 2137, 2181, 2184, 2199, 2250, 2294, 2348]}\n"
     ]
    }
   ],
   "source": [
    "PROCESSING_STATS_FILE = '/home/jupyter/data/url_processing_stats.json'\n",
    "\n",
    "report = {}\n",
    "\n",
    "with open(PROCESSING_STATS_FILE) as f:\n",
    "    report = json.loads(f.read())\n",
    "    \n",
    "print(report['summary'])\n",
    "print(report['detailed'])"
   ]
  },
  {
   "cell_type": "code",
   "execution_count": null,
   "metadata": {},
   "outputs": [],
   "source": []
  }
 ],
 "metadata": {
  "kernelspec": {
   "display_name": "py37",
   "language": "python",
   "name": "py37"
  },
  "language_info": {
   "codemirror_mode": {
    "name": "ipython",
    "version": 3
   },
   "file_extension": ".py",
   "mimetype": "text/x-python",
   "name": "python",
   "nbconvert_exporter": "python",
   "pygments_lexer": "ipython3",
   "version": "3.7.7"
  }
 },
 "nbformat": 4,
 "nbformat_minor": 4
}
